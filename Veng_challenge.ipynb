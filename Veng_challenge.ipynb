{
  "nbformat": 4,
  "nbformat_minor": 0,
  "metadata": {
    "colab": {
      "name": "Veng challenge.ipynb",
      "provenance": [],
      "collapsed_sections": [
        "Eca9dBosx285",
        "6rIPrmOnGEi9",
        "NEZvKmhZqB3V",
        "NOCkjoXqmN1E"
      ]
    },
    "kernelspec": {
      "name": "python3",
      "display_name": "Python 3"
    },
    "language_info": {
      "name": "python"
    }
  },
  "cells": [
    {
      "cell_type": "markdown",
      "source": [
        "<h1><center><b>Bank Marketing</b></center></h1>"
      ],
      "metadata": {
        "id": "miX011It5LHG"
      }
    },
    {
      "cell_type": "markdown",
      "source": [
        "**Resumen**\n",
        "\n",
        "Una institucion bancaria de portugal ha realizado campañas de marketing entre los años 2008 y 2013 donde tuvo algunos registros que demuestran la falta de \n",
        "interes por parte del publico.\n",
        "El objetivo fue ofrecer suscripciones a depositos bancarios a los receptores por via telefonica, esta actividad se conoce como \"telemarketing\".\n",
        "\n",
        "Dado que, el 88% de las ofertas o promociones realizadas no tuvieron exito, surgio una necesidad de segmentar al publico a contactar para prevenir las siguientes desventajas del telemarketing:\n",
        "* Puede influir negativamente en la reputacion de la compañia si no se aplica adecuadamente.\n",
        "* Interrumpe actividades en la vida del receptor.\n",
        "* Las llamadas masivas acumulan costos.\n",
        "* Hay probabilidad de que un cliente corte los servicios/contratos que tiene con la institucion.\n"
      ],
      "metadata": {
        "id": "uoW4lYE_iAbb"
      }
    },
    {
      "cell_type": "markdown",
      "source": [
        "La solucion propuesta es desarrollar un software (programa) que discrimine a los posibles casos de exito del resto de personas.\n",
        "\n",
        "Los requisitos para iniciar es disponer de la informacion recopilada durante las campañas.\n",
        "\n",
        "El proceso se divide en 4 pasos:\n",
        "* Analisis de datos (EDA)\n",
        "* Procesamiento de datos (transformaciones necesarias para el siguiente paso)\n",
        "* Desarrollo de modelos predictivos (Machine learning)\n",
        "* Seleccion de modelo (segun la/s metrica/s seleccionadas)"
      ],
      "metadata": {
        "id": "aj8Nmznp8AEc"
      }
    },
    {
      "cell_type": "markdown",
      "source": [
        "La institucion ha publicado los registros de las campañas en el siguiente link:\n",
        "https://archive.ics.uci.edu/ml/datasets/Bank+Marketing\n",
        "\n",
        "El dataset (conjunto de datos) esta compuesto por 4 archivos csv.\n",
        "\n",
        "* bank.csv -> es una fraccion del dataset bank-full.csv\n",
        "* bank-full.csv -> contiene informacion del cliente y de campañas anteriores\n",
        "* bank-additional.csv -> es una fraccion del dataset bank-additional-full.csv\n",
        "* bank-additional-full.csv -> contiene informacion del cliente, de campañas anteriores y datos socio-economicos"
      ],
      "metadata": {
        "id": "bZSiL7WE7qaT"
      }
    },
    {
      "cell_type": "markdown",
      "source": [
        "En principio habia 1 solo dataset, el bank-full.csv pero el personal de la institucion ha intentado resolver la problematica agregando informacion adicional el dataset original.\n",
        "\n",
        "Asi es como se formo el dataset bank-additional-full.csv"
      ],
      "metadata": {
        "id": "YFys_xah-jDC"
      }
    },
    {
      "cell_type": "markdown",
      "source": [
        "Omitiendo las fracciones de datasets (bank.csv y bank-additional.csv), hay en disposicion 2 datasets para realizar el desarrollo de solucion.\n",
        "\n",
        "Cada uno de ellos tiene diferentes tamaños y distintas variables, sin embargo, tienen una variable en comun que es \"y\" la variable objetivo a predecir. Esto significa que es posible hacer un desarrollo para cada uno y seleccionar el modelo que tenga mejor resultado en las metricas.\n",
        "\n",
        "Esa es la forma en que procedera esta propuesta"
      ],
      "metadata": {
        "id": "fzWDVNbuAds9"
      }
    },
    {
      "cell_type": "markdown",
      "source": [
        "# **Librerias y funciones**"
      ],
      "metadata": {
        "id": "Eca9dBosx285"
      }
    },
    {
      "cell_type": "code",
      "source": [
        "#Importacion de librerias para visualizacion y transformacion de datos\n",
        "import pandas as pd, numpy as np, seaborn as sns, matplotlib.pyplot as plt\n",
        "\n",
        "#Funciones que grafican distribuciones de variables segun su tipo\n",
        "\n",
        "def distribucion_columna_categorica(datos,columna):\n",
        "    plt.figure(figsize=(23,6))\n",
        "    plt.title(\"Distribucion de \"+columna)\n",
        "    sns.countplot(datos[columna])\n",
        "    plt.show()\n",
        "\n",
        "    \n",
        "def distribucion_columna_numerica(datos,columna,mostrar_boxplot=False):\n",
        "    plt.figure(figsize=(23,6))\n",
        "    plt.title(\"Distribucion de \"+columna)\n",
        "    plt.hist(datos[columna],log=True)\n",
        "    plt.show()\n",
        "    \n",
        "    if mostrar_boxplot:\n",
        "        plt.figure(figsize=(23,6))\n",
        "        plt.title(\"Diagrama caja de \"+columna)\n",
        "        plt.boxplot(datos[columna])\n",
        "        plt.show()"
      ],
      "metadata": {
        "id": "PnxlhP3px10C"
      },
      "execution_count": 1,
      "outputs": []
    },
    {
      "cell_type": "markdown",
      "source": [
        "# **Desarrollo en Bank full**"
      ],
      "metadata": {
        "id": "6rIPrmOnGEi9"
      }
    },
    {
      "cell_type": "markdown",
      "source": [
        "**EDA (analisis de datos) en Bank full**"
      ],
      "metadata": {
        "id": "DKhfSwJeIHLo"
      }
    },
    {
      "cell_type": "code",
      "source": [
        "#Carga de datos\n",
        "\n",
        "df_bank_full = pd.read_csv(\"bank-full.csv\",delimiter=\";\")\n",
        "\n",
        "print(\"Dataset: Bank full\")\n",
        "print(\"=\"*64)\n",
        "print(\"Cantidad de datos faltantes: \"+str(sum(df_bank_full.isnull().sum())))\n",
        "print(\"Tamaño del dataset: \"+str(df_bank_full.shape))\n",
        "print(\"\")\n",
        "\n",
        "df_bank_full.head()"
      ],
      "metadata": {
        "colab": {
          "base_uri": "https://localhost:8080/",
          "height": 0
        },
        "id": "XBzB59hwWcGa",
        "outputId": "e266a922-330e-41b2-9b7e-4f4321327dbf"
      },
      "execution_count": 2,
      "outputs": [
        {
          "output_type": "stream",
          "name": "stdout",
          "text": [
            "Dataset: Bank full\n",
            "================================================================\n",
            "Cantidad de datos faltantes: 0\n",
            "Tamaño del dataset: (45211, 17)\n",
            "\n"
          ]
        },
        {
          "output_type": "execute_result",
          "data": {
            "text/plain": [
              "   age           job  marital  education default  balance housing loan  \\\n",
              "0   58    management  married   tertiary      no     2143     yes   no   \n",
              "1   44    technician   single  secondary      no       29     yes   no   \n",
              "2   33  entrepreneur  married  secondary      no        2     yes  yes   \n",
              "3   47   blue-collar  married    unknown      no     1506     yes   no   \n",
              "4   33       unknown   single    unknown      no        1      no   no   \n",
              "\n",
              "   contact  day month  duration  campaign  pdays  previous poutcome   y  \n",
              "0  unknown    5   may       261         1     -1         0  unknown  no  \n",
              "1  unknown    5   may       151         1     -1         0  unknown  no  \n",
              "2  unknown    5   may        76         1     -1         0  unknown  no  \n",
              "3  unknown    5   may        92         1     -1         0  unknown  no  \n",
              "4  unknown    5   may       198         1     -1         0  unknown  no  "
            ],
            "text/html": [
              "\n",
              "  <div id=\"df-40582068-fe97-434b-a3ae-cf800b141183\">\n",
              "    <div class=\"colab-df-container\">\n",
              "      <div>\n",
              "<style scoped>\n",
              "    .dataframe tbody tr th:only-of-type {\n",
              "        vertical-align: middle;\n",
              "    }\n",
              "\n",
              "    .dataframe tbody tr th {\n",
              "        vertical-align: top;\n",
              "    }\n",
              "\n",
              "    .dataframe thead th {\n",
              "        text-align: right;\n",
              "    }\n",
              "</style>\n",
              "<table border=\"1\" class=\"dataframe\">\n",
              "  <thead>\n",
              "    <tr style=\"text-align: right;\">\n",
              "      <th></th>\n",
              "      <th>age</th>\n",
              "      <th>job</th>\n",
              "      <th>marital</th>\n",
              "      <th>education</th>\n",
              "      <th>default</th>\n",
              "      <th>balance</th>\n",
              "      <th>housing</th>\n",
              "      <th>loan</th>\n",
              "      <th>contact</th>\n",
              "      <th>day</th>\n",
              "      <th>month</th>\n",
              "      <th>duration</th>\n",
              "      <th>campaign</th>\n",
              "      <th>pdays</th>\n",
              "      <th>previous</th>\n",
              "      <th>poutcome</th>\n",
              "      <th>y</th>\n",
              "    </tr>\n",
              "  </thead>\n",
              "  <tbody>\n",
              "    <tr>\n",
              "      <th>0</th>\n",
              "      <td>58</td>\n",
              "      <td>management</td>\n",
              "      <td>married</td>\n",
              "      <td>tertiary</td>\n",
              "      <td>no</td>\n",
              "      <td>2143</td>\n",
              "      <td>yes</td>\n",
              "      <td>no</td>\n",
              "      <td>unknown</td>\n",
              "      <td>5</td>\n",
              "      <td>may</td>\n",
              "      <td>261</td>\n",
              "      <td>1</td>\n",
              "      <td>-1</td>\n",
              "      <td>0</td>\n",
              "      <td>unknown</td>\n",
              "      <td>no</td>\n",
              "    </tr>\n",
              "    <tr>\n",
              "      <th>1</th>\n",
              "      <td>44</td>\n",
              "      <td>technician</td>\n",
              "      <td>single</td>\n",
              "      <td>secondary</td>\n",
              "      <td>no</td>\n",
              "      <td>29</td>\n",
              "      <td>yes</td>\n",
              "      <td>no</td>\n",
              "      <td>unknown</td>\n",
              "      <td>5</td>\n",
              "      <td>may</td>\n",
              "      <td>151</td>\n",
              "      <td>1</td>\n",
              "      <td>-1</td>\n",
              "      <td>0</td>\n",
              "      <td>unknown</td>\n",
              "      <td>no</td>\n",
              "    </tr>\n",
              "    <tr>\n",
              "      <th>2</th>\n",
              "      <td>33</td>\n",
              "      <td>entrepreneur</td>\n",
              "      <td>married</td>\n",
              "      <td>secondary</td>\n",
              "      <td>no</td>\n",
              "      <td>2</td>\n",
              "      <td>yes</td>\n",
              "      <td>yes</td>\n",
              "      <td>unknown</td>\n",
              "      <td>5</td>\n",
              "      <td>may</td>\n",
              "      <td>76</td>\n",
              "      <td>1</td>\n",
              "      <td>-1</td>\n",
              "      <td>0</td>\n",
              "      <td>unknown</td>\n",
              "      <td>no</td>\n",
              "    </tr>\n",
              "    <tr>\n",
              "      <th>3</th>\n",
              "      <td>47</td>\n",
              "      <td>blue-collar</td>\n",
              "      <td>married</td>\n",
              "      <td>unknown</td>\n",
              "      <td>no</td>\n",
              "      <td>1506</td>\n",
              "      <td>yes</td>\n",
              "      <td>no</td>\n",
              "      <td>unknown</td>\n",
              "      <td>5</td>\n",
              "      <td>may</td>\n",
              "      <td>92</td>\n",
              "      <td>1</td>\n",
              "      <td>-1</td>\n",
              "      <td>0</td>\n",
              "      <td>unknown</td>\n",
              "      <td>no</td>\n",
              "    </tr>\n",
              "    <tr>\n",
              "      <th>4</th>\n",
              "      <td>33</td>\n",
              "      <td>unknown</td>\n",
              "      <td>single</td>\n",
              "      <td>unknown</td>\n",
              "      <td>no</td>\n",
              "      <td>1</td>\n",
              "      <td>no</td>\n",
              "      <td>no</td>\n",
              "      <td>unknown</td>\n",
              "      <td>5</td>\n",
              "      <td>may</td>\n",
              "      <td>198</td>\n",
              "      <td>1</td>\n",
              "      <td>-1</td>\n",
              "      <td>0</td>\n",
              "      <td>unknown</td>\n",
              "      <td>no</td>\n",
              "    </tr>\n",
              "  </tbody>\n",
              "</table>\n",
              "</div>\n",
              "      <button class=\"colab-df-convert\" onclick=\"convertToInteractive('df-40582068-fe97-434b-a3ae-cf800b141183')\"\n",
              "              title=\"Convert this dataframe to an interactive table.\"\n",
              "              style=\"display:none;\">\n",
              "        \n",
              "  <svg xmlns=\"http://www.w3.org/2000/svg\" height=\"24px\"viewBox=\"0 0 24 24\"\n",
              "       width=\"24px\">\n",
              "    <path d=\"M0 0h24v24H0V0z\" fill=\"none\"/>\n",
              "    <path d=\"M18.56 5.44l.94 2.06.94-2.06 2.06-.94-2.06-.94-.94-2.06-.94 2.06-2.06.94zm-11 1L8.5 8.5l.94-2.06 2.06-.94-2.06-.94L8.5 2.5l-.94 2.06-2.06.94zm10 10l.94 2.06.94-2.06 2.06-.94-2.06-.94-.94-2.06-.94 2.06-2.06.94z\"/><path d=\"M17.41 7.96l-1.37-1.37c-.4-.4-.92-.59-1.43-.59-.52 0-1.04.2-1.43.59L10.3 9.45l-7.72 7.72c-.78.78-.78 2.05 0 2.83L4 21.41c.39.39.9.59 1.41.59.51 0 1.02-.2 1.41-.59l7.78-7.78 2.81-2.81c.8-.78.8-2.07 0-2.86zM5.41 20L4 18.59l7.72-7.72 1.47 1.35L5.41 20z\"/>\n",
              "  </svg>\n",
              "      </button>\n",
              "      \n",
              "  <style>\n",
              "    .colab-df-container {\n",
              "      display:flex;\n",
              "      flex-wrap:wrap;\n",
              "      gap: 12px;\n",
              "    }\n",
              "\n",
              "    .colab-df-convert {\n",
              "      background-color: #E8F0FE;\n",
              "      border: none;\n",
              "      border-radius: 50%;\n",
              "      cursor: pointer;\n",
              "      display: none;\n",
              "      fill: #1967D2;\n",
              "      height: 32px;\n",
              "      padding: 0 0 0 0;\n",
              "      width: 32px;\n",
              "    }\n",
              "\n",
              "    .colab-df-convert:hover {\n",
              "      background-color: #E2EBFA;\n",
              "      box-shadow: 0px 1px 2px rgba(60, 64, 67, 0.3), 0px 1px 3px 1px rgba(60, 64, 67, 0.15);\n",
              "      fill: #174EA6;\n",
              "    }\n",
              "\n",
              "    [theme=dark] .colab-df-convert {\n",
              "      background-color: #3B4455;\n",
              "      fill: #D2E3FC;\n",
              "    }\n",
              "\n",
              "    [theme=dark] .colab-df-convert:hover {\n",
              "      background-color: #434B5C;\n",
              "      box-shadow: 0px 1px 3px 1px rgba(0, 0, 0, 0.15);\n",
              "      filter: drop-shadow(0px 1px 2px rgba(0, 0, 0, 0.3));\n",
              "      fill: #FFFFFF;\n",
              "    }\n",
              "  </style>\n",
              "\n",
              "      <script>\n",
              "        const buttonEl =\n",
              "          document.querySelector('#df-40582068-fe97-434b-a3ae-cf800b141183 button.colab-df-convert');\n",
              "        buttonEl.style.display =\n",
              "          google.colab.kernel.accessAllowed ? 'block' : 'none';\n",
              "\n",
              "        async function convertToInteractive(key) {\n",
              "          const element = document.querySelector('#df-40582068-fe97-434b-a3ae-cf800b141183');\n",
              "          const dataTable =\n",
              "            await google.colab.kernel.invokeFunction('convertToInteractive',\n",
              "                                                     [key], {});\n",
              "          if (!dataTable) return;\n",
              "\n",
              "          const docLinkHtml = 'Like what you see? Visit the ' +\n",
              "            '<a target=\"_blank\" href=https://colab.research.google.com/notebooks/data_table.ipynb>data table notebook</a>'\n",
              "            + ' to learn more about interactive tables.';\n",
              "          element.innerHTML = '';\n",
              "          dataTable['output_type'] = 'display_data';\n",
              "          await google.colab.output.renderOutput(dataTable, element);\n",
              "          const docLink = document.createElement('div');\n",
              "          docLink.innerHTML = docLinkHtml;\n",
              "          element.appendChild(docLink);\n",
              "        }\n",
              "      </script>\n",
              "    </div>\n",
              "  </div>\n",
              "  "
            ]
          },
          "metadata": {},
          "execution_count": 2
        }
      ]
    },
    {
      "cell_type": "markdown",
      "source": [
        "**Tipos de datos y su descripcion**\n",
        "\n",
        "age -> numerico continuo (edad del cliente)\n",
        "\n",
        "job -> categorico nominal (trabajo del cliente)\n",
        "\n",
        "marital -> categorico nominal (estado civil del cliente)\n",
        "\n",
        "education -> categorico nominal (nivel academico del cliente)\n",
        "\n",
        "default -> categorico binario (tiene credito en mora?, es un dato binario: no o yes)\n",
        "\n",
        "balance -> numerico continuo (saldo medio anual)\n",
        "\n",
        "housing -> categorico binario (tiene prestamo de vivienda?, es un dato binario: no o yes)\n",
        "\n",
        "loan -> categorico binario (tiene prestamo personal?, es un dato binario: no o yes)\n",
        "\n",
        "contact -> categorico nominal (tipo de comunicacion: celular, telefono)\n",
        "\n",
        "day -> numerico discreto (dia de la ultima fecha de contacto)\n",
        "\n",
        "month -> categorico ordinal (mes de la ultima fecha de contacto)\n",
        "\n",
        "duration -> numerico continuo (duracion de la ultima llamada de contacto, en segundos)\n",
        "\n",
        "campaign -> numerico continuo (cantidad de contactos realizados durante la campaña para cada cliente en particular)\n",
        "\n",
        "pdays -> numerico continuo (cantidad de dias pasados desde que el cliente fue contactado por ultima vez)\n",
        "\n",
        "previous -> numerico continuo (cantidad de contactos realizados antes de la campaña para cada cliente en particular)\n",
        "\n",
        "poutcome -> categorico nominal (resultado de la campaña anterior para cada cliente en particular, puede ser un caso de exito, caso fallido, etc)\n",
        "\n",
        "y -> categorico binario (el cliente se suscribio a un deposito?, es un dato binario: no o yes)"
      ],
      "metadata": {
        "id": "rv78dwNFpQ4F"
      }
    },
    {
      "cell_type": "markdown",
      "source": [
        "A continuacion seran expuestas las hipotesis que podrian aportar informacion relevante para la solucion"
      ],
      "metadata": {
        "id": "Ie64frnAHWw4"
      }
    },
    {
      "cell_type": "markdown",
      "source": [
        "1) Los clientes con los que han tenido exito en la campaña anterior tienen mayor probabilidad de suscribirse a un deposito.\n",
        "\n",
        "El siguiente grafico muestra la distribucion de \"y\" despues de filtrar los registros donde \"poutcome\" es igual a \"success\"."
      ],
      "metadata": {
        "id": "1P3tAsSuI9vR"
      }
    },
    {
      "cell_type": "code",
      "source": [
        "mask = df_bank_full[\"poutcome\"] == \"success\"\n",
        "df_bank_filtered = df_bank_full[mask].copy()\n",
        "porcentaje = sum(df_bank_filtered[\"y\"] == \"yes\")/df_bank_filtered.shape[0]\n",
        "porcentaje *= 100\n",
        "print(\"El \"+str(round(porcentaje,2))+\"% se suscribio a un deposito\")\n",
        "distribucion_columna_categorica(df_bank_filtered,\"y\")"
      ],
      "metadata": {
        "colab": {
          "base_uri": "https://localhost:8080/",
          "height": 0
        },
        "id": "R4cXWivzC59X",
        "outputId": "66765c05-421b-449c-b624-12faeee45286"
      },
      "execution_count": 3,
      "outputs": [
        {
          "output_type": "stream",
          "name": "stdout",
          "text": [
            "El 64.73% se suscribio a un deposito\n"
          ]
        },
        {
          "output_type": "stream",
          "name": "stderr",
          "text": [
            "/usr/local/lib/python3.7/dist-packages/seaborn/_decorators.py:43: FutureWarning: Pass the following variable as a keyword arg: x. From version 0.12, the only valid positional argument will be `data`, and passing other arguments without an explicit keyword will result in an error or misinterpretation.\n",
            "  FutureWarning\n"
          ]
        },
        {
          "output_type": "display_data",
          "data": {
            "text/plain": [
              "<Figure size 1656x432 with 1 Axes>"
            ],
            "image/png": "[encoded data removed]"
          },
          "metadata": {
            "needs_background": "light"
          }
        }
      ]
    },
    {
      "cell_type": "markdown",
      "source": [
        "Los casos positivos en \"y\" agrupan el 11% del dataset."
      ],
      "metadata": {
        "id": "Ia0fbI5-MiMr"
      }
    },
    {
      "cell_type": "code",
      "source": [
        "mask = (df_bank_full[\"y\"] == \"yes\")\n",
        "porcentaje = (sum(mask)/df_bank_full.shape[0])*100\n",
        "print(\"El porcentaje de casos positivos en 'y' es : \"+str(round(porcentaje,2))+\"%\")"
      ],
      "metadata": {
        "colab": {
          "base_uri": "https://localhost:8080/"
        },
        "id": "PfnEDJyzMleY",
        "outputId": "5343b1db-7457-4fb7-8b99-6777a4d7388d"
      },
      "execution_count": 4,
      "outputs": [
        {
          "output_type": "stream",
          "name": "stdout",
          "text": [
            "El porcentaje de casos positivos en 'y' es : 11.7%\n"
          ]
        }
      ]
    },
    {
      "cell_type": "markdown",
      "source": [
        "De ese 11% hay un 2% que corresponde a los clientes con los que tuvieron exito en la campaña anterior"
      ],
      "metadata": {
        "id": "-_LCXb4CNF4W"
      }
    },
    {
      "cell_type": "code",
      "source": [
        "mask = (df_bank_full[\"poutcome\"] == \"success\") & (df_bank_full[\"y\"] == \"yes\")\n",
        "porcentaje = (sum(mask)/df_bank_full.shape[0])*100\n",
        "print(\"El porcentaje es : \"+str(round(porcentaje,2))+\"%\")"
      ],
      "metadata": {
        "colab": {
          "base_uri": "https://localhost:8080/"
        },
        "id": "ZUZbBZ8bNFMS",
        "outputId": "78741465-2f7b-4ce2-fe18-0fc239871a4e"
      },
      "execution_count": 5,
      "outputs": [
        {
          "output_type": "stream",
          "name": "stdout",
          "text": [
            "El porcentaje es : 2.16%\n"
          ]
        }
      ]
    },
    {
      "cell_type": "markdown",
      "source": [
        "2) Las llamadas con duracion mayor a 500 segundos (8 min y 30 seg) tienen mayor probabiliad de concluir en una suscripcion.\n",
        "\n",
        "El dataset fue dividido en 2 partes, una corresponde a los registros donde \"y\" es igual a \"yes\" y otro donde \"y\" es igual a \"no\""
      ],
      "metadata": {
        "id": "qUSoONHoRMCt"
      }
    },
    {
      "cell_type": "code",
      "source": [
        "mask = df_bank_full[\"y\"] == \"yes\"\n",
        "df_bank_y_yes = df_bank_full[mask].copy()\n",
        "\n",
        "mask = df_bank_full[\"y\"] == \"no\"\n",
        "df_bank_y_no = df_bank_full[mask].copy()"
      ],
      "metadata": {
        "id": "RCdaTtRFgw8B"
      },
      "execution_count": 6,
      "outputs": []
    },
    {
      "cell_type": "code",
      "source": [
        "columna = \"duration\"\n",
        "print(\"Cluster yes\")\n",
        "distribucion_columna_numerica(df_bank_y_yes,columna)\n",
        "print(\"Cluster no\")\n",
        "distribucion_columna_numerica(df_bank_y_no,columna)"
      ],
      "metadata": {
        "colab": {
          "base_uri": "https://localhost:8080/",
          "height": 0
        },
        "id": "TSkXap9pO6_6",
        "outputId": "33f30418-1f6d-4a83-d27b-9e6445ce97e6"
      },
      "execution_count": 7,
      "outputs": [
        {
          "output_type": "stream",
          "name": "stdout",
          "text": [
            "Cluster yes\n"
          ]
        },
        {
          "output_type": "display_data",
          "data": {
            "text/plain": [
              "<Figure size 1656x432 with 1 Axes>"
            ],
            "image/png": "[encoded data removed]"
          },
          "metadata": {
            "needs_background": "light"
          }
        },
        {
          "output_type": "stream",
          "name": "stdout",
          "text": [
            "Cluster no\n"
          ]
        },
        {
          "output_type": "display_data",
          "data": {
            "text/plain": [
              "<Figure size 1656x432 with 1 Axes>"
            ],
            "image/png": "[encoded data removed]"
          },
          "metadata": {
            "needs_background": "light"
          }
        }
      ]
    },
    {
      "cell_type": "markdown",
      "source": [
        "Los casos positivos en \"y\" agrupan el 11% del dataset."
      ],
      "metadata": {
        "id": "Yvj7hEJ7hirj"
      }
    },
    {
      "cell_type": "code",
      "source": [
        "mask = (df_bank_full[\"y\"] == \"yes\")\n",
        "porcentaje = (sum(mask)/df_bank_full.shape[0])*100\n",
        "print(\"El porcentaje de casos positivos en 'y' es : \"+str(round(porcentaje,2))+\"%\")"
      ],
      "metadata": {
        "colab": {
          "base_uri": "https://localhost:8080/"
        },
        "id": "TcS64QIWhktz",
        "outputId": "d0492906-5f01-4084-fb20-799a67c78298"
      },
      "execution_count": 8,
      "outputs": [
        {
          "output_type": "stream",
          "name": "stdout",
          "text": [
            "El porcentaje de casos positivos en 'y' es : 11.7%\n"
          ]
        }
      ]
    },
    {
      "cell_type": "markdown",
      "source": [
        "De ese 11% hay un 5% que corresponde a los clientes con los que tuvieron mas de 500 segundos de duracion en el contacto"
      ],
      "metadata": {
        "id": "4a3YtJK4hiFh"
      }
    },
    {
      "cell_type": "code",
      "source": [
        "mask = (df_bank_full[\"duration\"] > 500) & (df_bank_full[\"y\"] == \"yes\")\n",
        "porcentaje = (sum(mask)/df_bank_full.shape[0])*100\n",
        "print(\"El porcentaje es : \"+str(round(porcentaje,2))+\"%\")"
      ],
      "metadata": {
        "colab": {
          "base_uri": "https://localhost:8080/"
        },
        "id": "fmesSTtchBXi",
        "outputId": "52cd6e2c-70c2-427c-b2a0-67eca4083bed"
      },
      "execution_count": 9,
      "outputs": [
        {
          "output_type": "stream",
          "name": "stdout",
          "text": [
            "El porcentaje es : 5.04%\n"
          ]
        }
      ]
    },
    {
      "cell_type": "markdown",
      "source": [
        "3) Los clientes que NO tienen prestamo de vivienda tienen mas probabilidad de concluir una suscripcion a deposito.\n",
        "\n",
        "La diferencia entre los graficos de abajo es la moda de cada distribucion, en el cluster \"yes\" la moda es \"no\", en el cluster \"no\" la moda es \"yes\""
      ],
      "metadata": {
        "id": "8vaCzgmJiAzs"
      }
    },
    {
      "cell_type": "code",
      "source": [
        "columna = \"housing\"\n",
        "print(\"Cluster yes\")\n",
        "distribucion_columna_categorica(df_bank_y_yes,columna)\n",
        "print(\"Cluster no\")\n",
        "distribucion_columna_categorica(df_bank_y_no,columna)"
      ],
      "metadata": {
        "colab": {
          "base_uri": "https://localhost:8080/",
          "height": 0
        },
        "id": "3Kdo03y4OLXI",
        "outputId": "fa34579c-bf76-45ef-ced8-20e6be044d3a"
      },
      "execution_count": 10,
      "outputs": [
        {
          "output_type": "stream",
          "name": "stdout",
          "text": [
            "Cluster yes\n"
          ]
        },
        {
          "output_type": "stream",
          "name": "stderr",
          "text": [
            "/usr/local/lib/python3.7/dist-packages/seaborn/_decorators.py:43: FutureWarning: Pass the following variable as a keyword arg: x. From version 0.12, the only valid positional argument will be `data`, and passing other arguments without an explicit keyword will result in an error or misinterpretation.\n",
            "  FutureWarning\n"
          ]
        },
        {
          "output_type": "display_data",
          "data": {
            "text/plain": [
              "<Figure size 1656x432 with 1 Axes>"
            ],
            "image/png": "[encoded data removed]"
          },
          "metadata": {
            "needs_background": "light"
          }
        },
        {
          "output_type": "stream",
          "name": "stdout",
          "text": [
            "Cluster no\n"
          ]
        },
        {
          "output_type": "stream",
          "name": "stderr",
          "text": [
            "/usr/local/lib/python3.7/dist-packages/seaborn/_decorators.py:43: FutureWarning: Pass the following variable as a keyword arg: x. From version 0.12, the only valid positional argument will be `data`, and passing other arguments without an explicit keyword will result in an error or misinterpretation.\n",
            "  FutureWarning\n"
          ]
        },
        {
          "output_type": "display_data",
          "data": {
            "text/plain": [
              "<Figure size 1656x432 with 1 Axes>"
            ],
            "image/png": "[encoded data removed]"
          },
          "metadata": {
            "needs_background": "light"
          }
        }
      ]
    },
    {
      "cell_type": "markdown",
      "source": [
        "Los casos positivos en \"y\" agrupan el 11% del dataset."
      ],
      "metadata": {
        "id": "BuijU84pibKO"
      }
    },
    {
      "cell_type": "code",
      "source": [
        "mask = (df_bank_full[\"y\"] == \"yes\")\n",
        "porcentaje = (sum(mask)/df_bank_full.shape[0])*100\n",
        "print(\"El porcentaje de casos positivos en 'y' es : \"+str(round(porcentaje,2))+\"%\")"
      ],
      "metadata": {
        "colab": {
          "base_uri": "https://localhost:8080/"
        },
        "id": "4xIdcZddicib",
        "outputId": "11fc4021-6886-4646-c360-998ca4fa68c8"
      },
      "execution_count": 11,
      "outputs": [
        {
          "output_type": "stream",
          "name": "stdout",
          "text": [
            "El porcentaje de casos positivos en 'y' es : 11.7%\n"
          ]
        }
      ]
    },
    {
      "cell_type": "markdown",
      "source": [
        "De ese 11% hay un 7.4% que corresponde a los clientes que NO tienen prestamos de vivienda"
      ],
      "metadata": {
        "id": "UOwINjChiog5"
      }
    },
    {
      "cell_type": "code",
      "source": [
        "mask = (df_bank_full[\"housing\"] == \"no\") & (df_bank_full[\"y\"] == \"yes\")\n",
        "porcentaje = (sum(mask)/df_bank_full.shape[0])*100\n",
        "print(\"El porcentaje es : \"+str(round(porcentaje,2))+\"%\")"
      ],
      "metadata": {
        "colab": {
          "base_uri": "https://localhost:8080/"
        },
        "id": "bIFjthHRioCt",
        "outputId": "29bed053-2dd9-4828-d5c3-2cf8c29d00ef"
      },
      "execution_count": 12,
      "outputs": [
        {
          "output_type": "stream",
          "name": "stdout",
          "text": [
            "El porcentaje es : 7.42%\n"
          ]
        }
      ]
    },
    {
      "cell_type": "markdown",
      "source": [
        "**Procesamiento de datos en Bank full**"
      ],
      "metadata": {
        "id": "44jBH6FrmvnG"
      }
    },
    {
      "cell_type": "markdown",
      "source": [
        "Es verdad que algunas variable contienen valores faltantes como \"job\",\"education\",\"contact\" y \"poutcome\".\n",
        "\n",
        "Se identifican por la palabra \"unknown\".\n",
        "\n",
        "Sin embargo, no considero correcto reemplazar o imputar los valores faltantes en el dataset debido a las limitaciones que tiene:\n",
        "* Contiene informacion de 2008 a 2013, significa que es acotado y no representa a toda la base de datos de la institucion\n",
        "* Podria derivar hipotesis erroneas por falsedad de contenido\n",
        "* Las futuras campañas tendran probablemente los mismos valores discretos y la solucion tiene que ser robusta para todas las interpretaciones posibles"
      ],
      "metadata": {
        "id": "iayB-NTgoPSK"
      }
    },
    {
      "cell_type": "code",
      "source": [
        "print(\"Valores discretos en job\")\n",
        "print(df_bank_full[\"job\"].unique())\n",
        "print(\"\")\n",
        "print(\"Valores discretos en education\")\n",
        "print(df_bank_full[\"education\"].unique())\n",
        "print(\"\")\n",
        "print(\"Valores discretos en contact\")\n",
        "print(df_bank_full[\"contact\"].unique())\n",
        "print(\"\")\n",
        "print(\"Valores discretos en poutcome\")\n",
        "print(df_bank_full[\"poutcome\"].unique())"
      ],
      "metadata": {
        "colab": {
          "base_uri": "https://localhost:8080/"
        },
        "id": "pDJPdIOxnrbt",
        "outputId": "1b2bce9e-49e2-4b33-c9ec-b140b6083131"
      },
      "execution_count": 13,
      "outputs": [
        {
          "output_type": "stream",
          "name": "stdout",
          "text": [
            "Valores discretos en job\n",
            "['management' 'technician' 'entrepreneur' 'blue-collar' 'unknown'\n",
            " 'retired' 'admin.' 'services' 'self-employed' 'unemployed' 'housemaid'\n",
            " 'student']\n",
            "\n",
            "Valores discretos en education\n",
            "['tertiary' 'secondary' 'unknown' 'primary']\n",
            "\n",
            "Valores discretos en contact\n",
            "['unknown' 'cellular' 'telephone']\n",
            "\n",
            "Valores discretos en poutcome\n",
            "['unknown' 'failure' 'other' 'success']\n"
          ]
        }
      ]
    },
    {
      "cell_type": "code",
      "source": [
        "df_bank_full.head()"
      ],
      "metadata": {
        "colab": {
          "base_uri": "https://localhost:8080/",
          "height": 0
        },
        "id": "7HBriRfirF2s",
        "outputId": "7cc245e4-965a-4f7d-d2b8-f92ce91f3b6f"
      },
      "execution_count": 14,
      "outputs": [
        {
          "output_type": "execute_result",
          "data": {
            "text/plain": [
              "   age           job  marital  education default  balance housing loan  \\\n",
              "0   58    management  married   tertiary      no     2143     yes   no   \n",
              "1   44    technician   single  secondary      no       29     yes   no   \n",
              "2   33  entrepreneur  married  secondary      no        2     yes  yes   \n",
              "3   47   blue-collar  married    unknown      no     1506     yes   no   \n",
              "4   33       unknown   single    unknown      no        1      no   no   \n",
              "\n",
              "   contact  day month  duration  campaign  pdays  previous poutcome   y  \n",
              "0  unknown    5   may       261         1     -1         0  unknown  no  \n",
              "1  unknown    5   may       151         1     -1         0  unknown  no  \n",
              "2  unknown    5   may        76         1     -1         0  unknown  no  \n",
              "3  unknown    5   may        92         1     -1         0  unknown  no  \n",
              "4  unknown    5   may       198         1     -1         0  unknown  no  "
            ],
            "text/html": [
              "\n",
              "  <div id=\"df-55a6ec92-b447-47c3-b53d-ea4b1fa28314\">\n",
              "    <div class=\"colab-df-container\">\n",
              "      <div>\n",
              "<style scoped>\n",
              "    .dataframe tbody tr th:only-of-type {\n",
              "        vertical-align: middle;\n",
              "    }\n",
              "\n",
              "    .dataframe tbody tr th {\n",
              "        vertical-align: top;\n",
              "    }\n",
              "\n",
              "    .dataframe thead th {\n",
              "        text-align: right;\n",
              "    }\n",
              "</style>\n",
              "<table border=\"1\" class=\"dataframe\">\n",
              "  <thead>\n",
              "    <tr style=\"text-align: right;\">\n",
              "      <th></th>\n",
              "      <th>age</th>\n",
              "      <th>job</th>\n",
              "      <th>marital</th>\n",
              "      <th>education</th>\n",
              "      <th>default</th>\n",
              "      <th>balance</th>\n",
              "      <th>housing</th>\n",
              "      <th>loan</th>\n",
              "      <th>contact</th>\n",
              "      <th>day</th>\n",
              "      <th>month</th>\n",
              "      <th>duration</th>\n",
              "      <th>campaign</th>\n",
              "      <th>pdays</th>\n",
              "      <th>previous</th>\n",
              "      <th>poutcome</th>\n",
              "      <th>y</th>\n",
              "    </tr>\n",
              "  </thead>\n",
              "  <tbody>\n",
              "    <tr>\n",
              "      <th>0</th>\n",
              "      <td>58</td>\n",
              "      <td>management</td>\n",
              "      <td>married</td>\n",
              "      <td>tertiary</td>\n",
              "      <td>no</td>\n",
              "      <td>2143</td>\n",
              "      <td>yes</td>\n",
              "      <td>no</td>\n",
              "      <td>unknown</td>\n",
              "      <td>5</td>\n",
              "      <td>may</td>\n",
              "      <td>261</td>\n",
              "      <td>1</td>\n",
              "      <td>-1</td>\n",
              "      <td>0</td>\n",
              "      <td>unknown</td>\n",
              "      <td>no</td>\n",
              "    </tr>\n",
              "    <tr>\n",
              "      <th>1</th>\n",
              "      <td>44</td>\n",
              "      <td>technician</td>\n",
              "      <td>single</td>\n",
              "      <td>secondary</td>\n",
              "      <td>no</td>\n",
              "      <td>29</td>\n",
              "      <td>yes</td>\n",
              "      <td>no</td>\n",
              "      <td>unknown</td>\n",
              "      <td>5</td>\n",
              "      <td>may</td>\n",
              "      <td>151</td>\n",
              "      <td>1</td>\n",
              "      <td>-1</td>\n",
              "      <td>0</td>\n",
              "      <td>unknown</td>\n",
              "      <td>no</td>\n",
              "    </tr>\n",
              "    <tr>\n",
              "      <th>2</th>\n",
              "      <td>33</td>\n",
              "      <td>entrepreneur</td>\n",
              "      <td>married</td>\n",
              "      <td>secondary</td>\n",
              "      <td>no</td>\n",
              "      <td>2</td>\n",
              "      <td>yes</td>\n",
              "      <td>yes</td>\n",
              "      <td>unknown</td>\n",
              "      <td>5</td>\n",
              "      <td>may</td>\n",
              "      <td>76</td>\n",
              "      <td>1</td>\n",
              "      <td>-1</td>\n",
              "      <td>0</td>\n",
              "      <td>unknown</td>\n",
              "      <td>no</td>\n",
              "    </tr>\n",
              "    <tr>\n",
              "      <th>3</th>\n",
              "      <td>47</td>\n",
              "      <td>blue-collar</td>\n",
              "      <td>married</td>\n",
              "      <td>unknown</td>\n",
              "      <td>no</td>\n",
              "      <td>1506</td>\n",
              "      <td>yes</td>\n",
              "      <td>no</td>\n",
              "      <td>unknown</td>\n",
              "      <td>5</td>\n",
              "      <td>may</td>\n",
              "      <td>92</td>\n",
              "      <td>1</td>\n",
              "      <td>-1</td>\n",
              "      <td>0</td>\n",
              "      <td>unknown</td>\n",
              "      <td>no</td>\n",
              "    </tr>\n",
              "    <tr>\n",
              "      <th>4</th>\n",
              "      <td>33</td>\n",
              "      <td>unknown</td>\n",
              "      <td>single</td>\n",
              "      <td>unknown</td>\n",
              "      <td>no</td>\n",
              "      <td>1</td>\n",
              "      <td>no</td>\n",
              "      <td>no</td>\n",
              "      <td>unknown</td>\n",
              "      <td>5</td>\n",
              "      <td>may</td>\n",
              "      <td>198</td>\n",
              "      <td>1</td>\n",
              "      <td>-1</td>\n",
              "      <td>0</td>\n",
              "      <td>unknown</td>\n",
              "      <td>no</td>\n",
              "    </tr>\n",
              "  </tbody>\n",
              "</table>\n",
              "</div>\n",
              "      <button class=\"colab-df-convert\" onclick=\"convertToInteractive('df-55a6ec92-b447-47c3-b53d-ea4b1fa28314')\"\n",
              "              title=\"Convert this dataframe to an interactive table.\"\n",
              "              style=\"display:none;\">\n",
              "        \n",
              "  <svg xmlns=\"http://www.w3.org/2000/svg\" height=\"24px\"viewBox=\"0 0 24 24\"\n",
              "       width=\"24px\">\n",
              "    <path d=\"M0 0h24v24H0V0z\" fill=\"none\"/>\n",
              "    <path d=\"M18.56 5.44l.94 2.06.94-2.06 2.06-.94-2.06-.94-.94-2.06-.94 2.06-2.06.94zm-11 1L8.5 8.5l.94-2.06 2.06-.94-2.06-.94L8.5 2.5l-.94 2.06-2.06.94zm10 10l.94 2.06.94-2.06 2.06-.94-2.06-.94-.94-2.06-.94 2.06-2.06.94z\"/><path d=\"M17.41 7.96l-1.37-1.37c-.4-.4-.92-.59-1.43-.59-.52 0-1.04.2-1.43.59L10.3 9.45l-7.72 7.72c-.78.78-.78 2.05 0 2.83L4 21.41c.39.39.9.59 1.41.59.51 0 1.02-.2 1.41-.59l7.78-7.78 2.81-2.81c.8-.78.8-2.07 0-2.86zM5.41 20L4 18.59l7.72-7.72 1.47 1.35L5.41 20z\"/>\n",
              "  </svg>\n",
              "      </button>\n",
              "      \n",
              "  <style>\n",
              "    .colab-df-container {\n",
              "      display:flex;\n",
              "      flex-wrap:wrap;\n",
              "      gap: 12px;\n",
              "    }\n",
              "\n",
              "    .colab-df-convert {\n",
              "      background-color: #E8F0FE;\n",
              "      border: none;\n",
              "      border-radius: 50%;\n",
              "      cursor: pointer;\n",
              "      display: none;\n",
              "      fill: #1967D2;\n",
              "      height: 32px;\n",
              "      padding: 0 0 0 0;\n",
              "      width: 32px;\n",
              "    }\n",
              "\n",
              "    .colab-df-convert:hover {\n",
              "      background-color: #E2EBFA;\n",
              "      box-shadow: 0px 1px 2px rgba(60, 64, 67, 0.3), 0px 1px 3px 1px rgba(60, 64, 67, 0.15);\n",
              "      fill: #174EA6;\n",
              "    }\n",
              "\n",
              "    [theme=dark] .colab-df-convert {\n",
              "      background-color: #3B4455;\n",
              "      fill: #D2E3FC;\n",
              "    }\n",
              "\n",
              "    [theme=dark] .colab-df-convert:hover {\n",
              "      background-color: #434B5C;\n",
              "      box-shadow: 0px 1px 3px 1px rgba(0, 0, 0, 0.15);\n",
              "      filter: drop-shadow(0px 1px 2px rgba(0, 0, 0, 0.3));\n",
              "      fill: #FFFFFF;\n",
              "    }\n",
              "  </style>\n",
              "\n",
              "      <script>\n",
              "        const buttonEl =\n",
              "          document.querySelector('#df-55a6ec92-b447-47c3-b53d-ea4b1fa28314 button.colab-df-convert');\n",
              "        buttonEl.style.display =\n",
              "          google.colab.kernel.accessAllowed ? 'block' : 'none';\n",
              "\n",
              "        async function convertToInteractive(key) {\n",
              "          const element = document.querySelector('#df-55a6ec92-b447-47c3-b53d-ea4b1fa28314');\n",
              "          const dataTable =\n",
              "            await google.colab.kernel.invokeFunction('convertToInteractive',\n",
              "                                                     [key], {});\n",
              "          if (!dataTable) return;\n",
              "\n",
              "          const docLinkHtml = 'Like what you see? Visit the ' +\n",
              "            '<a target=\"_blank\" href=https://colab.research.google.com/notebooks/data_table.ipynb>data table notebook</a>'\n",
              "            + ' to learn more about interactive tables.';\n",
              "          element.innerHTML = '';\n",
              "          dataTable['output_type'] = 'display_data';\n",
              "          await google.colab.output.renderOutput(dataTable, element);\n",
              "          const docLink = document.createElement('div');\n",
              "          docLink.innerHTML = docLinkHtml;\n",
              "          element.appendChild(docLink);\n",
              "        }\n",
              "      </script>\n",
              "    </div>\n",
              "  </div>\n",
              "  "
            ]
          },
          "metadata": {},
          "execution_count": 14
        }
      ]
    },
    {
      "cell_type": "code",
      "source": [
        "df_bank_full_v2 = df_bank_full.copy()\n",
        "\n",
        "df_bank_full_v2 = pd.get_dummies(df_bank_full_v2,prefix=['job'], columns = ['job'], drop_first=True)\n",
        "df_bank_full_v2 = pd.get_dummies(df_bank_full_v2,prefix=['marital'], columns = ['marital'], drop_first=True)\n",
        "df_bank_full_v2 = pd.get_dummies(df_bank_full_v2,prefix=['education'], columns = ['education'], drop_first=True)\n",
        "df_bank_full_v2 = pd.get_dummies(df_bank_full_v2,prefix=['contact'], columns = ['contact'], drop_first=True)\n",
        "df_bank_full_v2 = pd.get_dummies(df_bank_full_v2,prefix=['poutcome'], columns = ['poutcome'], drop_first=True)\n",
        "\n",
        "month_mapping = {\n",
        "    \"jan\":1,\"feb\":2,\"mar\":3,\"apr\":4,\"may\":5,\"jun\":6,\"jul\":7,\"aug\":8,\"sep\":9,\"oct\":10,\"nov\":11,\"dec\":12\n",
        "}\n",
        "binary_mapping = {\n",
        "    \"yes\":1,\"no\":0\n",
        "}\n",
        "\n",
        "df_bank_full_v2[\"month\"] = df_bank_full_v2[\"month\"].map(month_mapping)\n",
        "df_bank_full_v2[\"default\"] = df_bank_full_v2[\"default\"].map(binary_mapping)\n",
        "df_bank_full_v2[\"housing\"] = df_bank_full_v2[\"housing\"].map(binary_mapping)\n",
        "df_bank_full_v2[\"loan\"] = df_bank_full_v2[\"loan\"].map(binary_mapping)\n",
        "df_bank_full_v2[\"y\"] = df_bank_full_v2[\"y\"].map(binary_mapping)\n",
        "\n",
        "df_bank_full_v2.head()"
      ],
      "metadata": {
        "colab": {
          "base_uri": "https://localhost:8080/",
          "height": 0
        },
        "id": "_WOo7YS0nDR9",
        "outputId": "6198a4da-1f26-4f42-bf04-58d200d47e66"
      },
      "execution_count": 15,
      "outputs": [
        {
          "output_type": "execute_result",
          "data": {
            "text/plain": [
              "   age  default  balance  housing  loan  day  month  duration  campaign  \\\n",
              "0   58        0     2143        1     0    5      5       261         1   \n",
              "1   44        0       29        1     0    5      5       151         1   \n",
              "2   33        0        2        1     1    5      5        76         1   \n",
              "3   47        0     1506        1     0    5      5        92         1   \n",
              "4   33        0        1        0     0    5      5       198         1   \n",
              "\n",
              "   pdays  ...  marital_married  marital_single  education_secondary  \\\n",
              "0     -1  ...                1               0                    0   \n",
              "1     -1  ...                0               1                    1   \n",
              "2     -1  ...                1               0                    1   \n",
              "3     -1  ...                1               0                    0   \n",
              "4     -1  ...                0               1                    0   \n",
              "\n",
              "   education_tertiary  education_unknown  contact_telephone  contact_unknown  \\\n",
              "0                   1                  0                  0                1   \n",
              "1                   0                  0                  0                1   \n",
              "2                   0                  0                  0                1   \n",
              "3                   0                  1                  0                1   \n",
              "4                   0                  1                  0                1   \n",
              "\n",
              "   poutcome_other  poutcome_success  poutcome_unknown  \n",
              "0               0                 0                 1  \n",
              "1               0                 0                 1  \n",
              "2               0                 0                 1  \n",
              "3               0                 0                 1  \n",
              "4               0                 0                 1  \n",
              "\n",
              "[5 rows x 33 columns]"
            ],
            "text/html": [
              "\n",
              "  <div id=\"df-592301e0-67cc-4a2c-8211-13dbbfb7f877\">\n",
              "    <div class=\"colab-df-container\">\n",
              "      <div>\n",
              "<style scoped>\n",
              "    .dataframe tbody tr th:only-of-type {\n",
              "        vertical-align: middle;\n",
              "    }\n",
              "\n",
              "    .dataframe tbody tr th {\n",
              "        vertical-align: top;\n",
              "    }\n",
              "\n",
              "    .dataframe thead th {\n",
              "        text-align: right;\n",
              "    }\n",
              "</style>\n",
              "<table border=\"1\" class=\"dataframe\">\n",
              "  <thead>\n",
              "    <tr style=\"text-align: right;\">\n",
              "      <th></th>\n",
              "      <th>age</th>\n",
              "      <th>default</th>\n",
              "      <th>balance</th>\n",
              "      <th>housing</th>\n",
              "      <th>loan</th>\n",
              "      <th>day</th>\n",
              "      <th>month</th>\n",
              "      <th>duration</th>\n",
              "      <th>campaign</th>\n",
              "      <th>pdays</th>\n",
              "      <th>...</th>\n",
              "      <th>marital_married</th>\n",
              "      <th>marital_single</th>\n",
              "      <th>education_secondary</th>\n",
              "      <th>education_tertiary</th>\n",
              "      <th>education_unknown</th>\n",
              "      <th>contact_telephone</th>\n",
              "      <th>contact_unknown</th>\n",
              "      <th>poutcome_other</th>\n",
              "      <th>poutcome_success</th>\n",
              "      <th>poutcome_unknown</th>\n",
              "    </tr>\n",
              "  </thead>\n",
              "  <tbody>\n",
              "    <tr>\n",
              "      <th>0</th>\n",
              "      <td>58</td>\n",
              "      <td>0</td>\n",
              "      <td>2143</td>\n",
              "      <td>1</td>\n",
              "      <td>0</td>\n",
              "      <td>5</td>\n",
              "      <td>5</td>\n",
              "      <td>261</td>\n",
              "      <td>1</td>\n",
              "      <td>-1</td>\n",
              "      <td>...</td>\n",
              "      <td>1</td>\n",
              "      <td>0</td>\n",
              "      <td>0</td>\n",
              "      <td>1</td>\n",
              "      <td>0</td>\n",
              "      <td>0</td>\n",
              "      <td>1</td>\n",
              "      <td>0</td>\n",
              "      <td>0</td>\n",
              "      <td>1</td>\n",
              "    </tr>\n",
              "    <tr>\n",
              "      <th>1</th>\n",
              "      <td>44</td>\n",
              "      <td>0</td>\n",
              "      <td>29</td>\n",
              "      <td>1</td>\n",
              "      <td>0</td>\n",
              "      <td>5</td>\n",
              "      <td>5</td>\n",
              "      <td>151</td>\n",
              "      <td>1</td>\n",
              "      <td>-1</td>\n",
              "      <td>...</td>\n",
              "      <td>0</td>\n",
              "      <td>1</td>\n",
              "      <td>1</td>\n",
              "      <td>0</td>\n",
              "      <td>0</td>\n",
              "      <td>0</td>\n",
              "      <td>1</td>\n",
              "      <td>0</td>\n",
              "      <td>0</td>\n",
              "      <td>1</td>\n",
              "    </tr>\n",
              "    <tr>\n",
              "      <th>2</th>\n",
              "      <td>33</td>\n",
              "      <td>0</td>\n",
              "      <td>2</td>\n",
              "      <td>1</td>\n",
              "      <td>1</td>\n",
              "      <td>5</td>\n",
              "      <td>5</td>\n",
              "      <td>76</td>\n",
              "      <td>1</td>\n",
              "      <td>-1</td>\n",
              "      <td>...</td>\n",
              "      <td>1</td>\n",
              "      <td>0</td>\n",
              "      <td>1</td>\n",
              "      <td>0</td>\n",
              "      <td>0</td>\n",
              "      <td>0</td>\n",
              "      <td>1</td>\n",
              "      <td>0</td>\n",
              "      <td>0</td>\n",
              "      <td>1</td>\n",
              "    </tr>\n",
              "    <tr>\n",
              "      <th>3</th>\n",
              "      <td>47</td>\n",
              "      <td>0</td>\n",
              "      <td>1506</td>\n",
              "      <td>1</td>\n",
              "      <td>0</td>\n",
              "      <td>5</td>\n",
              "      <td>5</td>\n",
              "      <td>92</td>\n",
              "      <td>1</td>\n",
              "      <td>-1</td>\n",
              "      <td>...</td>\n",
              "      <td>1</td>\n",
              "      <td>0</td>\n",
              "      <td>0</td>\n",
              "      <td>0</td>\n",
              "      <td>1</td>\n",
              "      <td>0</td>\n",
              "      <td>1</td>\n",
              "      <td>0</td>\n",
              "      <td>0</td>\n",
              "      <td>1</td>\n",
              "    </tr>\n",
              "    <tr>\n",
              "      <th>4</th>\n",
              "      <td>33</td>\n",
              "      <td>0</td>\n",
              "      <td>1</td>\n",
              "      <td>0</td>\n",
              "      <td>0</td>\n",
              "      <td>5</td>\n",
              "      <td>5</td>\n",
              "      <td>198</td>\n",
              "      <td>1</td>\n",
              "      <td>-1</td>\n",
              "      <td>...</td>\n",
              "      <td>0</td>\n",
              "      <td>1</td>\n",
              "      <td>0</td>\n",
              "      <td>0</td>\n",
              "      <td>1</td>\n",
              "      <td>0</td>\n",
              "      <td>1</td>\n",
              "      <td>0</td>\n",
              "      <td>0</td>\n",
              "      <td>1</td>\n",
              "    </tr>\n",
              "  </tbody>\n",
              "</table>\n",
              "<p>5 rows × 33 columns</p>\n",
              "</div>\n",
              "      <button class=\"colab-df-convert\" onclick=\"convertToInteractive('df-592301e0-67cc-4a2c-8211-13dbbfb7f877')\"\n",
              "              title=\"Convert this dataframe to an interactive table.\"\n",
              "              style=\"display:none;\">\n",
              "        \n",
              "  <svg xmlns=\"http://www.w3.org/2000/svg\" height=\"24px\"viewBox=\"0 0 24 24\"\n",
              "       width=\"24px\">\n",
              "    <path d=\"M0 0h24v24H0V0z\" fill=\"none\"/>\n",
              "    <path d=\"M18.56 5.44l.94 2.06.94-2.06 2.06-.94-2.06-.94-.94-2.06-.94 2.06-2.06.94zm-11 1L8.5 8.5l.94-2.06 2.06-.94-2.06-.94L8.5 2.5l-.94 2.06-2.06.94zm10 10l.94 2.06.94-2.06 2.06-.94-2.06-.94-.94-2.06-.94 2.06-2.06.94z\"/><path d=\"M17.41 7.96l-1.37-1.37c-.4-.4-.92-.59-1.43-.59-.52 0-1.04.2-1.43.59L10.3 9.45l-7.72 7.72c-.78.78-.78 2.05 0 2.83L4 21.41c.39.39.9.59 1.41.59.51 0 1.02-.2 1.41-.59l7.78-7.78 2.81-2.81c.8-.78.8-2.07 0-2.86zM5.41 20L4 18.59l7.72-7.72 1.47 1.35L5.41 20z\"/>\n",
              "  </svg>\n",
              "      </button>\n",
              "      \n",
              "  <style>\n",
              "    .colab-df-container {\n",
              "      display:flex;\n",
              "      flex-wrap:wrap;\n",
              "      gap: 12px;\n",
              "    }\n",
              "\n",
              "    .colab-df-convert {\n",
              "      background-color: #E8F0FE;\n",
              "      border: none;\n",
              "      border-radius: 50%;\n",
              "      cursor: pointer;\n",
              "      display: none;\n",
              "      fill: #1967D2;\n",
              "      height: 32px;\n",
              "      padding: 0 0 0 0;\n",
              "      width: 32px;\n",
              "    }\n",
              "\n",
              "    .colab-df-convert:hover {\n",
              "      background-color: #E2EBFA;\n",
              "      box-shadow: 0px 1px 2px rgba(60, 64, 67, 0.3), 0px 1px 3px 1px rgba(60, 64, 67, 0.15);\n",
              "      fill: #174EA6;\n",
              "    }\n",
              "\n",
              "    [theme=dark] .colab-df-convert {\n",
              "      background-color: #3B4455;\n",
              "      fill: #D2E3FC;\n",
              "    }\n",
              "\n",
              "    [theme=dark] .colab-df-convert:hover {\n",
              "      background-color: #434B5C;\n",
              "      box-shadow: 0px 1px 3px 1px rgba(0, 0, 0, 0.15);\n",
              "      filter: drop-shadow(0px 1px 2px rgba(0, 0, 0, 0.3));\n",
              "      fill: #FFFFFF;\n",
              "    }\n",
              "  </style>\n",
              "\n",
              "      <script>\n",
              "        const buttonEl =\n",
              "          document.querySelector('#df-592301e0-67cc-4a2c-8211-13dbbfb7f877 button.colab-df-convert');\n",
              "        buttonEl.style.display =\n",
              "          google.colab.kernel.accessAllowed ? 'block' : 'none';\n",
              "\n",
              "        async function convertToInteractive(key) {\n",
              "          const element = document.querySelector('#df-592301e0-67cc-4a2c-8211-13dbbfb7f877');\n",
              "          const dataTable =\n",
              "            await google.colab.kernel.invokeFunction('convertToInteractive',\n",
              "                                                     [key], {});\n",
              "          if (!dataTable) return;\n",
              "\n",
              "          const docLinkHtml = 'Like what you see? Visit the ' +\n",
              "            '<a target=\"_blank\" href=https://colab.research.google.com/notebooks/data_table.ipynb>data table notebook</a>'\n",
              "            + ' to learn more about interactive tables.';\n",
              "          element.innerHTML = '';\n",
              "          dataTable['output_type'] = 'display_data';\n",
              "          await google.colab.output.renderOutput(dataTable, element);\n",
              "          const docLink = document.createElement('div');\n",
              "          docLink.innerHTML = docLinkHtml;\n",
              "          element.appendChild(docLink);\n",
              "        }\n",
              "      </script>\n",
              "    </div>\n",
              "  </div>\n",
              "  "
            ]
          },
          "metadata": {},
          "execution_count": 15
        }
      ]
    },
    {
      "cell_type": "markdown",
      "source": [
        "**Desarrollo de modelos con dataset Bank full**"
      ],
      "metadata": {
        "id": "ChFnh-HotRIJ"
      }
    },
    {
      "cell_type": "markdown",
      "source": [
        "Este es un problema de clasificacion binaria, por lo tanto, los posibles modelos de machine learning para este caso son:\n",
        "* Decision tree classifier\n",
        "* Binary logistic regression\n",
        "* Random forest classifier\n",
        "* Support vector machine\n",
        "* XGBoost classifier\n",
        "\n",
        "Cada uno tendra sus hiperparametros optimizados y definidos por defecto para reducir el tiempo de ejecucion del notebook"
      ],
      "metadata": {
        "id": "MUZY1PSIta4s"
      }
    },
    {
      "cell_type": "markdown",
      "source": [
        "La metrica a utilizar debe depender de:\n",
        "* La precision porque los falsos negativos representan una perdido de venta para la institucion\n",
        "* La exhaustividad porque los falsos positivos representan un costo de contacto y perdida de tiempo de personal\n",
        "\n",
        "Por lo tanto, la metrica sera F1-score.\n",
        "\n",
        "Sin embargo, las evaluaciones visualizaran otras metricas como matriz de confusion, accuracy score y AUC score para que el lector tenga una comprension mas integral sobre el rendimiento de los modelos"
      ],
      "metadata": {
        "id": "iq_sEtR91GLx"
      }
    },
    {
      "cell_type": "code",
      "source": [
        "from sklearn.tree import DecisionTreeClassifier\n",
        "from sklearn.model_selection import train_test_split\n",
        "from sklearn.metrics import accuracy_score, confusion_matrix, f1_score, roc_auc_score, roc_curve\n",
        "from sklearn.model_selection import cross_val_score\n",
        "from sklearn.model_selection import GridSearchCV"
      ],
      "metadata": {
        "id": "--YfM0VG2j03"
      },
      "execution_count": 16,
      "outputs": []
    },
    {
      "cell_type": "code",
      "source": [
        "def matriz_confusion_predicciones(model,x,y):\n",
        "  predicciones = model.predict(x)\n",
        "  cm = confusion_matrix(y,predicciones, normalize='true')\n",
        "  x_axis_labels = [0,1]\n",
        "  y_axis_labels = [0,1]\n",
        "  plt.figure(figsize=(23,8))\n",
        "  sns.heatmap(cm, annot=True, xticklabels=x_axis_labels, yticklabels=y_axis_labels)\n",
        "  plt.show()\n",
        "\n",
        "\n",
        "def evaluacion_modelo(model, X_test, y_test):\n",
        "    y_pred = model.predict(X_test)\n",
        "    acc = accuracy_score(y_test, y_pred)\n",
        "    fscore = f1_score(y_test, y_pred)\n",
        "    auc = roc_auc_score(y_test, y_pred)\n",
        "    print(f\"Accuracy en testing: {acc}\")\n",
        "    print(f\"F1 score en testing: {fscore}\")\n",
        "    print(f\"AUC score en testing: {auc}\")\n",
        "    fpr, tpr, thresholds = roc_curve(y_test, y_pred)\n",
        "    plt.figure(figsize=(23,8))\n",
        "    plt.title(\"Curva ROC\")\n",
        "    plt.plot(fpr, tpr,label='ROC AUC: '+str(round(auc,4)))\n",
        "    plt.legend()\n",
        "    plt.show()\n",
        "    matriz_confusion_predicciones(model,X_test,y_test)"
      ],
      "metadata": {
        "id": "T4wqlF5KtQNf"
      },
      "execution_count": 17,
      "outputs": []
    },
    {
      "cell_type": "markdown",
      "source": [
        "El dataset sera dividido en training y testing para las evaluaciones, considerando que la distribucion de \"y\" esta desbalanceada es importante que el metodo de separacion sea estratificado.\n",
        "\n",
        "De esa forma ambas fracciones tendran la misma forma de distribucion en \"y\""
      ],
      "metadata": {
        "id": "MeobsM8M30t_"
      }
    },
    {
      "cell_type": "code",
      "source": [
        "features = df_bank_full_v2.drop(columns=[\"y\"]).columns\n",
        "target = 'y'\n",
        "\n",
        "X = df_bank_full_v2[features].copy()\n",
        "y = df_bank_full_v2[target].copy()\n",
        "\n",
        "test_pct = 0.3 #30% de los dados para testing\n",
        "x_train, x_test, y_train, y_test = train_test_split(X, y, test_size=test_pct, stratify = y, random_state=42)\n",
        "\n",
        "del X,y"
      ],
      "metadata": {
        "id": "t6mda2G929J7"
      },
      "execution_count": 18,
      "outputs": []
    },
    {
      "cell_type": "markdown",
      "source": [
        "**Decision tree classifier**"
      ],
      "metadata": {
        "id": "Q54NKtYs3d3V"
      }
    },
    {
      "cell_type": "code",
      "source": [
        "params = {\n",
        "    'min_samples_leaf': range(1,5),\n",
        "    'min_samples_split': range(1,5),\n",
        "    'criterion': [\"gini\", \"entropy\"],\n",
        "    'max_depth':range(1,15)\n",
        "}\n",
        "\n",
        "params = {\n",
        "    'min_samples_leaf': [3],\n",
        "    'min_samples_split': [2],\n",
        "    'criterion': [\"entropy\"],\n",
        "    'max_depth':[13]\n",
        "}\n",
        "\n",
        "tree = DecisionTreeClassifier(random_state=42)\n",
        "\n",
        "grid_search = GridSearchCV(estimator=tree, param_grid=params, cv=4, n_jobs=-1, verbose=0, scoring = \"f1\",error_score='raise')\n",
        "grid_search.fit(x_train,y_train)\n",
        "evaluacion_modelo(grid_search.best_estimator_, x_test, y_test)"
      ],
      "metadata": {
        "colab": {
          "base_uri": "https://localhost:8080/",
          "height": 0
        },
        "id": "gUvP_-_W3TtO",
        "outputId": "0cb078a6-5fdb-49ae-b0bd-0f41f1636ec8"
      },
      "execution_count": 19,
      "outputs": [
        {
          "output_type": "stream",
          "name": "stdout",
          "text": [
            "Accuracy en testing: 0.8938366263639045\n",
            "F1 score en testing: 0.48644793152639093\n",
            "AUC score en testing: 0.6925363510475523\n"
          ]
        },
        {
          "output_type": "display_data",
          "data": {
            "text/plain": [
              "<Figure size 1656x576 with 1 Axes>"
            ],
            "image/png": "[encoded data removed]"
          },
          "metadata": {
            "needs_background": "light"
          }
        },
        {
          "output_type": "display_data",
          "data": {
            "text/plain": [
              "<Figure size 1656x576 with 2 Axes>"
            ],
            "image/png": "[encoded data removed]"
          },
          "metadata": {
            "needs_background": "light"
          }
        }
      ]
    },
    {
      "cell_type": "markdown",
      "source": [
        "**Binary logistic regression**"
      ],
      "metadata": {
        "id": "f7s7Hpo-7QbY"
      }
    },
    {
      "cell_type": "code",
      "source": [
        "from sklearn.linear_model import LogisticRegression\n",
        "\n",
        "grid={\n",
        "    \"C\":np.logspace(-3,3,7), \n",
        "    \"penalty\":[\"l2\"] #l2 ridge\n",
        "}\n",
        "\n",
        "grid={\n",
        "    \"C\":[1000.0], \n",
        "    \"penalty\":[\"l2\"] #l2 ridge\n",
        "}\n",
        "\n",
        "logreg=LogisticRegression(random_state=42)\n",
        "logreg_cv=GridSearchCV(estimator=logreg, param_grid=grid, cv=4, n_jobs=-1, verbose=0, scoring = \"f1\",error_score='raise')\n",
        "logreg_cv.fit(x_train,y_train)\n",
        "evaluacion_modelo(logreg_cv.best_estimator_, x_test, y_test)"
      ],
      "metadata": {
        "colab": {
          "base_uri": "https://localhost:8080/",
          "height": 0
        },
        "id": "xNkr5TyJ7KJu",
        "outputId": "3206bb45-72e3-4145-b597-d848d98fdb54"
      },
      "execution_count": 20,
      "outputs": [
        {
          "output_type": "stream",
          "name": "stderr",
          "text": [
            "/usr/local/lib/python3.7/dist-packages/sklearn/linear_model/_logistic.py:818: ConvergenceWarning: lbfgs failed to converge (status=1):\n",
            "STOP: TOTAL NO. of ITERATIONS REACHED LIMIT.\n",
            "\n",
            "Increase the number of iterations (max_iter) or scale the data as shown in:\n",
            "    https://scikit-learn.org/stable/modules/preprocessing.html\n",
            "Please also refer to the documentation for alternative solver options:\n",
            "    https://scikit-learn.org/stable/modules/linear_model.html#logistic-regression\n",
            "  extra_warning_msg=_LOGISTIC_SOLVER_CONVERGENCE_MSG,\n"
          ]
        },
        {
          "output_type": "stream",
          "name": "stdout",
          "text": [
            "Accuracy en testing: 0.8875700383367738\n",
            "F1 score en testing: 0.2713807931199235\n",
            "AUC score en testing: 0.5802092374172952\n"
          ]
        },
        {
          "output_type": "display_data",
          "data": {
            "text/plain": [
              "<Figure size 1656x576 with 1 Axes>"
            ],
            "image/png": "[encoded data removed]"
          },
          "metadata": {
            "needs_background": "light"
          }
        },
        {
          "output_type": "display_data",
          "data": {
            "text/plain": [
              "<Figure size 1656x576 with 2 Axes>"
            ],
            "image/png": "[encoded data removed]"
          },
          "metadata": {
            "needs_background": "light"
          }
        }
      ]
    },
    {
      "cell_type": "markdown",
      "source": [
        "**Random forest classifier**"
      ],
      "metadata": {
        "id": "V8eMApf481nD"
      }
    },
    {
      "cell_type": "code",
      "source": [
        "from sklearn.ensemble import RandomForestClassifier\n",
        "\n",
        "params = {\n",
        " 'bootstrap': [True, False],\n",
        " 'max_depth': range(1,5),\n",
        " 'max_features': ['auto', 'sqrt'],\n",
        " 'min_samples_leaf': range(1,5),\n",
        " 'min_samples_split': range(2,5),\n",
        " 'n_estimators': range(1,15)\n",
        "}\n",
        "\n",
        "params = {\n",
        " 'bootstrap': [True],\n",
        " 'max_depth': [4],\n",
        " 'max_features': ['auto'],\n",
        " 'min_samples_leaf': [1],\n",
        " 'min_samples_split': [2],\n",
        " 'n_estimators': [1]\n",
        "}\n",
        "\n",
        "tree = RandomForestClassifier(random_state=42)\n",
        "\n",
        "grid_search = GridSearchCV(estimator=tree, param_grid=params, cv=4, n_jobs=-1, verbose=0, scoring = \"f1\",error_score='raise')\n",
        "grid_search.fit(x_train,y_train)\n",
        "evaluacion_modelo(grid_search.best_estimator_, x_test, y_test)"
      ],
      "metadata": {
        "colab": {
          "base_uri": "https://localhost:8080/",
          "height": 0
        },
        "id": "3zsoOURI84XH",
        "outputId": "55c494b9-6e08-4935-b603-8ca1f923894d"
      },
      "execution_count": 21,
      "outputs": [
        {
          "output_type": "stream",
          "name": "stdout",
          "text": [
            "Accuracy en testing: 0.8925095841934533\n",
            "F1 score en testing: 0.3627622377622378\n",
            "AUC score en testing: 0.6188102916643583\n"
          ]
        },
        {
          "output_type": "display_data",
          "data": {
            "text/plain": [
              "<Figure size 1656x576 with 1 Axes>"
            ],
            "image/png": "[encoded data removed]"
          },
          "metadata": {
            "needs_background": "light"
          }
        },
        {
          "output_type": "display_data",
          "data": {
            "text/plain": [
              "<Figure size 1656x576 with 2 Axes>"
            ],
            "image/png": "[encoded data removed]"
          },
          "metadata": {
            "needs_background": "light"
          }
        }
      ]
    },
    {
      "cell_type": "markdown",
      "source": [
        "**Support vector machine**"
      ],
      "metadata": {
        "id": "M887XmK8EkGe"
      }
    },
    {
      "cell_type": "markdown",
      "source": [
        "Para este modelo en especial, es preferible utilizar el dataset bank.csv como fuente de informacion para entrenamiento.\n",
        "\n",
        "La maquina de soporte vectorial (SVM) almacena una matriz que representa al dataset y calcula la distancia entre cada punto, es preferible que la matriz sea lo mas pequeña posible para que el tiempo de ejecucion sea minimo"
      ],
      "metadata": {
        "id": "uys-HIifWaRN"
      }
    },
    {
      "cell_type": "code",
      "source": [
        "df_bank_training_svm = pd.read_csv(\"bank.csv\",delimiter=\";\")\n",
        "\n",
        "df_bank_training_svm = pd.get_dummies(df_bank_training_svm,prefix=['job'], columns = ['job'], drop_first=True)\n",
        "df_bank_training_svm = pd.get_dummies(df_bank_training_svm,prefix=['marital'], columns = ['marital'], drop_first=True)\n",
        "df_bank_training_svm = pd.get_dummies(df_bank_training_svm,prefix=['education'], columns = ['education'], drop_first=True)\n",
        "df_bank_training_svm = pd.get_dummies(df_bank_training_svm,prefix=['contact'], columns = ['contact'], drop_first=True)\n",
        "df_bank_training_svm = pd.get_dummies(df_bank_training_svm,prefix=['poutcome'], columns = ['poutcome'], drop_first=True)\n",
        "\n",
        "month_mapping = {\n",
        "    \"jan\":1,\"feb\":2,\"mar\":3,\"apr\":4,\"may\":5,\"jun\":6,\"jul\":7,\"aug\":8,\"sep\":9,\"oct\":10,\"nov\":11,\"dec\":12\n",
        "}\n",
        "binary_mapping = {\n",
        "    \"yes\":1,\"no\":0\n",
        "}\n",
        "\n",
        "df_bank_training_svm[\"month\"] = df_bank_training_svm[\"month\"].map(month_mapping)\n",
        "df_bank_training_svm[\"default\"] = df_bank_training_svm[\"default\"].map(binary_mapping)\n",
        "df_bank_training_svm[\"housing\"] = df_bank_training_svm[\"housing\"].map(binary_mapping)\n",
        "df_bank_training_svm[\"loan\"] = df_bank_training_svm[\"loan\"].map(binary_mapping)\n",
        "df_bank_training_svm[\"y\"] = df_bank_training_svm[\"y\"].map(binary_mapping)\n",
        "\n",
        "x_train_svm = df_bank_training_svm[features].copy()\n",
        "y_train_svm = df_bank_training_svm[target].copy()"
      ],
      "metadata": {
        "id": "98TuEesMXWmY"
      },
      "execution_count": 22,
      "outputs": []
    },
    {
      "cell_type": "code",
      "source": [
        "from sklearn.svm import SVC\n",
        "\n",
        "param_grid = {\n",
        "    'C': [0.1, 1],\n",
        "    'gamma': [1, 0.1]\n",
        "}\n",
        "\n",
        "param_grid = {\n",
        "    'C': [0.1],\n",
        "    'gamma': [1]\n",
        "}\n",
        "\n",
        "svm = SVC(random_state=42)\n",
        "\n",
        "grid_search = GridSearchCV(estimator=svm, param_grid=param_grid, cv=4, n_jobs=-1, verbose=0, scoring = \"f1\",error_score='raise')\n",
        "grid_search.fit(x_train_svm,y_train_svm)\n",
        "evaluacion_modelo(grid_search.best_estimator_, x_test, y_test)"
      ],
      "metadata": {
        "colab": {
          "base_uri": "https://localhost:8080/",
          "height": 0
        },
        "id": "nVbw_vrLEnBf",
        "outputId": "e68a3ac6-8551-4af4-c730-0e6c92bcdad9"
      },
      "execution_count": 23,
      "outputs": [
        {
          "output_type": "stream",
          "name": "stdout",
          "text": [
            "Accuracy en testing: 0.8829991153052197\n",
            "F1 score en testing: 0.0\n",
            "AUC score en testing: 0.5\n"
          ]
        },
        {
          "output_type": "display_data",
          "data": {
            "text/plain": [
              "<Figure size 1656x576 with 1 Axes>"
            ],
            "image/png": "[encoded data removed]"
          },
          "metadata": {
            "needs_background": "light"
          }
        },
        {
          "output_type": "display_data",
          "data": {
            "text/plain": [
              "<Figure size 1656x576 with 2 Axes>"
            ],
            "image/png": "[encoded data removed]"
          },
          "metadata": {
            "needs_background": "light"
          }
        }
      ]
    },
    {
      "cell_type": "markdown",
      "source": [
        "**XGBoost classfier**"
      ],
      "metadata": {
        "id": "oH0mAOO3fc4a"
      }
    },
    {
      "cell_type": "code",
      "source": [
        "import xgboost\n",
        "from xgboost import XGBClassifier"
      ],
      "metadata": {
        "id": "k5ymNfDsfcEn"
      },
      "execution_count": 24,
      "outputs": []
    },
    {
      "cell_type": "code",
      "source": [
        "param_grid = {\n",
        " 'gamma': [0.1, 1, 1.5],\n",
        " 'learning_rate': [0.001, 0.01],\n",
        " 'max_depth': [5, 10],\n",
        " 'n_estimators': [1,5,10]\n",
        "}\n",
        "\n",
        "param_grid = {'gamma': [1.5], 'learning_rate': [0.01], 'max_depth': [10], 'n_estimators': [10]}\n",
        "\n",
        "xgb_model = XGBClassifier(random_state=42, verbosity=0)\n",
        "\n",
        "grid_search = GridSearchCV(estimator=xgb_model, param_grid=param_grid, cv=4, n_jobs=-1, verbose=0, scoring = \"f1\",error_score='raise')\n",
        "grid_search.fit(x_train,y_train)\n",
        "evaluacion_modelo(grid_search.best_estimator_, x_test, y_test)"
      ],
      "metadata": {
        "colab": {
          "base_uri": "https://localhost:8080/",
          "height": 0
        },
        "id": "SGRoXO09fmXN",
        "outputId": "55f987e2-0bfe-4827-9a8c-3ee6f35f5ef8"
      },
      "execution_count": 25,
      "outputs": [
        {
          "output_type": "stream",
          "name": "stdout",
          "text": [
            "Accuracy en testing: 0.8995871424358596\n",
            "F1 score en testing: 0.48873873873873874\n",
            "AUC score en testing: 0.6873198835891033\n"
          ]
        },
        {
          "output_type": "display_data",
          "data": {
            "text/plain": [
              "<Figure size 1656x576 with 1 Axes>"
            ],
            "image/png": "[encoded data removed]"
          },
          "metadata": {
            "needs_background": "light"
          }
        },
        {
          "output_type": "display_data",
          "data": {
            "text/plain": [
              "<Figure size 1656x576 with 2 Axes>"
            ],
            "image/png": "[encoded data removed]"
          },
          "metadata": {
            "needs_background": "light"
          }
        }
      ]
    },
    {
      "cell_type": "markdown",
      "source": [
        "**Seleccion del modelo para bank full**\n",
        "\n",
        "El orden de resultados de F1-score es el siguiente:\n",
        "\n",
        "XGBoost -> 0.488\n",
        "\n",
        "Decision Tree -> 0.486\n",
        "\n",
        "Random Forest -> 0.36\n",
        "\n",
        "Logistic Regression -> 0.27\n",
        "\n",
        "SVM -> 0\n",
        "\n",
        "Antes de determinar el modelo con mayor rendimiento, es posible descartar algunos modelos:\n",
        "\n",
        "* SVM: el dataset es demasiado grande para este modelo en particular, ademas no fue capaz de definir vectores que discriminen los clusters de \"y\"\n",
        "* Random forest: el voto mayoritario es contraproducente en este caso porque casi el 90% del dataset corresponde a casos fallidos (\"y\" = \"no\"), probablemente la mayoria de arboles dentro del random forest no seran capaces de discriminar los clusters\n",
        "\n",
        "Entre los modelos Decision tree, Logistic regression y XGBoost, mi eleccion es XGBoost porque tiene el mayor F1-score y ademas es posible seguir entrenandolo con mas hiperparametros"
      ],
      "metadata": {
        "id": "GFmMOggokvGq"
      }
    },
    {
      "cell_type": "markdown",
      "source": [
        "# **Desarrollo en Bank additional full**"
      ],
      "metadata": {
        "id": "NEZvKmhZqB3V"
      }
    },
    {
      "cell_type": "markdown",
      "source": [
        "**EDA (analisis de datos) en Bank additional full**"
      ],
      "metadata": {
        "id": "R6UxnnzrqZom"
      }
    },
    {
      "cell_type": "code",
      "source": [
        "#Carga de datos\n",
        "\n",
        "df_bank_additional_full = pd.read_csv(\"bank-additional-full.csv\",delimiter=\";\")\n",
        "\n",
        "print(\"Dataset: Bank additional full\")\n",
        "print(\"=\"*64)\n",
        "print(\"Cantidad de datos faltantes: \"+str(sum(df_bank_additional_full.isnull().sum())))\n",
        "print(\"Tamaño del dataset: \"+str(df_bank_additional_full.shape))\n",
        "print(\"\")\n",
        "\n",
        "df_bank_additional_full.head()"
      ],
      "metadata": {
        "colab": {
          "base_uri": "https://localhost:8080/",
          "height": 0
        },
        "id": "IaApcatsqLhX",
        "outputId": "f6d26430-fc0a-4f68-a3d6-a7e71434aed1"
      },
      "execution_count": 26,
      "outputs": [
        {
          "output_type": "stream",
          "name": "stdout",
          "text": [
            "Dataset: Bank additional full\n",
            "================================================================\n",
            "Cantidad de datos faltantes: 0\n",
            "Tamaño del dataset: (41188, 21)\n",
            "\n"
          ]
        },
        {
          "output_type": "execute_result",
          "data": {
            "text/plain": [
              "   age        job  marital    education  default housing loan    contact  \\\n",
              "0   56  housemaid  married     basic.4y       no      no   no  telephone   \n",
              "1   57   services  married  high.school  unknown      no   no  telephone   \n",
              "2   37   services  married  high.school       no     yes   no  telephone   \n",
              "3   40     admin.  married     basic.6y       no      no   no  telephone   \n",
              "4   56   services  married  high.school       no      no  yes  telephone   \n",
              "\n",
              "  month day_of_week  ...  campaign  pdays  previous     poutcome emp.var.rate  \\\n",
              "0   may         mon  ...         1    999         0  nonexistent          1.1   \n",
              "1   may         mon  ...         1    999         0  nonexistent          1.1   \n",
              "2   may         mon  ...         1    999         0  nonexistent          1.1   \n",
              "3   may         mon  ...         1    999         0  nonexistent          1.1   \n",
              "4   may         mon  ...         1    999         0  nonexistent          1.1   \n",
              "\n",
              "   cons.price.idx  cons.conf.idx  euribor3m  nr.employed   y  \n",
              "0          93.994          -36.4      4.857       5191.0  no  \n",
              "1          93.994          -36.4      4.857       5191.0  no  \n",
              "2          93.994          -36.4      4.857       5191.0  no  \n",
              "3          93.994          -36.4      4.857       5191.0  no  \n",
              "4          93.994          -36.4      4.857       5191.0  no  \n",
              "\n",
              "[5 rows x 21 columns]"
            ],
            "text/html": [
              "\n",
              "  <div id=\"df-1f2121c2-5133-4a69-8e14-36513519da55\">\n",
              "    <div class=\"colab-df-container\">\n",
              "      <div>\n",
              "<style scoped>\n",
              "    .dataframe tbody tr th:only-of-type {\n",
              "        vertical-align: middle;\n",
              "    }\n",
              "\n",
              "    .dataframe tbody tr th {\n",
              "        vertical-align: top;\n",
              "    }\n",
              "\n",
              "    .dataframe thead th {\n",
              "        text-align: right;\n",
              "    }\n",
              "</style>\n",
              "<table border=\"1\" class=\"dataframe\">\n",
              "  <thead>\n",
              "    <tr style=\"text-align: right;\">\n",
              "      <th></th>\n",
              "      <th>age</th>\n",
              "      <th>job</th>\n",
              "      <th>marital</th>\n",
              "      <th>education</th>\n",
              "      <th>default</th>\n",
              "      <th>housing</th>\n",
              "      <th>loan</th>\n",
              "      <th>contact</th>\n",
              "      <th>month</th>\n",
              "      <th>day_of_week</th>\n",
              "      <th>...</th>\n",
              "      <th>campaign</th>\n",
              "      <th>pdays</th>\n",
              "      <th>previous</th>\n",
              "      <th>poutcome</th>\n",
              "      <th>emp.var.rate</th>\n",
              "      <th>cons.price.idx</th>\n",
              "      <th>cons.conf.idx</th>\n",
              "      <th>euribor3m</th>\n",
              "      <th>nr.employed</th>\n",
              "      <th>y</th>\n",
              "    </tr>\n",
              "  </thead>\n",
              "  <tbody>\n",
              "    <tr>\n",
              "      <th>0</th>\n",
              "      <td>56</td>\n",
              "      <td>housemaid</td>\n",
              "      <td>married</td>\n",
              "      <td>basic.4y</td>\n",
              "      <td>no</td>\n",
              "      <td>no</td>\n",
              "      <td>no</td>\n",
              "      <td>telephone</td>\n",
              "      <td>may</td>\n",
              "      <td>mon</td>\n",
              "      <td>...</td>\n",
              "      <td>1</td>\n",
              "      <td>999</td>\n",
              "      <td>0</td>\n",
              "      <td>nonexistent</td>\n",
              "      <td>1.1</td>\n",
              "      <td>93.994</td>\n",
              "      <td>-36.4</td>\n",
              "      <td>4.857</td>\n",
              "      <td>5191.0</td>\n",
              "      <td>no</td>\n",
              "    </tr>\n",
              "    <tr>\n",
              "      <th>1</th>\n",
              "      <td>57</td>\n",
              "      <td>services</td>\n",
              "      <td>married</td>\n",
              "      <td>high.school</td>\n",
              "      <td>unknown</td>\n",
              "      <td>no</td>\n",
              "      <td>no</td>\n",
              "      <td>telephone</td>\n",
              "      <td>may</td>\n",
              "      <td>mon</td>\n",
              "      <td>...</td>\n",
              "      <td>1</td>\n",
              "      <td>999</td>\n",
              "      <td>0</td>\n",
              "      <td>nonexistent</td>\n",
              "      <td>1.1</td>\n",
              "      <td>93.994</td>\n",
              "      <td>-36.4</td>\n",
              "      <td>4.857</td>\n",
              "      <td>5191.0</td>\n",
              "      <td>no</td>\n",
              "    </tr>\n",
              "    <tr>\n",
              "      <th>2</th>\n",
              "      <td>37</td>\n",
              "      <td>services</td>\n",
              "      <td>married</td>\n",
              "      <td>high.school</td>\n",
              "      <td>no</td>\n",
              "      <td>yes</td>\n",
              "      <td>no</td>\n",
              "      <td>telephone</td>\n",
              "      <td>may</td>\n",
              "      <td>mon</td>\n",
              "      <td>...</td>\n",
              "      <td>1</td>\n",
              "      <td>999</td>\n",
              "      <td>0</td>\n",
              "      <td>nonexistent</td>\n",
              "      <td>1.1</td>\n",
              "      <td>93.994</td>\n",
              "      <td>-36.4</td>\n",
              "      <td>4.857</td>\n",
              "      <td>5191.0</td>\n",
              "      <td>no</td>\n",
              "    </tr>\n",
              "    <tr>\n",
              "      <th>3</th>\n",
              "      <td>40</td>\n",
              "      <td>admin.</td>\n",
              "      <td>married</td>\n",
              "      <td>basic.6y</td>\n",
              "      <td>no</td>\n",
              "      <td>no</td>\n",
              "      <td>no</td>\n",
              "      <td>telephone</td>\n",
              "      <td>may</td>\n",
              "      <td>mon</td>\n",
              "      <td>...</td>\n",
              "      <td>1</td>\n",
              "      <td>999</td>\n",
              "      <td>0</td>\n",
              "      <td>nonexistent</td>\n",
              "      <td>1.1</td>\n",
              "      <td>93.994</td>\n",
              "      <td>-36.4</td>\n",
              "      <td>4.857</td>\n",
              "      <td>5191.0</td>\n",
              "      <td>no</td>\n",
              "    </tr>\n",
              "    <tr>\n",
              "      <th>4</th>\n",
              "      <td>56</td>\n",
              "      <td>services</td>\n",
              "      <td>married</td>\n",
              "      <td>high.school</td>\n",
              "      <td>no</td>\n",
              "      <td>no</td>\n",
              "      <td>yes</td>\n",
              "      <td>telephone</td>\n",
              "      <td>may</td>\n",
              "      <td>mon</td>\n",
              "      <td>...</td>\n",
              "      <td>1</td>\n",
              "      <td>999</td>\n",
              "      <td>0</td>\n",
              "      <td>nonexistent</td>\n",
              "      <td>1.1</td>\n",
              "      <td>93.994</td>\n",
              "      <td>-36.4</td>\n",
              "      <td>4.857</td>\n",
              "      <td>5191.0</td>\n",
              "      <td>no</td>\n",
              "    </tr>\n",
              "  </tbody>\n",
              "</table>\n",
              "<p>5 rows × 21 columns</p>\n",
              "</div>\n",
              "      <button class=\"colab-df-convert\" onclick=\"convertToInteractive('df-1f2121c2-5133-4a69-8e14-36513519da55')\"\n",
              "              title=\"Convert this dataframe to an interactive table.\"\n",
              "              style=\"display:none;\">\n",
              "        \n",
              "  <svg xmlns=\"http://www.w3.org/2000/svg\" height=\"24px\"viewBox=\"0 0 24 24\"\n",
              "       width=\"24px\">\n",
              "    <path d=\"M0 0h24v24H0V0z\" fill=\"none\"/>\n",
              "    <path d=\"M18.56 5.44l.94 2.06.94-2.06 2.06-.94-2.06-.94-.94-2.06-.94 2.06-2.06.94zm-11 1L8.5 8.5l.94-2.06 2.06-.94-2.06-.94L8.5 2.5l-.94 2.06-2.06.94zm10 10l.94 2.06.94-2.06 2.06-.94-2.06-.94-.94-2.06-.94 2.06-2.06.94z\"/><path d=\"M17.41 7.96l-1.37-1.37c-.4-.4-.92-.59-1.43-.59-.52 0-1.04.2-1.43.59L10.3 9.45l-7.72 7.72c-.78.78-.78 2.05 0 2.83L4 21.41c.39.39.9.59 1.41.59.51 0 1.02-.2 1.41-.59l7.78-7.78 2.81-2.81c.8-.78.8-2.07 0-2.86zM5.41 20L4 18.59l7.72-7.72 1.47 1.35L5.41 20z\"/>\n",
              "  </svg>\n",
              "      </button>\n",
              "      \n",
              "  <style>\n",
              "    .colab-df-container {\n",
              "      display:flex;\n",
              "      flex-wrap:wrap;\n",
              "      gap: 12px;\n",
              "    }\n",
              "\n",
              "    .colab-df-convert {\n",
              "      background-color: #E8F0FE;\n",
              "      border: none;\n",
              "      border-radius: 50%;\n",
              "      cursor: pointer;\n",
              "      display: none;\n",
              "      fill: #1967D2;\n",
              "      height: 32px;\n",
              "      padding: 0 0 0 0;\n",
              "      width: 32px;\n",
              "    }\n",
              "\n",
              "    .colab-df-convert:hover {\n",
              "      background-color: #E2EBFA;\n",
              "      box-shadow: 0px 1px 2px rgba(60, 64, 67, 0.3), 0px 1px 3px 1px rgba(60, 64, 67, 0.15);\n",
              "      fill: #174EA6;\n",
              "    }\n",
              "\n",
              "    [theme=dark] .colab-df-convert {\n",
              "      background-color: #3B4455;\n",
              "      fill: #D2E3FC;\n",
              "    }\n",
              "\n",
              "    [theme=dark] .colab-df-convert:hover {\n",
              "      background-color: #434B5C;\n",
              "      box-shadow: 0px 1px 3px 1px rgba(0, 0, 0, 0.15);\n",
              "      filter: drop-shadow(0px 1px 2px rgba(0, 0, 0, 0.3));\n",
              "      fill: #FFFFFF;\n",
              "    }\n",
              "  </style>\n",
              "\n",
              "      <script>\n",
              "        const buttonEl =\n",
              "          document.querySelector('#df-1f2121c2-5133-4a69-8e14-36513519da55 button.colab-df-convert');\n",
              "        buttonEl.style.display =\n",
              "          google.colab.kernel.accessAllowed ? 'block' : 'none';\n",
              "\n",
              "        async function convertToInteractive(key) {\n",
              "          const element = document.querySelector('#df-1f2121c2-5133-4a69-8e14-36513519da55');\n",
              "          const dataTable =\n",
              "            await google.colab.kernel.invokeFunction('convertToInteractive',\n",
              "                                                     [key], {});\n",
              "          if (!dataTable) return;\n",
              "\n",
              "          const docLinkHtml = 'Like what you see? Visit the ' +\n",
              "            '<a target=\"_blank\" href=https://colab.research.google.com/notebooks/data_table.ipynb>data table notebook</a>'\n",
              "            + ' to learn more about interactive tables.';\n",
              "          element.innerHTML = '';\n",
              "          dataTable['output_type'] = 'display_data';\n",
              "          await google.colab.output.renderOutput(dataTable, element);\n",
              "          const docLink = document.createElement('div');\n",
              "          docLink.innerHTML = docLinkHtml;\n",
              "          element.appendChild(docLink);\n",
              "        }\n",
              "      </script>\n",
              "    </div>\n",
              "  </div>\n",
              "  "
            ]
          },
          "metadata": {},
          "execution_count": 26
        }
      ]
    },
    {
      "cell_type": "markdown",
      "source": [
        "**Tipos de datos y su descripcion**\n",
        "\n",
        "age -> numerico continuo (edad del cliente)\n",
        "\n",
        "job -> categorico nominal (trabajo del cliente)\n",
        "\n",
        "marital -> categorico nominal (estado civil del cliente)\n",
        "\n",
        "education -> categorico nominal (nivel academico del cliente)\n",
        "\n",
        "default -> categorico nominal (tiene credito en mora?)\n",
        "\n",
        "housing -> categorico nominal (tiene prestamo de vivienda?)\n",
        "\n",
        "loan -> categorico nominal (tiene prestamo personal?)\n",
        "\n",
        "contact -> categorico binario (tipo de comunicacion: celular, telefono)\n",
        "\n",
        "month -> categorico ordinal (mes de la ultima fecha de contacto)\n",
        "\n",
        "day_of_week -> categorico ordinal (dia de la semana de la fecha en que se llevo a cabo el ultimo contacto)\n",
        "\n",
        "duration -> numerico continuo (duracion de la ultima llamada de contacto, en segundos)\n",
        "\n",
        "campaign -> numerico continuo (cantidad de contactos realizados durante la campaña para cada cliente en particular)\n",
        "\n",
        "pdays -> numerico continuo (cantidad de dias pasados desde que el cliente fue contactado por ultima vez)\n",
        "\n",
        "\n",
        "previous -> numerico continuo (cantidad de contactos realizados antes de la campaña para cada cliente en particular)\n",
        "\n",
        "poutcome -> categorico nominal (resultado de la campaña anterior para cada cliente en particular, puede ser un caso de exito, caso fallido, etc)\n",
        "\n",
        "emp.var.rate -> numerico continuo (tasa de variación del empleo - indicador trimestral)\n",
        "\n",
        "cons.price.idx -> numerico continuo (índice de precios al consumidor - indicador mensual)\n",
        "\n",
        "cons.conf.idx -> numerico continuo (índice de confianza del consumidor - indicador mensual) \n",
        "\n",
        "euribor3m -> numerico continuo (euribor 3 meses tasa - indicador diario)\n",
        "\n",
        "nr.employed -> numerico continuo (número de empleados - indicador trimestral)\n",
        "\n",
        "y -> categorico binario (el cliente se suscribio a un deposito?, es un dato binario: no o yes)"
      ],
      "metadata": {
        "id": "KF9nsvsA18nZ"
      }
    },
    {
      "cell_type": "markdown",
      "source": [
        "A continuacion seran expuestas las hipotesis que podrian aportar informacion relevante para la solucion"
      ],
      "metadata": {
        "id": "xMdvj8z57Rl4"
      }
    },
    {
      "cell_type": "markdown",
      "source": [
        "1) Los clientes con los que han tenido exito en la campaña anterior tienen mayor probabilidad de suscribirse a un deposito.\n",
        "\n",
        "El siguiente grafico muestra la distribucion de \"y\" despues de filtrar los registros donde \"poutcome\" es igual a \"success\"."
      ],
      "metadata": {
        "id": "hp-TM4v7VB1J"
      }
    },
    {
      "cell_type": "markdown",
      "source": [
        "Los casos positivos en \"y\" agrupan el 11% del dataset."
      ],
      "metadata": {
        "id": "8riEgExDVDyW"
      }
    },
    {
      "cell_type": "code",
      "source": [
        "mask = (df_bank_additional_full[\"y\"] == \"yes\")\n",
        "porcentaje = (sum(mask)/df_bank_additional_full.shape[0])*100\n",
        "print(\"El porcentaje de casos positivos en 'y' es : \"+str(round(porcentaje,2))+\"%\")"
      ],
      "metadata": {
        "colab": {
          "base_uri": "https://localhost:8080/"
        },
        "id": "oRcjm2_3VELN",
        "outputId": "bcd539cc-5a43-42e6-c327-c26730f37b7b"
      },
      "execution_count": 27,
      "outputs": [
        {
          "output_type": "stream",
          "name": "stdout",
          "text": [
            "El porcentaje de casos positivos en 'y' es : 11.27%\n"
          ]
        }
      ]
    },
    {
      "cell_type": "markdown",
      "source": [
        "De ese 11% hay un 2% que corresponde a los clientes con los que tuvieron exito en la campaña anterior"
      ],
      "metadata": {
        "id": "NTOr5su8VLFF"
      }
    },
    {
      "cell_type": "code",
      "source": [
        "mask = (df_bank_additional_full[\"poutcome\"] == \"success\") & (df_bank_additional_full[\"y\"] == \"yes\")\n",
        "porcentaje = (sum(mask)/df_bank_additional_full.shape[0])*100\n",
        "print(\"El porcentaje es : \"+str(round(porcentaje,2))+\"%\")"
      ],
      "metadata": {
        "colab": {
          "base_uri": "https://localhost:8080/"
        },
        "id": "VoJGzsM3VLgq",
        "outputId": "ad376fe5-4018-49e9-dab4-2a6920878b8a"
      },
      "execution_count": 28,
      "outputs": [
        {
          "output_type": "stream",
          "name": "stdout",
          "text": [
            "El porcentaje es : 2.17%\n"
          ]
        }
      ]
    },
    {
      "cell_type": "markdown",
      "source": [
        "2) Los clientes que recibieron mas de 20 contactos durante la campaña no concluyeron la suscripcion al deposito.\n",
        "\n",
        "Podria ser establecido como un limite para no acumular costo por contactos fallidos\n",
        "\n",
        "El dataset fue dividido en 2 partes, una corresponde a los registros donde \"y\" es igual a \"yes\" y otro donde \"y\" es igual a \"no\""
      ],
      "metadata": {
        "id": "op4SshxaVUAY"
      }
    },
    {
      "cell_type": "code",
      "source": [
        "mask = df_bank_additional_full[\"y\"] == \"yes\"\n",
        "df_bank_y_yes = df_bank_additional_full[mask].copy()\n",
        "\n",
        "mask = df_bank_additional_full[\"y\"] == \"no\"\n",
        "df_bank_y_no = df_bank_additional_full[mask].copy()"
      ],
      "metadata": {
        "id": "-4JhxyRoVWfn"
      },
      "execution_count": 29,
      "outputs": []
    },
    {
      "cell_type": "code",
      "source": [
        "columna = \"campaign\"\n",
        "print(\"Cluster yes\")\n",
        "distribucion_columna_numerica(df_bank_y_yes,columna)\n",
        "print(\"Cluster no\")\n",
        "distribucion_columna_numerica(df_bank_y_no,columna)"
      ],
      "metadata": {
        "colab": {
          "base_uri": "https://localhost:8080/",
          "height": 0
        },
        "id": "Ot9iIZ0E_Ikf",
        "outputId": "589da69b-8dac-483f-d4a4-d150acddfeda"
      },
      "execution_count": 30,
      "outputs": [
        {
          "output_type": "stream",
          "name": "stdout",
          "text": [
            "Cluster yes\n"
          ]
        },
        {
          "output_type": "display_data",
          "data": {
            "text/plain": [
              "<Figure size 1656x432 with 1 Axes>"
            ],
            "image/png": "[encoded data removed]"
          },
          "metadata": {
            "needs_background": "light"
          }
        },
        {
          "output_type": "stream",
          "name": "stdout",
          "text": [
            "Cluster no\n"
          ]
        },
        {
          "output_type": "display_data",
          "data": {
            "text/plain": [
              "<Figure size 1656x432 with 1 Axes>"
            ],
            "image/png": "[encoded data removed]"
          },
          "metadata": {
            "needs_background": "light"
          }
        }
      ]
    },
    {
      "cell_type": "markdown",
      "source": [
        "**Procesamiento de datos en Bank additional full**"
      ],
      "metadata": {
        "id": "6zcPl1ZoYH80"
      }
    },
    {
      "cell_type": "markdown",
      "source": [
        "Es verdad que algunas variable contienen valores faltantes como \"job\",\"education\",\"contact\" y \"poutcome\".\n",
        "\n",
        "Se identifican por la palabra \"unknown\".\n",
        "\n",
        "Sin embargo, no considero correcto reemplazar o imputar los valores faltantes en el dataset debido a las limitaciones que tiene:\n",
        "* Contiene informacion de 2008 a 2013, significa que es acotado y no representa a toda la base de datos de la institucion\n",
        "* Podria derivar hipotesis erroneas por falsedad de contenido\n",
        "* Las futuras campañas tendran probablemente los mismos valores discretos y la solucion tiene que ser robusta para todas las interpretaciones posibles"
      ],
      "metadata": {
        "id": "KcbhJ0hmYIPC"
      }
    },
    {
      "cell_type": "code",
      "source": [
        "print(\"Valores discretos en job\")\n",
        "print(df_bank_full[\"job\"].unique())\n",
        "print(\"\")\n",
        "print(\"Valores discretos en education\")\n",
        "print(df_bank_full[\"education\"].unique())\n",
        "print(\"\")\n",
        "print(\"Valores discretos en contact\")\n",
        "print(df_bank_full[\"contact\"].unique())\n",
        "print(\"\")\n",
        "print(\"Valores discretos en poutcome\")\n",
        "print(df_bank_full[\"poutcome\"].unique())"
      ],
      "metadata": {
        "colab": {
          "base_uri": "https://localhost:8080/"
        },
        "id": "7PtgfGKvYROf",
        "outputId": "b884ad8c-4de6-422e-8942-f5c5fb724d16"
      },
      "execution_count": 31,
      "outputs": [
        {
          "output_type": "stream",
          "name": "stdout",
          "text": [
            "Valores discretos en job\n",
            "['management' 'technician' 'entrepreneur' 'blue-collar' 'unknown'\n",
            " 'retired' 'admin.' 'services' 'self-employed' 'unemployed' 'housemaid'\n",
            " 'student']\n",
            "\n",
            "Valores discretos en education\n",
            "['tertiary' 'secondary' 'unknown' 'primary']\n",
            "\n",
            "Valores discretos en contact\n",
            "['unknown' 'cellular' 'telephone']\n",
            "\n",
            "Valores discretos en poutcome\n",
            "['unknown' 'failure' 'other' 'success']\n"
          ]
        }
      ]
    },
    {
      "cell_type": "code",
      "source": [
        "df_bank_additional_full.head()"
      ],
      "metadata": {
        "colab": {
          "base_uri": "https://localhost:8080/",
          "height": 0
        },
        "id": "PABGo-XPYdx6",
        "outputId": "b7c9e657-522a-4972-8a15-7f8f47a9f0c1"
      },
      "execution_count": 32,
      "outputs": [
        {
          "output_type": "execute_result",
          "data": {
            "text/plain": [
              "   age        job  marital    education  default housing loan    contact  \\\n",
              "0   56  housemaid  married     basic.4y       no      no   no  telephone   \n",
              "1   57   services  married  high.school  unknown      no   no  telephone   \n",
              "2   37   services  married  high.school       no     yes   no  telephone   \n",
              "3   40     admin.  married     basic.6y       no      no   no  telephone   \n",
              "4   56   services  married  high.school       no      no  yes  telephone   \n",
              "\n",
              "  month day_of_week  ...  campaign  pdays  previous     poutcome emp.var.rate  \\\n",
              "0   may         mon  ...         1    999         0  nonexistent          1.1   \n",
              "1   may         mon  ...         1    999         0  nonexistent          1.1   \n",
              "2   may         mon  ...         1    999         0  nonexistent          1.1   \n",
              "3   may         mon  ...         1    999         0  nonexistent          1.1   \n",
              "4   may         mon  ...         1    999         0  nonexistent          1.1   \n",
              "\n",
              "   cons.price.idx  cons.conf.idx  euribor3m  nr.employed   y  \n",
              "0          93.994          -36.4      4.857       5191.0  no  \n",
              "1          93.994          -36.4      4.857       5191.0  no  \n",
              "2          93.994          -36.4      4.857       5191.0  no  \n",
              "3          93.994          -36.4      4.857       5191.0  no  \n",
              "4          93.994          -36.4      4.857       5191.0  no  \n",
              "\n",
              "[5 rows x 21 columns]"
            ],
            "text/html": [
              "\n",
              "  <div id=\"df-376fa5dd-45f8-4917-97c7-3ae741aaf656\">\n",
              "    <div class=\"colab-df-container\">\n",
              "      <div>\n",
              "<style scoped>\n",
              "    .dataframe tbody tr th:only-of-type {\n",
              "        vertical-align: middle;\n",
              "    }\n",
              "\n",
              "    .dataframe tbody tr th {\n",
              "        vertical-align: top;\n",
              "    }\n",
              "\n",
              "    .dataframe thead th {\n",
              "        text-align: right;\n",
              "    }\n",
              "</style>\n",
              "<table border=\"1\" class=\"dataframe\">\n",
              "  <thead>\n",
              "    <tr style=\"text-align: right;\">\n",
              "      <th></th>\n",
              "      <th>age</th>\n",
              "      <th>job</th>\n",
              "      <th>marital</th>\n",
              "      <th>education</th>\n",
              "      <th>default</th>\n",
              "      <th>housing</th>\n",
              "      <th>loan</th>\n",
              "      <th>contact</th>\n",
              "      <th>month</th>\n",
              "      <th>day_of_week</th>\n",
              "      <th>...</th>\n",
              "      <th>campaign</th>\n",
              "      <th>pdays</th>\n",
              "      <th>previous</th>\n",
              "      <th>poutcome</th>\n",
              "      <th>emp.var.rate</th>\n",
              "      <th>cons.price.idx</th>\n",
              "      <th>cons.conf.idx</th>\n",
              "      <th>euribor3m</th>\n",
              "      <th>nr.employed</th>\n",
              "      <th>y</th>\n",
              "    </tr>\n",
              "  </thead>\n",
              "  <tbody>\n",
              "    <tr>\n",
              "      <th>0</th>\n",
              "      <td>56</td>\n",
              "      <td>housemaid</td>\n",
              "      <td>married</td>\n",
              "      <td>basic.4y</td>\n",
              "      <td>no</td>\n",
              "      <td>no</td>\n",
              "      <td>no</td>\n",
              "      <td>telephone</td>\n",
              "      <td>may</td>\n",
              "      <td>mon</td>\n",
              "      <td>...</td>\n",
              "      <td>1</td>\n",
              "      <td>999</td>\n",
              "      <td>0</td>\n",
              "      <td>nonexistent</td>\n",
              "      <td>1.1</td>\n",
              "      <td>93.994</td>\n",
              "      <td>-36.4</td>\n",
              "      <td>4.857</td>\n",
              "      <td>5191.0</td>\n",
              "      <td>no</td>\n",
              "    </tr>\n",
              "    <tr>\n",
              "      <th>1</th>\n",
              "      <td>57</td>\n",
              "      <td>services</td>\n",
              "      <td>married</td>\n",
              "      <td>high.school</td>\n",
              "      <td>unknown</td>\n",
              "      <td>no</td>\n",
              "      <td>no</td>\n",
              "      <td>telephone</td>\n",
              "      <td>may</td>\n",
              "      <td>mon</td>\n",
              "      <td>...</td>\n",
              "      <td>1</td>\n",
              "      <td>999</td>\n",
              "      <td>0</td>\n",
              "      <td>nonexistent</td>\n",
              "      <td>1.1</td>\n",
              "      <td>93.994</td>\n",
              "      <td>-36.4</td>\n",
              "      <td>4.857</td>\n",
              "      <td>5191.0</td>\n",
              "      <td>no</td>\n",
              "    </tr>\n",
              "    <tr>\n",
              "      <th>2</th>\n",
              "      <td>37</td>\n",
              "      <td>services</td>\n",
              "      <td>married</td>\n",
              "      <td>high.school</td>\n",
              "      <td>no</td>\n",
              "      <td>yes</td>\n",
              "      <td>no</td>\n",
              "      <td>telephone</td>\n",
              "      <td>may</td>\n",
              "      <td>mon</td>\n",
              "      <td>...</td>\n",
              "      <td>1</td>\n",
              "      <td>999</td>\n",
              "      <td>0</td>\n",
              "      <td>nonexistent</td>\n",
              "      <td>1.1</td>\n",
              "      <td>93.994</td>\n",
              "      <td>-36.4</td>\n",
              "      <td>4.857</td>\n",
              "      <td>5191.0</td>\n",
              "      <td>no</td>\n",
              "    </tr>\n",
              "    <tr>\n",
              "      <th>3</th>\n",
              "      <td>40</td>\n",
              "      <td>admin.</td>\n",
              "      <td>married</td>\n",
              "      <td>basic.6y</td>\n",
              "      <td>no</td>\n",
              "      <td>no</td>\n",
              "      <td>no</td>\n",
              "      <td>telephone</td>\n",
              "      <td>may</td>\n",
              "      <td>mon</td>\n",
              "      <td>...</td>\n",
              "      <td>1</td>\n",
              "      <td>999</td>\n",
              "      <td>0</td>\n",
              "      <td>nonexistent</td>\n",
              "      <td>1.1</td>\n",
              "      <td>93.994</td>\n",
              "      <td>-36.4</td>\n",
              "      <td>4.857</td>\n",
              "      <td>5191.0</td>\n",
              "      <td>no</td>\n",
              "    </tr>\n",
              "    <tr>\n",
              "      <th>4</th>\n",
              "      <td>56</td>\n",
              "      <td>services</td>\n",
              "      <td>married</td>\n",
              "      <td>high.school</td>\n",
              "      <td>no</td>\n",
              "      <td>no</td>\n",
              "      <td>yes</td>\n",
              "      <td>telephone</td>\n",
              "      <td>may</td>\n",
              "      <td>mon</td>\n",
              "      <td>...</td>\n",
              "      <td>1</td>\n",
              "      <td>999</td>\n",
              "      <td>0</td>\n",
              "      <td>nonexistent</td>\n",
              "      <td>1.1</td>\n",
              "      <td>93.994</td>\n",
              "      <td>-36.4</td>\n",
              "      <td>4.857</td>\n",
              "      <td>5191.0</td>\n",
              "      <td>no</td>\n",
              "    </tr>\n",
              "  </tbody>\n",
              "</table>\n",
              "<p>5 rows × 21 columns</p>\n",
              "</div>\n",
              "      <button class=\"colab-df-convert\" onclick=\"convertToInteractive('df-376fa5dd-45f8-4917-97c7-3ae741aaf656')\"\n",
              "              title=\"Convert this dataframe to an interactive table.\"\n",
              "              style=\"display:none;\">\n",
              "        \n",
              "  <svg xmlns=\"http://www.w3.org/2000/svg\" height=\"24px\"viewBox=\"0 0 24 24\"\n",
              "       width=\"24px\">\n",
              "    <path d=\"M0 0h24v24H0V0z\" fill=\"none\"/>\n",
              "    <path d=\"M18.56 5.44l.94 2.06.94-2.06 2.06-.94-2.06-.94-.94-2.06-.94 2.06-2.06.94zm-11 1L8.5 8.5l.94-2.06 2.06-.94-2.06-.94L8.5 2.5l-.94 2.06-2.06.94zm10 10l.94 2.06.94-2.06 2.06-.94-2.06-.94-.94-2.06-.94 2.06-2.06.94z\"/><path d=\"M17.41 7.96l-1.37-1.37c-.4-.4-.92-.59-1.43-.59-.52 0-1.04.2-1.43.59L10.3 9.45l-7.72 7.72c-.78.78-.78 2.05 0 2.83L4 21.41c.39.39.9.59 1.41.59.51 0 1.02-.2 1.41-.59l7.78-7.78 2.81-2.81c.8-.78.8-2.07 0-2.86zM5.41 20L4 18.59l7.72-7.72 1.47 1.35L5.41 20z\"/>\n",
              "  </svg>\n",
              "      </button>\n",
              "      \n",
              "  <style>\n",
              "    .colab-df-container {\n",
              "      display:flex;\n",
              "      flex-wrap:wrap;\n",
              "      gap: 12px;\n",
              "    }\n",
              "\n",
              "    .colab-df-convert {\n",
              "      background-color: #E8F0FE;\n",
              "      border: none;\n",
              "      border-radius: 50%;\n",
              "      cursor: pointer;\n",
              "      display: none;\n",
              "      fill: #1967D2;\n",
              "      height: 32px;\n",
              "      padding: 0 0 0 0;\n",
              "      width: 32px;\n",
              "    }\n",
              "\n",
              "    .colab-df-convert:hover {\n",
              "      background-color: #E2EBFA;\n",
              "      box-shadow: 0px 1px 2px rgba(60, 64, 67, 0.3), 0px 1px 3px 1px rgba(60, 64, 67, 0.15);\n",
              "      fill: #174EA6;\n",
              "    }\n",
              "\n",
              "    [theme=dark] .colab-df-convert {\n",
              "      background-color: #3B4455;\n",
              "      fill: #D2E3FC;\n",
              "    }\n",
              "\n",
              "    [theme=dark] .colab-df-convert:hover {\n",
              "      background-color: #434B5C;\n",
              "      box-shadow: 0px 1px 3px 1px rgba(0, 0, 0, 0.15);\n",
              "      filter: drop-shadow(0px 1px 2px rgba(0, 0, 0, 0.3));\n",
              "      fill: #FFFFFF;\n",
              "    }\n",
              "  </style>\n",
              "\n",
              "      <script>\n",
              "        const buttonEl =\n",
              "          document.querySelector('#df-376fa5dd-45f8-4917-97c7-3ae741aaf656 button.colab-df-convert');\n",
              "        buttonEl.style.display =\n",
              "          google.colab.kernel.accessAllowed ? 'block' : 'none';\n",
              "\n",
              "        async function convertToInteractive(key) {\n",
              "          const element = document.querySelector('#df-376fa5dd-45f8-4917-97c7-3ae741aaf656');\n",
              "          const dataTable =\n",
              "            await google.colab.kernel.invokeFunction('convertToInteractive',\n",
              "                                                     [key], {});\n",
              "          if (!dataTable) return;\n",
              "\n",
              "          const docLinkHtml = 'Like what you see? Visit the ' +\n",
              "            '<a target=\"_blank\" href=https://colab.research.google.com/notebooks/data_table.ipynb>data table notebook</a>'\n",
              "            + ' to learn more about interactive tables.';\n",
              "          element.innerHTML = '';\n",
              "          dataTable['output_type'] = 'display_data';\n",
              "          await google.colab.output.renderOutput(dataTable, element);\n",
              "          const docLink = document.createElement('div');\n",
              "          docLink.innerHTML = docLinkHtml;\n",
              "          element.appendChild(docLink);\n",
              "        }\n",
              "      </script>\n",
              "    </div>\n",
              "  </div>\n",
              "  "
            ]
          },
          "metadata": {},
          "execution_count": 32
        }
      ]
    },
    {
      "cell_type": "code",
      "source": [
        "df_bank_additional_full_v2 = df_bank_additional_full.copy()\n",
        "\n",
        "df_bank_additional_full_v2 = pd.get_dummies(df_bank_additional_full_v2,prefix=['job'], columns = ['job'], drop_first=True)\n",
        "df_bank_additional_full_v2 = pd.get_dummies(df_bank_additional_full_v2,prefix=['marital'], columns = ['marital'], drop_first=True)\n",
        "df_bank_additional_full_v2 = pd.get_dummies(df_bank_additional_full_v2,prefix=['education'], columns = ['education'], drop_first=True)\n",
        "df_bank_additional_full_v2 = pd.get_dummies(df_bank_additional_full_v2,prefix=['default'], columns = ['default'], drop_first=True)\n",
        "df_bank_additional_full_v2 = pd.get_dummies(df_bank_additional_full_v2,prefix=['housing'], columns = ['housing'], drop_first=True)\n",
        "df_bank_additional_full_v2 = pd.get_dummies(df_bank_additional_full_v2,prefix=['loan'], columns = ['loan'], drop_first=True)\n",
        "df_bank_additional_full_v2 = pd.get_dummies(df_bank_additional_full_v2,prefix=['poutcome'], columns = ['poutcome'], drop_first=True)\n",
        "\n",
        "month_mapping = {\n",
        "    \"jan\":1,\"feb\":2,\"mar\":3,\"apr\":4,\"may\":5,\"jun\":6,\"jul\":7,\"aug\":8,\"sep\":9,\"oct\":10,\"nov\":11,\"dec\":12\n",
        "}\n",
        "binary_mapping = {\n",
        "    \"yes\":1,\"no\":0\n",
        "}\n",
        "contact_mapping = {\n",
        "    \"telephone\":0,\"cellular\":0\n",
        "}\n",
        "dayweek_mapping = {\n",
        "    'mon':1, 'tue':2, 'wed':3, 'thu':4, 'fri':5,'sat':6,'sun':7\n",
        "}\n",
        "\n",
        "df_bank_additional_full_v2[\"month\"] = df_bank_additional_full_v2[\"month\"].map(month_mapping)\n",
        "df_bank_additional_full_v2[\"day_of_week\"] = df_bank_additional_full_v2[\"day_of_week\"].map(dayweek_mapping)\n",
        "df_bank_additional_full_v2[\"contact\"] = df_bank_additional_full_v2[\"contact\"].map(contact_mapping)\n",
        "df_bank_additional_full_v2[\"y\"] = df_bank_additional_full_v2[\"y\"].map(binary_mapping)\n",
        "\n",
        "df_bank_additional_full_v2.head()"
      ],
      "metadata": {
        "colab": {
          "base_uri": "https://localhost:8080/",
          "height": 0
        },
        "id": "nWsSk70xYjQs",
        "outputId": "b02649da-88a6-4d2a-bd44-59ca97a6be5d"
      },
      "execution_count": 33,
      "outputs": [
        {
          "output_type": "execute_result",
          "data": {
            "text/plain": [
              "   age  contact  month  day_of_week  duration  campaign  pdays  previous  \\\n",
              "0   56        0      5            1       261         1    999         0   \n",
              "1   57        0      5            1       149         1    999         0   \n",
              "2   37        0      5            1       226         1    999         0   \n",
              "3   40        0      5            1       151         1    999         0   \n",
              "4   56        0      5            1       307         1    999         0   \n",
              "\n",
              "   emp.var.rate  cons.price.idx  ...  education_university.degree  \\\n",
              "0           1.1          93.994  ...                            0   \n",
              "1           1.1          93.994  ...                            0   \n",
              "2           1.1          93.994  ...                            0   \n",
              "3           1.1          93.994  ...                            0   \n",
              "4           1.1          93.994  ...                            0   \n",
              "\n",
              "   education_unknown  default_unknown  default_yes  housing_unknown  \\\n",
              "0                  0                0            0                0   \n",
              "1                  0                1            0                0   \n",
              "2                  0                0            0                0   \n",
              "3                  0                0            0                0   \n",
              "4                  0                0            0                0   \n",
              "\n",
              "   housing_yes  loan_unknown  loan_yes  poutcome_nonexistent  poutcome_success  \n",
              "0            0             0         0                     1                 0  \n",
              "1            0             0         0                     1                 0  \n",
              "2            1             0         0                     1                 0  \n",
              "3            0             0         0                     1                 0  \n",
              "4            0             0         1                     1                 0  \n",
              "\n",
              "[5 rows x 43 columns]"
            ],
            "text/html": [
              "\n",
              "  <div id=\"df-4cf83ccd-2fba-43c5-8fd4-1cd35b6731c2\">\n",
              "    <div class=\"colab-df-container\">\n",
              "      <div>\n",
              "<style scoped>\n",
              "    .dataframe tbody tr th:only-of-type {\n",
              "        vertical-align: middle;\n",
              "    }\n",
              "\n",
              "    .dataframe tbody tr th {\n",
              "        vertical-align: top;\n",
              "    }\n",
              "\n",
              "    .dataframe thead th {\n",
              "        text-align: right;\n",
              "    }\n",
              "</style>\n",
              "<table border=\"1\" class=\"dataframe\">\n",
              "  <thead>\n",
              "    <tr style=\"text-align: right;\">\n",
              "      <th></th>\n",
              "      <th>age</th>\n",
              "      <th>contact</th>\n",
              "      <th>month</th>\n",
              "      <th>day_of_week</th>\n",
              "      <th>duration</th>\n",
              "      <th>campaign</th>\n",
              "      <th>pdays</th>\n",
              "      <th>previous</th>\n",
              "      <th>emp.var.rate</th>\n",
              "      <th>cons.price.idx</th>\n",
              "      <th>...</th>\n",
              "      <th>education_university.degree</th>\n",
              "      <th>education_unknown</th>\n",
              "      <th>default_unknown</th>\n",
              "      <th>default_yes</th>\n",
              "      <th>housing_unknown</th>\n",
              "      <th>housing_yes</th>\n",
              "      <th>loan_unknown</th>\n",
              "      <th>loan_yes</th>\n",
              "      <th>poutcome_nonexistent</th>\n",
              "      <th>poutcome_success</th>\n",
              "    </tr>\n",
              "  </thead>\n",
              "  <tbody>\n",
              "    <tr>\n",
              "      <th>0</th>\n",
              "      <td>56</td>\n",
              "      <td>0</td>\n",
              "      <td>5</td>\n",
              "      <td>1</td>\n",
              "      <td>261</td>\n",
              "      <td>1</td>\n",
              "      <td>999</td>\n",
              "      <td>0</td>\n",
              "      <td>1.1</td>\n",
              "      <td>93.994</td>\n",
              "      <td>...</td>\n",
              "      <td>0</td>\n",
              "      <td>0</td>\n",
              "      <td>0</td>\n",
              "      <td>0</td>\n",
              "      <td>0</td>\n",
              "      <td>0</td>\n",
              "      <td>0</td>\n",
              "      <td>0</td>\n",
              "      <td>1</td>\n",
              "      <td>0</td>\n",
              "    </tr>\n",
              "    <tr>\n",
              "      <th>1</th>\n",
              "      <td>57</td>\n",
              "      <td>0</td>\n",
              "      <td>5</td>\n",
              "      <td>1</td>\n",
              "      <td>149</td>\n",
              "      <td>1</td>\n",
              "      <td>999</td>\n",
              "      <td>0</td>\n",
              "      <td>1.1</td>\n",
              "      <td>93.994</td>\n",
              "      <td>...</td>\n",
              "      <td>0</td>\n",
              "      <td>0</td>\n",
              "      <td>1</td>\n",
              "      <td>0</td>\n",
              "      <td>0</td>\n",
              "      <td>0</td>\n",
              "      <td>0</td>\n",
              "      <td>0</td>\n",
              "      <td>1</td>\n",
              "      <td>0</td>\n",
              "    </tr>\n",
              "    <tr>\n",
              "      <th>2</th>\n",
              "      <td>37</td>\n",
              "      <td>0</td>\n",
              "      <td>5</td>\n",
              "      <td>1</td>\n",
              "      <td>226</td>\n",
              "      <td>1</td>\n",
              "      <td>999</td>\n",
              "      <td>0</td>\n",
              "      <td>1.1</td>\n",
              "      <td>93.994</td>\n",
              "      <td>...</td>\n",
              "      <td>0</td>\n",
              "      <td>0</td>\n",
              "      <td>0</td>\n",
              "      <td>0</td>\n",
              "      <td>0</td>\n",
              "      <td>1</td>\n",
              "      <td>0</td>\n",
              "      <td>0</td>\n",
              "      <td>1</td>\n",
              "      <td>0</td>\n",
              "    </tr>\n",
              "    <tr>\n",
              "      <th>3</th>\n",
              "      <td>40</td>\n",
              "      <td>0</td>\n",
              "      <td>5</td>\n",
              "      <td>1</td>\n",
              "      <td>151</td>\n",
              "      <td>1</td>\n",
              "      <td>999</td>\n",
              "      <td>0</td>\n",
              "      <td>1.1</td>\n",
              "      <td>93.994</td>\n",
              "      <td>...</td>\n",
              "      <td>0</td>\n",
              "      <td>0</td>\n",
              "      <td>0</td>\n",
              "      <td>0</td>\n",
              "      <td>0</td>\n",
              "      <td>0</td>\n",
              "      <td>0</td>\n",
              "      <td>0</td>\n",
              "      <td>1</td>\n",
              "      <td>0</td>\n",
              "    </tr>\n",
              "    <tr>\n",
              "      <th>4</th>\n",
              "      <td>56</td>\n",
              "      <td>0</td>\n",
              "      <td>5</td>\n",
              "      <td>1</td>\n",
              "      <td>307</td>\n",
              "      <td>1</td>\n",
              "      <td>999</td>\n",
              "      <td>0</td>\n",
              "      <td>1.1</td>\n",
              "      <td>93.994</td>\n",
              "      <td>...</td>\n",
              "      <td>0</td>\n",
              "      <td>0</td>\n",
              "      <td>0</td>\n",
              "      <td>0</td>\n",
              "      <td>0</td>\n",
              "      <td>0</td>\n",
              "      <td>0</td>\n",
              "      <td>1</td>\n",
              "      <td>1</td>\n",
              "      <td>0</td>\n",
              "    </tr>\n",
              "  </tbody>\n",
              "</table>\n",
              "<p>5 rows × 43 columns</p>\n",
              "</div>\n",
              "      <button class=\"colab-df-convert\" onclick=\"convertToInteractive('df-4cf83ccd-2fba-43c5-8fd4-1cd35b6731c2')\"\n",
              "              title=\"Convert this dataframe to an interactive table.\"\n",
              "              style=\"display:none;\">\n",
              "        \n",
              "  <svg xmlns=\"http://www.w3.org/2000/svg\" height=\"24px\"viewBox=\"0 0 24 24\"\n",
              "       width=\"24px\">\n",
              "    <path d=\"M0 0h24v24H0V0z\" fill=\"none\"/>\n",
              "    <path d=\"M18.56 5.44l.94 2.06.94-2.06 2.06-.94-2.06-.94-.94-2.06-.94 2.06-2.06.94zm-11 1L8.5 8.5l.94-2.06 2.06-.94-2.06-.94L8.5 2.5l-.94 2.06-2.06.94zm10 10l.94 2.06.94-2.06 2.06-.94-2.06-.94-.94-2.06-.94 2.06-2.06.94z\"/><path d=\"M17.41 7.96l-1.37-1.37c-.4-.4-.92-.59-1.43-.59-.52 0-1.04.2-1.43.59L10.3 9.45l-7.72 7.72c-.78.78-.78 2.05 0 2.83L4 21.41c.39.39.9.59 1.41.59.51 0 1.02-.2 1.41-.59l7.78-7.78 2.81-2.81c.8-.78.8-2.07 0-2.86zM5.41 20L4 18.59l7.72-7.72 1.47 1.35L5.41 20z\"/>\n",
              "  </svg>\n",
              "      </button>\n",
              "      \n",
              "  <style>\n",
              "    .colab-df-container {\n",
              "      display:flex;\n",
              "      flex-wrap:wrap;\n",
              "      gap: 12px;\n",
              "    }\n",
              "\n",
              "    .colab-df-convert {\n",
              "      background-color: #E8F0FE;\n",
              "      border: none;\n",
              "      border-radius: 50%;\n",
              "      cursor: pointer;\n",
              "      display: none;\n",
              "      fill: #1967D2;\n",
              "      height: 32px;\n",
              "      padding: 0 0 0 0;\n",
              "      width: 32px;\n",
              "    }\n",
              "\n",
              "    .colab-df-convert:hover {\n",
              "      background-color: #E2EBFA;\n",
              "      box-shadow: 0px 1px 2px rgba(60, 64, 67, 0.3), 0px 1px 3px 1px rgba(60, 64, 67, 0.15);\n",
              "      fill: #174EA6;\n",
              "    }\n",
              "\n",
              "    [theme=dark] .colab-df-convert {\n",
              "      background-color: #3B4455;\n",
              "      fill: #D2E3FC;\n",
              "    }\n",
              "\n",
              "    [theme=dark] .colab-df-convert:hover {\n",
              "      background-color: #434B5C;\n",
              "      box-shadow: 0px 1px 3px 1px rgba(0, 0, 0, 0.15);\n",
              "      filter: drop-shadow(0px 1px 2px rgba(0, 0, 0, 0.3));\n",
              "      fill: #FFFFFF;\n",
              "    }\n",
              "  </style>\n",
              "\n",
              "      <script>\n",
              "        const buttonEl =\n",
              "          document.querySelector('#df-4cf83ccd-2fba-43c5-8fd4-1cd35b6731c2 button.colab-df-convert');\n",
              "        buttonEl.style.display =\n",
              "          google.colab.kernel.accessAllowed ? 'block' : 'none';\n",
              "\n",
              "        async function convertToInteractive(key) {\n",
              "          const element = document.querySelector('#df-4cf83ccd-2fba-43c5-8fd4-1cd35b6731c2');\n",
              "          const dataTable =\n",
              "            await google.colab.kernel.invokeFunction('convertToInteractive',\n",
              "                                                     [key], {});\n",
              "          if (!dataTable) return;\n",
              "\n",
              "          const docLinkHtml = 'Like what you see? Visit the ' +\n",
              "            '<a target=\"_blank\" href=https://colab.research.google.com/notebooks/data_table.ipynb>data table notebook</a>'\n",
              "            + ' to learn more about interactive tables.';\n",
              "          element.innerHTML = '';\n",
              "          dataTable['output_type'] = 'display_data';\n",
              "          await google.colab.output.renderOutput(dataTable, element);\n",
              "          const docLink = document.createElement('div');\n",
              "          docLink.innerHTML = docLinkHtml;\n",
              "          element.appendChild(docLink);\n",
              "        }\n",
              "      </script>\n",
              "    </div>\n",
              "  </div>\n",
              "  "
            ]
          },
          "metadata": {},
          "execution_count": 33
        }
      ]
    },
    {
      "cell_type": "markdown",
      "source": [
        "**Desarrollo de modelos con dataset Bank additional full**"
      ],
      "metadata": {
        "id": "x4Jah3r-bj-E"
      }
    },
    {
      "cell_type": "markdown",
      "source": [
        "Este es un problema de clasificacion binaria, por lo tanto, los posibles modelos de machine learning para este caso son:\n",
        "* Decision tree classifier\n",
        "* Binary logistic regression\n",
        "* Random forest classifier\n",
        "* Support vector machine\n",
        "* XGBoost classifier\n",
        "\n",
        "Cada uno tendra sus hiperparametros optimizados y definidos por defecto para reducir el tiempo de ejecucion del notebook"
      ],
      "metadata": {
        "id": "57N75bf2blRy"
      }
    },
    {
      "cell_type": "markdown",
      "source": [
        "La metrica a utilizar debe depender de:\n",
        "* La precision porque los falsos negativos representan una perdido de venta para la institucion\n",
        "* La exhaustividad porque los falsos positivos representan un costo de contacto y perdida de tiempo de personal\n",
        "\n",
        "Por lo tanto, la metrica sera F1-score.\n",
        "\n",
        "Sin embargo, las evaluaciones visualizaran otras metricas como matriz de confusion, accuracy score y AUC score para que el lector tenga una comprension mas integral sobre el rendimiento de los modelos\n"
      ],
      "metadata": {
        "id": "CfSgq1D2bq6f"
      }
    },
    {
      "cell_type": "code",
      "source": [
        "from sklearn.tree import DecisionTreeClassifier\n",
        "from sklearn.model_selection import train_test_split\n",
        "from sklearn.metrics import accuracy_score, confusion_matrix, f1_score, roc_auc_score, roc_curve\n",
        "from sklearn.model_selection import cross_val_score\n",
        "from sklearn.model_selection import GridSearchCV"
      ],
      "metadata": {
        "id": "gJ22nb8zbjR-"
      },
      "execution_count": 34,
      "outputs": []
    },
    {
      "cell_type": "code",
      "source": [
        "def matriz_confusion_predicciones(model,x,y):\n",
        "  predicciones = model.predict(x)\n",
        "  cm = confusion_matrix(y,predicciones, normalize='true')\n",
        "  x_axis_labels = [0,1]\n",
        "  y_axis_labels = [0,1]\n",
        "  plt.figure(figsize=(23,8))\n",
        "  sns.heatmap(cm, annot=True, xticklabels=x_axis_labels, yticklabels=y_axis_labels)\n",
        "  plt.show()\n",
        "\n",
        "\n",
        "def evaluacion_modelo(model, X_test, y_test):\n",
        "    y_pred = model.predict(X_test)\n",
        "    acc = accuracy_score(y_test, y_pred)\n",
        "    fscore = f1_score(y_test, y_pred)\n",
        "    auc = roc_auc_score(y_test, y_pred)\n",
        "    print(f\"Accuracy en testing: {acc}\")\n",
        "    print(f\"F1 score en testing: {fscore}\")\n",
        "    print(f\"AUC score en testing: {auc}\")\n",
        "    fpr, tpr, thresholds = roc_curve(y_test, y_pred)\n",
        "    plt.figure(figsize=(23,8))\n",
        "    plt.title(\"Curva ROC\")\n",
        "    plt.plot(fpr, tpr,label='ROC AUC: '+str(round(auc,4)))\n",
        "    plt.legend()\n",
        "    plt.show()\n",
        "    matriz_confusion_predicciones(model,X_test,y_test)"
      ],
      "metadata": {
        "id": "uN4f-nMybvjH"
      },
      "execution_count": 35,
      "outputs": []
    },
    {
      "cell_type": "markdown",
      "source": [
        "El dataset sera dividido en training y testing para las evaluaciones, considerando que la distribucion de \"y\" esta desbalanceada es importante que el metodo de separacion sea estratificado.\n",
        "\n",
        "De esa forma ambas fracciones tendran la misma forma de distribucion en \"y\""
      ],
      "metadata": {
        "id": "_ydVaufCbyKM"
      }
    },
    {
      "cell_type": "code",
      "source": [
        "features = df_bank_additional_full_v2.drop(columns=[\"y\"]).columns\n",
        "target = 'y'\n",
        "\n",
        "X = df_bank_additional_full_v2[features].copy()\n",
        "y = df_bank_additional_full_v2[target].copy()\n",
        "\n",
        "test_pct = 0.3 #30% de los dados para testing\n",
        "x_train, x_test, y_train, y_test = train_test_split(X, y, test_size=test_pct, stratify = y, random_state=42)\n",
        "\n",
        "del X,y"
      ],
      "metadata": {
        "id": "trHTg6utbxIs"
      },
      "execution_count": 36,
      "outputs": []
    },
    {
      "cell_type": "markdown",
      "source": [
        "**Decision tree classifier**"
      ],
      "metadata": {
        "id": "SAdIM0ZwcwL_"
      }
    },
    {
      "cell_type": "code",
      "source": [
        "params = {\n",
        "    'min_samples_leaf': range(1,5),\n",
        "    'min_samples_split': range(2,5),\n",
        "    'criterion': [\"gini\", \"entropy\"],\n",
        "    'max_depth':range(1,15)\n",
        "}\n",
        "\n",
        "params = {\n",
        "    'min_samples_leaf': [1],\n",
        "    'min_samples_split': [2],\n",
        "    'criterion': [\"gini\"],\n",
        "    'max_depth':[3]\n",
        "}\n",
        "\n",
        "tree = DecisionTreeClassifier(random_state=42)\n",
        "\n",
        "grid_search = GridSearchCV(estimator=tree, param_grid=params, cv=4, n_jobs=-1, verbose=0, scoring = \"f1\",error_score='raise')\n",
        "grid_search.fit(x_train,y_train)\n",
        "evaluacion_modelo(grid_search.best_estimator_, x_test, y_test)"
      ],
      "metadata": {
        "colab": {
          "base_uri": "https://localhost:8080/",
          "height": 0
        },
        "id": "yBZSGPRAcwkm",
        "outputId": "6ea9c602-df2c-488c-d967-17edb6b2bc04"
      },
      "execution_count": 37,
      "outputs": [
        {
          "output_type": "stream",
          "name": "stdout",
          "text": [
            "Accuracy en testing: 0.9098486687707372\n",
            "F1 score en testing: 0.5922401171303076\n",
            "AUC score en testing: 0.7663756741670206\n"
          ]
        },
        {
          "output_type": "display_data",
          "data": {
            "text/plain": [
              "<Figure size 1656x576 with 1 Axes>"
            ],
            "image/png": "[encoded data removed]"
          },
          "metadata": {
            "needs_background": "light"
          }
        },
        {
          "output_type": "display_data",
          "data": {
            "text/plain": [
              "<Figure size 1656x576 with 2 Axes>"
            ],
            "image/png": "[encoded data removed]"
          },
          "metadata": {
            "needs_background": "light"
          }
        }
      ]
    },
    {
      "cell_type": "markdown",
      "source": [
        "**Binary logistic regression**"
      ],
      "metadata": {
        "id": "V9904VxocyXg"
      }
    },
    {
      "cell_type": "code",
      "source": [
        "from sklearn.linear_model import LogisticRegression\n",
        "\n",
        "grid={\n",
        "    \"C\":np.logspace(-3,3,7), \n",
        "    \"penalty\":[\"l2\"] #l2 ridge\n",
        "}\n",
        "\n",
        "grid={\n",
        "    \"C\":[1.0], \n",
        "    \"penalty\":[\"l2\"] #l2 ridge\n",
        "}\n",
        "\n",
        "logreg=LogisticRegression(random_state=42)\n",
        "logreg_cv=GridSearchCV(estimator=logreg, param_grid=grid, cv=4, n_jobs=-1, verbose=0, scoring = \"f1\",error_score='raise')\n",
        "logreg_cv.fit(x_train,y_train)\n",
        "evaluacion_modelo(logreg_cv.best_estimator_, x_test, y_test)"
      ],
      "metadata": {
        "colab": {
          "base_uri": "https://localhost:8080/",
          "height": 0
        },
        "id": "e3Iddn90c0E3",
        "outputId": "9b14e64e-f53c-4e53-f9d1-5b4185826d1b"
      },
      "execution_count": 38,
      "outputs": [
        {
          "output_type": "stream",
          "name": "stderr",
          "text": [
            "/usr/local/lib/python3.7/dist-packages/sklearn/linear_model/_logistic.py:818: ConvergenceWarning: lbfgs failed to converge (status=1):\n",
            "STOP: TOTAL NO. of ITERATIONS REACHED LIMIT.\n",
            "\n",
            "Increase the number of iterations (max_iter) or scale the data as shown in:\n",
            "    https://scikit-learn.org/stable/modules/preprocessing.html\n",
            "Please also refer to the documentation for alternative solver options:\n",
            "    https://scikit-learn.org/stable/modules/linear_model.html#logistic-regression\n",
            "  extra_warning_msg=_LOGISTIC_SOLVER_CONVERGENCE_MSG,\n"
          ]
        },
        {
          "output_type": "stream",
          "name": "stdout",
          "text": [
            "Accuracy en testing: 0.9087157076960427\n",
            "F1 score en testing: 0.48114075436982523\n",
            "AUC score en testing: 0.676048889884743\n"
          ]
        },
        {
          "output_type": "display_data",
          "data": {
            "text/plain": [
              "<Figure size 1656x576 with 1 Axes>"
            ],
            "image/png": "[encoded data removed]"
          },
          "metadata": {
            "needs_background": "light"
          }
        },
        {
          "output_type": "display_data",
          "data": {
            "text/plain": [
              "<Figure size 1656x576 with 2 Axes>"
            ],
            "image/png": "[encoded data removed]"
          },
          "metadata": {
            "needs_background": "light"
          }
        }
      ]
    },
    {
      "cell_type": "markdown",
      "source": [
        "**Random forest classifier**"
      ],
      "metadata": {
        "id": "qRXeiTW6c12W"
      }
    },
    {
      "cell_type": "code",
      "source": [
        "from sklearn.ensemble import RandomForestClassifier\n",
        "\n",
        "params = {\n",
        " 'bootstrap': [True, False],\n",
        " 'max_depth': range(1,5),\n",
        " 'max_features': ['auto', 'sqrt'],\n",
        " 'min_samples_leaf': range(1,5),\n",
        " 'min_samples_split': range(2,5),\n",
        " 'n_estimators': range(1,15)\n",
        "}\n",
        "\n",
        "params = {\n",
        " 'bootstrap': [True],\n",
        " 'max_depth': [4],\n",
        " 'max_features': ['auto'],\n",
        " 'min_samples_leaf': [3],\n",
        " 'min_samples_split': [2],\n",
        " 'n_estimators': [5]\n",
        "}\n",
        "\n",
        "tree = RandomForestClassifier(random_state=42)\n",
        "\n",
        "grid_search = GridSearchCV(estimator=tree, param_grid=params, cv=4, n_jobs=-1, verbose=0, scoring = \"f1\",error_score='raise')\n",
        "grid_search.fit(x_train,y_train)\n",
        "evaluacion_modelo(grid_search.best_estimator_, x_test, y_test)"
      ],
      "metadata": {
        "colab": {
          "base_uri": "https://localhost:8080/",
          "height": 0
        },
        "id": "Sen9RQCVc3JY",
        "outputId": "8b1b2252-a987-46b4-c7cf-690917739699"
      },
      "execution_count": 39,
      "outputs": [
        {
          "output_type": "stream",
          "name": "stdout",
          "text": [
            "Accuracy en testing: 0.902889050740471\n",
            "F1 score en testing: 0.3449781659388646\n",
            "AUC score en testing: 0.607851392361275\n"
          ]
        },
        {
          "output_type": "display_data",
          "data": {
            "text/plain": [
              "<Figure size 1656x576 with 1 Axes>"
            ],
            "image/png": "[encoded data removed]"
          },
          "metadata": {
            "needs_background": "light"
          }
        },
        {
          "output_type": "display_data",
          "data": {
            "text/plain": [
              "<Figure size 1656x576 with 2 Axes>"
            ],
            "image/png": "[encoded data removed]"
          },
          "metadata": {
            "needs_background": "light"
          }
        }
      ]
    },
    {
      "cell_type": "markdown",
      "source": [
        "**Support vector machine**"
      ],
      "metadata": {
        "id": "41V1U6lBc4-o"
      }
    },
    {
      "cell_type": "markdown",
      "source": [
        "Para este modelo en especial, es preferible utilizar el dataset bank.csv como fuente de informacion para entrenamiento.\n",
        "\n",
        "La maquina de soporte vectorial (SVM) almacena una matriz que representa al dataset y calcula la distancia entre cada punto, es preferible que la matriz sea lo mas pequeña posible para que el tiempo de ejecucion sea minimo"
      ],
      "metadata": {
        "id": "7GxKEmHlc6nN"
      }
    },
    {
      "cell_type": "code",
      "source": [
        "df_bank_additional = pd.read_csv(\"bank-additional.csv\",delimiter=\";\")\n",
        "\n",
        "df_bank_additional = pd.get_dummies(df_bank_additional,prefix=['job'], columns = ['job'], drop_first=True)\n",
        "df_bank_additional = pd.get_dummies(df_bank_additional,prefix=['marital'], columns = ['marital'], drop_first=True)\n",
        "df_bank_additional = pd.get_dummies(df_bank_additional,prefix=['education'], columns = ['education'], drop_first=True)\n",
        "df_bank_additional = pd.get_dummies(df_bank_additional,prefix=['default'], columns = ['default'], drop_first=True)\n",
        "df_bank_additional = pd.get_dummies(df_bank_additional,prefix=['housing'], columns = ['housing'], drop_first=True)\n",
        "df_bank_additional = pd.get_dummies(df_bank_additional,prefix=['loan'], columns = ['loan'], drop_first=True)\n",
        "df_bank_additional = pd.get_dummies(df_bank_additional,prefix=['poutcome'], columns = ['poutcome'], drop_first=True)\n",
        "\n",
        "month_mapping = {\n",
        "    \"jan\":1,\"feb\":2,\"mar\":3,\"apr\":4,\"may\":5,\"jun\":6,\"jul\":7,\"aug\":8,\"sep\":9,\"oct\":10,\"nov\":11,\"dec\":12\n",
        "}\n",
        "binary_mapping = {\n",
        "    \"yes\":1,\"no\":0\n",
        "}\n",
        "contact_mapping = {\n",
        "    \"telephone\":0,\"cellular\":0\n",
        "}\n",
        "dayweek_mapping = {\n",
        "    'mon':1, 'tue':2, 'wed':3, 'thu':4, 'fri':5,'sat':6,'sun':7\n",
        "}\n",
        "\n",
        "df_bank_additional[\"month\"] = df_bank_additional[\"month\"].map(month_mapping)\n",
        "df_bank_additional[\"day_of_week\"] = df_bank_additional[\"day_of_week\"].map(dayweek_mapping)\n",
        "df_bank_additional[\"contact\"] = df_bank_additional[\"contact\"].map(contact_mapping)\n",
        "df_bank_additional[\"y\"] = df_bank_additional[\"y\"].map(binary_mapping)\n",
        "\n",
        "x_train_svm = df_bank_additional[features].copy()\n",
        "y_train_svm = df_bank_additional[target].copy()\n",
        "\n",
        "df_bank_additional.head()"
      ],
      "metadata": {
        "colab": {
          "base_uri": "https://localhost:8080/",
          "height": 0
        },
        "id": "LBTOchObiTl7",
        "outputId": "adaedf50-3d01-47e1-8c80-cd36eee5d57f"
      },
      "execution_count": 40,
      "outputs": [
        {
          "output_type": "execute_result",
          "data": {
            "text/plain": [
              "   age  contact  month  day_of_week  duration  campaign  pdays  previous  \\\n",
              "0   30        0      5            5       487         2    999         0   \n",
              "1   39        0      5            5       346         4    999         0   \n",
              "2   25        0      6            3       227         1    999         0   \n",
              "3   38        0      6            5        17         3    999         0   \n",
              "4   47        0     11            1        58         1    999         0   \n",
              "\n",
              "   emp.var.rate  cons.price.idx  ...  education_university.degree  \\\n",
              "0          -1.8          92.893  ...                            0   \n",
              "1           1.1          93.994  ...                            0   \n",
              "2           1.4          94.465  ...                            0   \n",
              "3           1.4          94.465  ...                            0   \n",
              "4          -0.1          93.200  ...                            1   \n",
              "\n",
              "   education_unknown  default_unknown  default_yes  housing_unknown  \\\n",
              "0                  0                0            0                0   \n",
              "1                  0                0            0                0   \n",
              "2                  0                0            0                0   \n",
              "3                  0                0            0                1   \n",
              "4                  0                0            0                0   \n",
              "\n",
              "   housing_yes  loan_unknown  loan_yes  poutcome_nonexistent  poutcome_success  \n",
              "0            1             0         0                     1                 0  \n",
              "1            0             0         0                     1                 0  \n",
              "2            1             0         0                     1                 0  \n",
              "3            0             1         0                     1                 0  \n",
              "4            1             0         0                     1                 0  \n",
              "\n",
              "[5 rows x 43 columns]"
            ],
            "text/html": [
              "\n",
              "  <div id=\"df-643ca504-9e3a-4678-bb87-7a1993e90bb4\">\n",
              "    <div class=\"colab-df-container\">\n",
              "      <div>\n",
              "<style scoped>\n",
              "    .dataframe tbody tr th:only-of-type {\n",
              "        vertical-align: middle;\n",
              "    }\n",
              "\n",
              "    .dataframe tbody tr th {\n",
              "        vertical-align: top;\n",
              "    }\n",
              "\n",
              "    .dataframe thead th {\n",
              "        text-align: right;\n",
              "    }\n",
              "</style>\n",
              "<table border=\"1\" class=\"dataframe\">\n",
              "  <thead>\n",
              "    <tr style=\"text-align: right;\">\n",
              "      <th></th>\n",
              "      <th>age</th>\n",
              "      <th>contact</th>\n",
              "      <th>month</th>\n",
              "      <th>day_of_week</th>\n",
              "      <th>duration</th>\n",
              "      <th>campaign</th>\n",
              "      <th>pdays</th>\n",
              "      <th>previous</th>\n",
              "      <th>emp.var.rate</th>\n",
              "      <th>cons.price.idx</th>\n",
              "      <th>...</th>\n",
              "      <th>education_university.degree</th>\n",
              "      <th>education_unknown</th>\n",
              "      <th>default_unknown</th>\n",
              "      <th>default_yes</th>\n",
              "      <th>housing_unknown</th>\n",
              "      <th>housing_yes</th>\n",
              "      <th>loan_unknown</th>\n",
              "      <th>loan_yes</th>\n",
              "      <th>poutcome_nonexistent</th>\n",
              "      <th>poutcome_success</th>\n",
              "    </tr>\n",
              "  </thead>\n",
              "  <tbody>\n",
              "    <tr>\n",
              "      <th>0</th>\n",
              "      <td>30</td>\n",
              "      <td>0</td>\n",
              "      <td>5</td>\n",
              "      <td>5</td>\n",
              "      <td>487</td>\n",
              "      <td>2</td>\n",
              "      <td>999</td>\n",
              "      <td>0</td>\n",
              "      <td>-1.8</td>\n",
              "      <td>92.893</td>\n",
              "      <td>...</td>\n",
              "      <td>0</td>\n",
              "      <td>0</td>\n",
              "      <td>0</td>\n",
              "      <td>0</td>\n",
              "      <td>0</td>\n",
              "      <td>1</td>\n",
              "      <td>0</td>\n",
              "      <td>0</td>\n",
              "      <td>1</td>\n",
              "      <td>0</td>\n",
              "    </tr>\n",
              "    <tr>\n",
              "      <th>1</th>\n",
              "      <td>39</td>\n",
              "      <td>0</td>\n",
              "      <td>5</td>\n",
              "      <td>5</td>\n",
              "      <td>346</td>\n",
              "      <td>4</td>\n",
              "      <td>999</td>\n",
              "      <td>0</td>\n",
              "      <td>1.1</td>\n",
              "      <td>93.994</td>\n",
              "      <td>...</td>\n",
              "      <td>0</td>\n",
              "      <td>0</td>\n",
              "      <td>0</td>\n",
              "      <td>0</td>\n",
              "      <td>0</td>\n",
              "      <td>0</td>\n",
              "      <td>0</td>\n",
              "      <td>0</td>\n",
              "      <td>1</td>\n",
              "      <td>0</td>\n",
              "    </tr>\n",
              "    <tr>\n",
              "      <th>2</th>\n",
              "      <td>25</td>\n",
              "      <td>0</td>\n",
              "      <td>6</td>\n",
              "      <td>3</td>\n",
              "      <td>227</td>\n",
              "      <td>1</td>\n",
              "      <td>999</td>\n",
              "      <td>0</td>\n",
              "      <td>1.4</td>\n",
              "      <td>94.465</td>\n",
              "      <td>...</td>\n",
              "      <td>0</td>\n",
              "      <td>0</td>\n",
              "      <td>0</td>\n",
              "      <td>0</td>\n",
              "      <td>0</td>\n",
              "      <td>1</td>\n",
              "      <td>0</td>\n",
              "      <td>0</td>\n",
              "      <td>1</td>\n",
              "      <td>0</td>\n",
              "    </tr>\n",
              "    <tr>\n",
              "      <th>3</th>\n",
              "      <td>38</td>\n",
              "      <td>0</td>\n",
              "      <td>6</td>\n",
              "      <td>5</td>\n",
              "      <td>17</td>\n",
              "      <td>3</td>\n",
              "      <td>999</td>\n",
              "      <td>0</td>\n",
              "      <td>1.4</td>\n",
              "      <td>94.465</td>\n",
              "      <td>...</td>\n",
              "      <td>0</td>\n",
              "      <td>0</td>\n",
              "      <td>0</td>\n",
              "      <td>0</td>\n",
              "      <td>1</td>\n",
              "      <td>0</td>\n",
              "      <td>1</td>\n",
              "      <td>0</td>\n",
              "      <td>1</td>\n",
              "      <td>0</td>\n",
              "    </tr>\n",
              "    <tr>\n",
              "      <th>4</th>\n",
              "      <td>47</td>\n",
              "      <td>0</td>\n",
              "      <td>11</td>\n",
              "      <td>1</td>\n",
              "      <td>58</td>\n",
              "      <td>1</td>\n",
              "      <td>999</td>\n",
              "      <td>0</td>\n",
              "      <td>-0.1</td>\n",
              "      <td>93.200</td>\n",
              "      <td>...</td>\n",
              "      <td>1</td>\n",
              "      <td>0</td>\n",
              "      <td>0</td>\n",
              "      <td>0</td>\n",
              "      <td>0</td>\n",
              "      <td>1</td>\n",
              "      <td>0</td>\n",
              "      <td>0</td>\n",
              "      <td>1</td>\n",
              "      <td>0</td>\n",
              "    </tr>\n",
              "  </tbody>\n",
              "</table>\n",
              "<p>5 rows × 43 columns</p>\n",
              "</div>\n",
              "      <button class=\"colab-df-convert\" onclick=\"convertToInteractive('df-643ca504-9e3a-4678-bb87-7a1993e90bb4')\"\n",
              "              title=\"Convert this dataframe to an interactive table.\"\n",
              "              style=\"display:none;\">\n",
              "        \n",
              "  <svg xmlns=\"http://www.w3.org/2000/svg\" height=\"24px\"viewBox=\"0 0 24 24\"\n",
              "       width=\"24px\">\n",
              "    <path d=\"M0 0h24v24H0V0z\" fill=\"none\"/>\n",
              "    <path d=\"M18.56 5.44l.94 2.06.94-2.06 2.06-.94-2.06-.94-.94-2.06-.94 2.06-2.06.94zm-11 1L8.5 8.5l.94-2.06 2.06-.94-2.06-.94L8.5 2.5l-.94 2.06-2.06.94zm10 10l.94 2.06.94-2.06 2.06-.94-2.06-.94-.94-2.06-.94 2.06-2.06.94z\"/><path d=\"M17.41 7.96l-1.37-1.37c-.4-.4-.92-.59-1.43-.59-.52 0-1.04.2-1.43.59L10.3 9.45l-7.72 7.72c-.78.78-.78 2.05 0 2.83L4 21.41c.39.39.9.59 1.41.59.51 0 1.02-.2 1.41-.59l7.78-7.78 2.81-2.81c.8-.78.8-2.07 0-2.86zM5.41 20L4 18.59l7.72-7.72 1.47 1.35L5.41 20z\"/>\n",
              "  </svg>\n",
              "      </button>\n",
              "      \n",
              "  <style>\n",
              "    .colab-df-container {\n",
              "      display:flex;\n",
              "      flex-wrap:wrap;\n",
              "      gap: 12px;\n",
              "    }\n",
              "\n",
              "    .colab-df-convert {\n",
              "      background-color: #E8F0FE;\n",
              "      border: none;\n",
              "      border-radius: 50%;\n",
              "      cursor: pointer;\n",
              "      display: none;\n",
              "      fill: #1967D2;\n",
              "      height: 32px;\n",
              "      padding: 0 0 0 0;\n",
              "      width: 32px;\n",
              "    }\n",
              "\n",
              "    .colab-df-convert:hover {\n",
              "      background-color: #E2EBFA;\n",
              "      box-shadow: 0px 1px 2px rgba(60, 64, 67, 0.3), 0px 1px 3px 1px rgba(60, 64, 67, 0.15);\n",
              "      fill: #174EA6;\n",
              "    }\n",
              "\n",
              "    [theme=dark] .colab-df-convert {\n",
              "      background-color: #3B4455;\n",
              "      fill: #D2E3FC;\n",
              "    }\n",
              "\n",
              "    [theme=dark] .colab-df-convert:hover {\n",
              "      background-color: #434B5C;\n",
              "      box-shadow: 0px 1px 3px 1px rgba(0, 0, 0, 0.15);\n",
              "      filter: drop-shadow(0px 1px 2px rgba(0, 0, 0, 0.3));\n",
              "      fill: #FFFFFF;\n",
              "    }\n",
              "  </style>\n",
              "\n",
              "      <script>\n",
              "        const buttonEl =\n",
              "          document.querySelector('#df-643ca504-9e3a-4678-bb87-7a1993e90bb4 button.colab-df-convert');\n",
              "        buttonEl.style.display =\n",
              "          google.colab.kernel.accessAllowed ? 'block' : 'none';\n",
              "\n",
              "        async function convertToInteractive(key) {\n",
              "          const element = document.querySelector('#df-643ca504-9e3a-4678-bb87-7a1993e90bb4');\n",
              "          const dataTable =\n",
              "            await google.colab.kernel.invokeFunction('convertToInteractive',\n",
              "                                                     [key], {});\n",
              "          if (!dataTable) return;\n",
              "\n",
              "          const docLinkHtml = 'Like what you see? Visit the ' +\n",
              "            '<a target=\"_blank\" href=https://colab.research.google.com/notebooks/data_table.ipynb>data table notebook</a>'\n",
              "            + ' to learn more about interactive tables.';\n",
              "          element.innerHTML = '';\n",
              "          dataTable['output_type'] = 'display_data';\n",
              "          await google.colab.output.renderOutput(dataTable, element);\n",
              "          const docLink = document.createElement('div');\n",
              "          docLink.innerHTML = docLinkHtml;\n",
              "          element.appendChild(docLink);\n",
              "        }\n",
              "      </script>\n",
              "    </div>\n",
              "  </div>\n",
              "  "
            ]
          },
          "metadata": {},
          "execution_count": 40
        }
      ]
    },
    {
      "cell_type": "code",
      "source": [
        "from sklearn.svm import SVC"
      ],
      "metadata": {
        "id": "7MKG2AEVjICz"
      },
      "execution_count": 41,
      "outputs": []
    },
    {
      "cell_type": "code",
      "source": [
        "param_grid = {\n",
        "    'C': [0.1, 1],\n",
        "    'gamma': [1, 0.1]\n",
        "}\n",
        "\n",
        "param_grid = {\n",
        "    'C': [0.1],\n",
        "    'gamma': [1]\n",
        "}\n",
        "\n",
        "svm = SVC(random_state=42)\n",
        "\n",
        "grid_search = GridSearchCV(estimator=svm, param_grid=param_grid, cv=4, n_jobs=-1, verbose=0, scoring = \"f1\",error_score='raise')\n",
        "grid_search.fit(x_train_svm,y_train_svm)\n",
        "evaluacion_modelo(grid_search.best_estimator_, x_test, y_test)"
      ],
      "metadata": {
        "colab": {
          "base_uri": "https://localhost:8080/",
          "height": 0
        },
        "id": "hDbs7KCBjJ8F",
        "outputId": "f12ca7c0-923e-4dfd-f101-7e9b5bd09cfe"
      },
      "execution_count": 42,
      "outputs": [
        {
          "output_type": "stream",
          "name": "stdout",
          "text": [
            "Accuracy en testing: 0.8873512988589464\n",
            "F1 score en testing: 0.0\n",
            "AUC score en testing: 0.5\n"
          ]
        },
        {
          "output_type": "display_data",
          "data": {
            "text/plain": [
              "<Figure size 1656x576 with 1 Axes>"
            ],
            "image/png": "[encoded data removed]"
          },
          "metadata": {
            "needs_background": "light"
          }
        },
        {
          "output_type": "display_data",
          "data": {
            "text/plain": [
              "<Figure size 1656x576 with 2 Axes>"
            ],
            "image/png": "[encoded data removed]"
          },
          "metadata": {
            "needs_background": "light"
          }
        }
      ]
    },
    {
      "cell_type": "markdown",
      "source": [
        "**XGBoost classfier**"
      ],
      "metadata": {
        "id": "UU9lTDePjeV-"
      }
    },
    {
      "cell_type": "code",
      "source": [
        "import xgboost\n",
        "from xgboost import XGBClassifier"
      ],
      "metadata": {
        "id": "xsQArNQEjc0C"
      },
      "execution_count": 43,
      "outputs": []
    },
    {
      "cell_type": "code",
      "source": [
        "param_grid = {\n",
        " 'gamma': [0.1, 1, 1.5],\n",
        " 'learning_rate': [0.001, 0.01],\n",
        " 'max_depth': [5, 10],\n",
        " 'n_estimators': [1,5,10]\n",
        "}\n",
        "\n",
        "param_grid = {'gamma': [0.1], 'learning_rate': [0.01], 'max_depth': [5], 'n_estimators': [10]}\n",
        "\n",
        "xgb_model = XGBClassifier(random_state=42, verbosity=0)\n",
        "\n",
        "grid_search = GridSearchCV(estimator=xgb_model, param_grid=param_grid, cv=4, n_jobs=-1, verbose=0, scoring = \"f1\",error_score='raise')\n",
        "grid_search.fit(x_train,y_train)\n",
        "evaluacion_modelo(grid_search.best_estimator_, x_test, y_test)"
      ],
      "metadata": {
        "colab": {
          "base_uri": "https://localhost:8080/",
          "height": 0
        },
        "id": "kTEGFIsmjgTm",
        "outputId": "19335432-07fb-4a46-a279-215ee4ecec92"
      },
      "execution_count": 44,
      "outputs": [
        {
          "output_type": "stream",
          "name": "stdout",
          "text": [
            "Accuracy en testing: 0.9149469936068625\n",
            "F1 score en testing: 0.5807738332668528\n",
            "AUC score en testing: 0.7438471940500337\n"
          ]
        },
        {
          "output_type": "display_data",
          "data": {
            "text/plain": [
              "<Figure size 1656x576 with 1 Axes>"
            ],
            "image/png": "[encoded data removed]"
          },
          "metadata": {
            "needs_background": "light"
          }
        },
        {
          "output_type": "display_data",
          "data": {
            "text/plain": [
              "<Figure size 1656x576 with 2 Axes>"
            ],
            "image/png": "[encoded data removed]"
          },
          "metadata": {
            "needs_background": "light"
          }
        }
      ]
    },
    {
      "cell_type": "markdown",
      "source": [
        "**Seleccion del modelo para bank full**\n",
        "\n",
        "El orden de resultados de F1-score es el siguiente:\n",
        "\n",
        "* Decision tree classifier ->   0.59\n",
        "* XGBoost classifier     ->     0.58\n",
        "* Binary logistic regression -> 0.48\n",
        "* Random forest classifier  ->  0.34\n",
        "* Support vector machine   ->   0.0\n",
        "\n",
        "Antes de determinar el modelo con mayor rendimiento, es posible descartar algunos modelos:\n",
        "\n",
        "* SVM: el dataset es demasiado grande para este modelo en particular, ademas no fue capaz de definir vectores que discriminen los clusters de \"y\"\n",
        "* Random forest: el voto mayoritario es contraproducente en este caso porque casi el 90% del dataset corresponde a casos fallidos (\"y\" = \"no\"), probablemente la mayoria de arboles dentro del random forest no seran capaces de discriminar los clusters\n",
        "\n",
        "Entre los modelos Decision tree, Logistic regression y XGBoost, mi eleccion es XGBoost porque a pesar de no tener exactamente el score mas alto, es posible seguir entrenandolo con mas iteraciones\n"
      ],
      "metadata": {
        "id": "ZrV0BeuGjpt8"
      }
    },
    {
      "cell_type": "markdown",
      "source": [
        "# **Modelo definitivo**"
      ],
      "metadata": {
        "id": "NOCkjoXqmN1E"
      }
    },
    {
      "cell_type": "markdown",
      "source": [
        "Despues de haber desarrollado y seleccionado el modelo para cada dataset es momento de definir cual de ambos es el mas apropiado como solucion para esta problematica.\n",
        "\n",
        "Las metricas y sus resultados fueron estos:\n",
        "\n",
        "* Bank full -> XGBoost con 0.488 de F1-score\n",
        "* Bank additional full -> XGBoost con 0.58 de F1-score\n",
        "\n",
        "Antes de tomar la decision sera necesario una interpretacion de los modelos para comparar las importancias de variables con las hipotesis expuestas en los analisis de datos"
      ],
      "metadata": {
        "id": "-vfGkpQYme6d"
      }
    },
    {
      "cell_type": "markdown",
      "source": [
        "**XGBoost de bank full (modelo 1)**"
      ],
      "metadata": {
        "id": "NXU7yrbsoyZs"
      }
    },
    {
      "cell_type": "code",
      "source": [
        "features = df_bank_full_v2.drop(columns=[\"y\"]).columns\n",
        "target = 'y'\n",
        "\n",
        "X = df_bank_full_v2[features].copy()\n",
        "y = df_bank_full_v2[target].copy()\n",
        "\n",
        "test_pct = 0.3 #30% de los dados para testing\n",
        "x_train, x_test, y_train, y_test = train_test_split(X, y, test_size=test_pct, stratify = y, random_state=42)\n",
        "\n",
        "del X,y\n",
        "\n",
        "param_grid = {'gamma': [1.5], 'learning_rate': [0.01], 'max_depth': [10], 'n_estimators': [10]}\n",
        "\n",
        "xgb_model = XGBClassifier(random_state=42, verbosity=0)\n",
        "\n",
        "grid_search = GridSearchCV(estimator=xgb_model, param_grid=param_grid, cv=4, n_jobs=-1, verbose=0, scoring = \"f1\",error_score='raise')\n",
        "grid_search.fit(x_train,y_train)\n",
        "evaluacion_modelo(grid_search.best_estimator_, x_test, y_test)"
      ],
      "metadata": {
        "colab": {
          "base_uri": "https://localhost:8080/",
          "height": 0
        },
        "id": "DT6YW4LymTCy",
        "outputId": "31987263-8a79-4859-9fe5-1bcea5e128c2"
      },
      "execution_count": 45,
      "outputs": [
        {
          "output_type": "stream",
          "name": "stdout",
          "text": [
            "Accuracy en testing: 0.8995871424358596\n",
            "F1 score en testing: 0.48873873873873874\n",
            "AUC score en testing: 0.6873198835891033\n"
          ]
        },
        {
          "output_type": "display_data",
          "data": {
            "text/plain": [
              "<Figure size 1656x576 with 1 Axes>"
            ],
            "image/png": "[encoded data removed]"
          },
          "metadata": {
            "needs_background": "light"
          }
        },
        {
          "output_type": "display_data",
          "data": {
            "text/plain": [
              "<Figure size 1656x576 with 2 Axes>"
            ],
            "image/png": "[encoded data removed]"
          },
          "metadata": {
            "needs_background": "light"
          }
        }
      ]
    },
    {
      "cell_type": "markdown",
      "source": [
        "El grafico de abajo visualiza los grados de importancias de las variables segun el xgboost, los 6 primeros son:\n",
        "\n",
        "* duration\n",
        "* day  \n",
        "* month\n",
        "* balance\n",
        "* age\n",
        "* pdays\n",
        "\n",
        "\n",
        "La duracion de las llamadas son relevantes en las predicciones, tal como se ha mencionado en las hipotesis\n",
        "\n",
        "Las variables \"day\" y \"month\" no deberian tener relevancia en la prediccion, probablemente hay un efecto de causalidad que no corresponde con los hechos reales.\n",
        "\n",
        "La profundidad de este modelo es 10, la del otro modelo es 5, si una variable que no tiene correlacion con \"y\" (day,month) tiene alto grado de importancia es porque el modelo esta sobreajustado"
      ],
      "metadata": {
        "id": "5W1mWKICp_fM"
      }
    },
    {
      "cell_type": "code",
      "source": [
        "fig, ax = plt.subplots(1,1,figsize=(21,10))\n",
        "xgboost.plot_importance(booster=grid_search.best_estimator_, ax=ax)"
      ],
      "metadata": {
        "colab": {
          "base_uri": "https://localhost:8080/",
          "height": 0
        },
        "id": "8oiqHZEto9Uu",
        "outputId": "851ece5c-069d-42f6-84a2-7f9f1e647701"
      },
      "execution_count": 46,
      "outputs": [
        {
          "output_type": "execute_result",
          "data": {
            "text/plain": [
              "<matplotlib.axes._subplots.AxesSubplot at 0x7f890097fc50>"
            ]
          },
          "metadata": {},
          "execution_count": 46
        },
        {
          "output_type": "display_data",
          "data": {
            "text/plain": [
              "<Figure size 1512x720 with 1 Axes>"
            ],
            "image/png": "[encoded data removed]"
          },
          "metadata": {
            "needs_background": "light"
          }
        }
      ]
    },
    {
      "cell_type": "markdown",
      "source": [
        "**XGBoost de bank additional full (modelo 2)**"
      ],
      "metadata": {
        "id": "EwehhiusrgB-"
      }
    },
    {
      "cell_type": "code",
      "source": [
        "features = df_bank_additional_full_v2.drop(columns=[\"y\"]).columns\n",
        "target = 'y'\n",
        "\n",
        "X = df_bank_additional_full_v2[features].copy()\n",
        "y = df_bank_additional_full_v2[target].copy()\n",
        "\n",
        "test_pct = 0.3 #30% de los dados para testing\n",
        "x_train, x_test, y_train, y_test = train_test_split(X, y, test_size=test_pct, stratify = y, random_state=42)\n",
        "\n",
        "del X,y\n",
        "\n",
        "param_grid = {'gamma': [0.1], 'learning_rate': [0.01], 'max_depth': [5], 'n_estimators': [10]}\n",
        "\n",
        "xgb_model = XGBClassifier(random_state=42, verbosity=0)\n",
        "\n",
        "grid_search = GridSearchCV(estimator=xgb_model, param_grid=param_grid, cv=4, n_jobs=-1, verbose=0, scoring = \"f1\",error_score='raise')\n",
        "grid_search.fit(x_train,y_train)\n",
        "evaluacion_modelo(grid_search.best_estimator_, x_test, y_test)"
      ],
      "metadata": {
        "colab": {
          "base_uri": "https://localhost:8080/",
          "height": 0
        },
        "id": "aV_DwLNXrhNe",
        "outputId": "8e3c3bb2-8351-4cde-c03e-266466dc1afc"
      },
      "execution_count": 47,
      "outputs": [
        {
          "output_type": "stream",
          "name": "stdout",
          "text": [
            "Accuracy en testing: 0.9149469936068625\n",
            "F1 score en testing: 0.5807738332668528\n",
            "AUC score en testing: 0.7438471940500337\n"
          ]
        },
        {
          "output_type": "display_data",
          "data": {
            "text/plain": [
              "<Figure size 1656x576 with 1 Axes>"
            ],
            "image/png": "[encoded data removed]"
          },
          "metadata": {
            "needs_background": "light"
          }
        },
        {
          "output_type": "display_data",
          "data": {
            "text/plain": [
              "<Figure size 1656x576 with 2 Axes>"
            ],
            "image/png": "[encoded data removed]"
          },
          "metadata": {
            "needs_background": "light"
          }
        }
      ]
    },
    {
      "cell_type": "markdown",
      "source": [
        "El grafico de abajo visualiza los grados de importancias de las variables segun el xgboost, los 5 primeros son:\n",
        "\n",
        "* duration\n",
        "* euribor3m\n",
        "* pdays\n",
        "* cons.price.idx\n",
        "* campaign\n",
        "\n",
        "Es evidente que la duracion es la variable mas importante en las predicciones, sin embargo, hay otras determinantes como \"campaign\".\n",
        "\n",
        "En el EDA de bank additional full surgio una hipotesis que limita a los posibles casos de exito que tengan mas de 20 contactos realizados. El grafico confirma su relevancia."
      ],
      "metadata": {
        "id": "6kHBDrUltp9-"
      }
    },
    {
      "cell_type": "code",
      "source": [
        "fig, ax = plt.subplots(1,1,figsize=(21,10))\n",
        "xgboost.plot_importance(booster=grid_search.best_estimator_, ax=ax)"
      ],
      "metadata": {
        "colab": {
          "base_uri": "https://localhost:8080/",
          "height": 0
        },
        "id": "sS81oiILrwHw",
        "outputId": "9beff00e-7a4f-4519-e935-a3cb9e7477eb"
      },
      "execution_count": 48,
      "outputs": [
        {
          "output_type": "execute_result",
          "data": {
            "text/plain": [
              "<matplotlib.axes._subplots.AxesSubplot at 0x7f890519dc50>"
            ]
          },
          "metadata": {},
          "execution_count": 48
        },
        {
          "output_type": "display_data",
          "data": {
            "text/plain": [
              "<Figure size 1512x720 with 1 Axes>"
            ],
            "image/png": "[encoded data removed]"
          },
          "metadata": {
            "needs_background": "light"
          }
        }
      ]
    },
    {
      "cell_type": "markdown",
      "source": [
        "A diferencia del modelo 1, el modelo 2 no tiene ninguna inconsistencia entre  las descripciones de las variables y sus importancias.\n",
        "\n",
        "El grado de profundidad del modelo 2 es 5, por lo que no tiene sobreajuste y ademas tiene mayor nivel de F1-score.\n",
        "\n",
        "Por lo tanto, el modelo defintivo es el XGBoost del dataset bank additional con 42 parametros de entrada "
      ],
      "metadata": {
        "id": "qlbT0YozwJn7"
      }
    },
    {
      "cell_type": "code",
      "source": [
        "import pickle\n",
        "name_object = 'ml_model.pkl'\n",
        "fileObj = open(name_object, 'wb')\n",
        "pickle.dump(grid_search.best_estimator_,fileObj)\n",
        "fileObj.close()"
      ],
      "metadata": {
        "id": "VC6KMCGa2fHt"
      },
      "execution_count": 49,
      "outputs": []
    },
    {
      "cell_type": "markdown",
      "source": [
        "# **Exportacion a base de datos**"
      ],
      "metadata": {
        "id": "KlqQWPcIsm39"
      }
    },
    {
      "cell_type": "markdown",
      "source": [
        "El dataset bank additional full sera exportado a una base de datos sqlite"
      ],
      "metadata": {
        "id": "u3oTIgMT8UH8"
      }
    },
    {
      "cell_type": "code",
      "source": [
        "import sqlite3\n",
        "\n",
        "conn = sqlite3.connect('bank-additional-full.db')\n",
        "c = conn.cursor()"
      ],
      "metadata": {
        "id": "tv52Hsq1ssRn"
      },
      "execution_count": 50,
      "outputs": []
    },
    {
      "cell_type": "code",
      "source": [
        "c.execute('''CREATE TABLE IF NOT EXISTS bankmarketing (age int,job text,marital text,education text,\"default\" text,\n",
        "housing text,loan text,contact text,month text,day_of_week text,duration real,campaign int,pdays int,previous int,\n",
        "poutcome text,\"emp.var.rate\" real,\"cons.price.idx\" real,\"cons.conf.idx\" real,euribor3m real,\"nr.employed\" real)''')"
      ],
      "metadata": {
        "colab": {
          "base_uri": "https://localhost:8080/"
        },
        "id": "kGg8DAXfs1LY",
        "outputId": "0275209a-70aa-489f-f710-087fd3d43b43"
      },
      "execution_count": 51,
      "outputs": [
        {
          "output_type": "execute_result",
          "data": {
            "text/plain": [
              "<sqlite3.Cursor at 0x7f8900dccf10>"
            ]
          },
          "metadata": {},
          "execution_count": 51
        }
      ]
    },
    {
      "cell_type": "markdown",
      "source": [
        "Seran registradas todas las columnas excepto \"y\""
      ],
      "metadata": {
        "id": "1Sq4G_QD8ed2"
      }
    },
    {
      "cell_type": "code",
      "source": [
        "cols = list(df_bank_additional_full.columns)\n",
        "cols.remove(\"y\")\n",
        "df_bank_additional_full[cols].to_sql('bankmarketing', conn, if_exists='replace', index = False)"
      ],
      "metadata": {
        "id": "p4nC9TZStz04"
      },
      "execution_count": 52,
      "outputs": []
    },
    {
      "cell_type": "markdown",
      "source": [
        "Listo!"
      ],
      "metadata": {
        "id": "nvoFhnJF8l_X"
      }
    },
    {
      "cell_type": "code",
      "source": [
        "fetchquery = pd.read_sql('''SELECT * FROM bankmarketing LIMIT 5''', conn)\n",
        "fetchquery.head()"
      ],
      "metadata": {
        "colab": {
          "base_uri": "https://localhost:8080/",
          "height": 270
        },
        "id": "Ynm8NTnou9o_",
        "outputId": "e01bd280-1478-40c0-b16a-590df29e0973"
      },
      "execution_count": 53,
      "outputs": [
        {
          "output_type": "execute_result",
          "data": {
            "text/plain": [
              "   age        job  marital    education  default housing loan    contact  \\\n",
              "0   56  housemaid  married     basic.4y       no      no   no  telephone   \n",
              "1   57   services  married  high.school  unknown      no   no  telephone   \n",
              "2   37   services  married  high.school       no     yes   no  telephone   \n",
              "3   40     admin.  married     basic.6y       no      no   no  telephone   \n",
              "4   56   services  married  high.school       no      no  yes  telephone   \n",
              "\n",
              "  month day_of_week  duration  campaign  pdays  previous     poutcome  \\\n",
              "0   may         mon       261         1    999         0  nonexistent   \n",
              "1   may         mon       149         1    999         0  nonexistent   \n",
              "2   may         mon       226         1    999         0  nonexistent   \n",
              "3   may         mon       151         1    999         0  nonexistent   \n",
              "4   may         mon       307         1    999         0  nonexistent   \n",
              "\n",
              "   emp.var.rate  cons.price.idx  cons.conf.idx  euribor3m  nr.employed  \n",
              "0           1.1          93.994          -36.4      4.857       5191.0  \n",
              "1           1.1          93.994          -36.4      4.857       5191.0  \n",
              "2           1.1          93.994          -36.4      4.857       5191.0  \n",
              "3           1.1          93.994          -36.4      4.857       5191.0  \n",
              "4           1.1          93.994          -36.4      4.857       5191.0  "
            ],
            "text/html": [
              "\n",
              "  <div id=\"df-2b61a28b-75d7-4932-a336-aac47a06e7e1\">\n",
              "    <div class=\"colab-df-container\">\n",
              "      <div>\n",
              "<style scoped>\n",
              "    .dataframe tbody tr th:only-of-type {\n",
              "        vertical-align: middle;\n",
              "    }\n",
              "\n",
              "    .dataframe tbody tr th {\n",
              "        vertical-align: top;\n",
              "    }\n",
              "\n",
              "    .dataframe thead th {\n",
              "        text-align: right;\n",
              "    }\n",
              "</style>\n",
              "<table border=\"1\" class=\"dataframe\">\n",
              "  <thead>\n",
              "    <tr style=\"text-align: right;\">\n",
              "      <th></th>\n",
              "      <th>age</th>\n",
              "      <th>job</th>\n",
              "      <th>marital</th>\n",
              "      <th>education</th>\n",
              "      <th>default</th>\n",
              "      <th>housing</th>\n",
              "      <th>loan</th>\n",
              "      <th>contact</th>\n",
              "      <th>month</th>\n",
              "      <th>day_of_week</th>\n",
              "      <th>duration</th>\n",
              "      <th>campaign</th>\n",
              "      <th>pdays</th>\n",
              "      <th>previous</th>\n",
              "      <th>poutcome</th>\n",
              "      <th>emp.var.rate</th>\n",
              "      <th>cons.price.idx</th>\n",
              "      <th>cons.conf.idx</th>\n",
              "      <th>euribor3m</th>\n",
              "      <th>nr.employed</th>\n",
              "    </tr>\n",
              "  </thead>\n",
              "  <tbody>\n",
              "    <tr>\n",
              "      <th>0</th>\n",
              "      <td>56</td>\n",
              "      <td>housemaid</td>\n",
              "      <td>married</td>\n",
              "      <td>basic.4y</td>\n",
              "      <td>no</td>\n",
              "      <td>no</td>\n",
              "      <td>no</td>\n",
              "      <td>telephone</td>\n",
              "      <td>may</td>\n",
              "      <td>mon</td>\n",
              "      <td>261</td>\n",
              "      <td>1</td>\n",
              "      <td>999</td>\n",
              "      <td>0</td>\n",
              "      <td>nonexistent</td>\n",
              "      <td>1.1</td>\n",
              "      <td>93.994</td>\n",
              "      <td>-36.4</td>\n",
              "      <td>4.857</td>\n",
              "      <td>5191.0</td>\n",
              "    </tr>\n",
              "    <tr>\n",
              "      <th>1</th>\n",
              "      <td>57</td>\n",
              "      <td>services</td>\n",
              "      <td>married</td>\n",
              "      <td>high.school</td>\n",
              "      <td>unknown</td>\n",
              "      <td>no</td>\n",
              "      <td>no</td>\n",
              "      <td>telephone</td>\n",
              "      <td>may</td>\n",
              "      <td>mon</td>\n",
              "      <td>149</td>\n",
              "      <td>1</td>\n",
              "      <td>999</td>\n",
              "      <td>0</td>\n",
              "      <td>nonexistent</td>\n",
              "      <td>1.1</td>\n",
              "      <td>93.994</td>\n",
              "      <td>-36.4</td>\n",
              "      <td>4.857</td>\n",
              "      <td>5191.0</td>\n",
              "    </tr>\n",
              "    <tr>\n",
              "      <th>2</th>\n",
              "      <td>37</td>\n",
              "      <td>services</td>\n",
              "      <td>married</td>\n",
              "      <td>high.school</td>\n",
              "      <td>no</td>\n",
              "      <td>yes</td>\n",
              "      <td>no</td>\n",
              "      <td>telephone</td>\n",
              "      <td>may</td>\n",
              "      <td>mon</td>\n",
              "      <td>226</td>\n",
              "      <td>1</td>\n",
              "      <td>999</td>\n",
              "      <td>0</td>\n",
              "      <td>nonexistent</td>\n",
              "      <td>1.1</td>\n",
              "      <td>93.994</td>\n",
              "      <td>-36.4</td>\n",
              "      <td>4.857</td>\n",
              "      <td>5191.0</td>\n",
              "    </tr>\n",
              "    <tr>\n",
              "      <th>3</th>\n",
              "      <td>40</td>\n",
              "      <td>admin.</td>\n",
              "      <td>married</td>\n",
              "      <td>basic.6y</td>\n",
              "      <td>no</td>\n",
              "      <td>no</td>\n",
              "      <td>no</td>\n",
              "      <td>telephone</td>\n",
              "      <td>may</td>\n",
              "      <td>mon</td>\n",
              "      <td>151</td>\n",
              "      <td>1</td>\n",
              "      <td>999</td>\n",
              "      <td>0</td>\n",
              "      <td>nonexistent</td>\n",
              "      <td>1.1</td>\n",
              "      <td>93.994</td>\n",
              "      <td>-36.4</td>\n",
              "      <td>4.857</td>\n",
              "      <td>5191.0</td>\n",
              "    </tr>\n",
              "    <tr>\n",
              "      <th>4</th>\n",
              "      <td>56</td>\n",
              "      <td>services</td>\n",
              "      <td>married</td>\n",
              "      <td>high.school</td>\n",
              "      <td>no</td>\n",
              "      <td>no</td>\n",
              "      <td>yes</td>\n",
              "      <td>telephone</td>\n",
              "      <td>may</td>\n",
              "      <td>mon</td>\n",
              "      <td>307</td>\n",
              "      <td>1</td>\n",
              "      <td>999</td>\n",
              "      <td>0</td>\n",
              "      <td>nonexistent</td>\n",
              "      <td>1.1</td>\n",
              "      <td>93.994</td>\n",
              "      <td>-36.4</td>\n",
              "      <td>4.857</td>\n",
              "      <td>5191.0</td>\n",
              "    </tr>\n",
              "  </tbody>\n",
              "</table>\n",
              "</div>\n",
              "      <button class=\"colab-df-convert\" onclick=\"convertToInteractive('df-2b61a28b-75d7-4932-a336-aac47a06e7e1')\"\n",
              "              title=\"Convert this dataframe to an interactive table.\"\n",
              "              style=\"display:none;\">\n",
              "        \n",
              "  <svg xmlns=\"http://www.w3.org/2000/svg\" height=\"24px\"viewBox=\"0 0 24 24\"\n",
              "       width=\"24px\">\n",
              "    <path d=\"M0 0h24v24H0V0z\" fill=\"none\"/>\n",
              "    <path d=\"M18.56 5.44l.94 2.06.94-2.06 2.06-.94-2.06-.94-.94-2.06-.94 2.06-2.06.94zm-11 1L8.5 8.5l.94-2.06 2.06-.94-2.06-.94L8.5 2.5l-.94 2.06-2.06.94zm10 10l.94 2.06.94-2.06 2.06-.94-2.06-.94-.94-2.06-.94 2.06-2.06.94z\"/><path d=\"M17.41 7.96l-1.37-1.37c-.4-.4-.92-.59-1.43-.59-.52 0-1.04.2-1.43.59L10.3 9.45l-7.72 7.72c-.78.78-.78 2.05 0 2.83L4 21.41c.39.39.9.59 1.41.59.51 0 1.02-.2 1.41-.59l7.78-7.78 2.81-2.81c.8-.78.8-2.07 0-2.86zM5.41 20L4 18.59l7.72-7.72 1.47 1.35L5.41 20z\"/>\n",
              "  </svg>\n",
              "      </button>\n",
              "      \n",
              "  <style>\n",
              "    .colab-df-container {\n",
              "      display:flex;\n",
              "      flex-wrap:wrap;\n",
              "      gap: 12px;\n",
              "    }\n",
              "\n",
              "    .colab-df-convert {\n",
              "      background-color: #E8F0FE;\n",
              "      border: none;\n",
              "      border-radius: 50%;\n",
              "      cursor: pointer;\n",
              "      display: none;\n",
              "      fill: #1967D2;\n",
              "      height: 32px;\n",
              "      padding: 0 0 0 0;\n",
              "      width: 32px;\n",
              "    }\n",
              "\n",
              "    .colab-df-convert:hover {\n",
              "      background-color: #E2EBFA;\n",
              "      box-shadow: 0px 1px 2px rgba(60, 64, 67, 0.3), 0px 1px 3px 1px rgba(60, 64, 67, 0.15);\n",
              "      fill: #174EA6;\n",
              "    }\n",
              "\n",
              "    [theme=dark] .colab-df-convert {\n",
              "      background-color: #3B4455;\n",
              "      fill: #D2E3FC;\n",
              "    }\n",
              "\n",
              "    [theme=dark] .colab-df-convert:hover {\n",
              "      background-color: #434B5C;\n",
              "      box-shadow: 0px 1px 3px 1px rgba(0, 0, 0, 0.15);\n",
              "      filter: drop-shadow(0px 1px 2px rgba(0, 0, 0, 0.3));\n",
              "      fill: #FFFFFF;\n",
              "    }\n",
              "  </style>\n",
              "\n",
              "      <script>\n",
              "        const buttonEl =\n",
              "          document.querySelector('#df-2b61a28b-75d7-4932-a336-aac47a06e7e1 button.colab-df-convert');\n",
              "        buttonEl.style.display =\n",
              "          google.colab.kernel.accessAllowed ? 'block' : 'none';\n",
              "\n",
              "        async function convertToInteractive(key) {\n",
              "          const element = document.querySelector('#df-2b61a28b-75d7-4932-a336-aac47a06e7e1');\n",
              "          const dataTable =\n",
              "            await google.colab.kernel.invokeFunction('convertToInteractive',\n",
              "                                                     [key], {});\n",
              "          if (!dataTable) return;\n",
              "\n",
              "          const docLinkHtml = 'Like what you see? Visit the ' +\n",
              "            '<a target=\"_blank\" href=https://colab.research.google.com/notebooks/data_table.ipynb>data table notebook</a>'\n",
              "            + ' to learn more about interactive tables.';\n",
              "          element.innerHTML = '';\n",
              "          dataTable['output_type'] = 'display_data';\n",
              "          await google.colab.output.renderOutput(dataTable, element);\n",
              "          const docLink = document.createElement('div');\n",
              "          docLink.innerHTML = docLinkHtml;\n",
              "          element.appendChild(docLink);\n",
              "        }\n",
              "      </script>\n",
              "    </div>\n",
              "  </div>\n",
              "  "
            ]
          },
          "metadata": {},
          "execution_count": 53
        }
      ]
    },
    {
      "cell_type": "markdown",
      "source": [
        "**Promedio y extremos de la variable \"duration\"**"
      ],
      "metadata": {
        "id": "rYSS_JVO5MLL"
      }
    },
    {
      "cell_type": "code",
      "source": [
        "fetchqueryduration = pd.read_sql('''SELECT MIN(duration) as \"min duration\",MAX(duration) as \"max duration\",AVG(duration) as \"average duration\" FROM bankmarketing''', conn)\n",
        "fetchqueryduration.head()"
      ],
      "metadata": {
        "colab": {
          "base_uri": "https://localhost:8080/",
          "height": 81
        },
        "id": "EgP5WUzp5QE9",
        "outputId": "c81482fa-5244-49be-ece7-0508abbf37f2"
      },
      "execution_count": 54,
      "outputs": [
        {
          "output_type": "execute_result",
          "data": {
            "text/plain": [
              "   min duration  max duration  average duration\n",
              "0             0          4918         258.28501"
            ],
            "text/html": [
              "\n",
              "  <div id=\"df-d4cd572f-44db-45f8-81b3-b0770325a6c4\">\n",
              "    <div class=\"colab-df-container\">\n",
              "      <div>\n",
              "<style scoped>\n",
              "    .dataframe tbody tr th:only-of-type {\n",
              "        vertical-align: middle;\n",
              "    }\n",
              "\n",
              "    .dataframe tbody tr th {\n",
              "        vertical-align: top;\n",
              "    }\n",
              "\n",
              "    .dataframe thead th {\n",
              "        text-align: right;\n",
              "    }\n",
              "</style>\n",
              "<table border=\"1\" class=\"dataframe\">\n",
              "  <thead>\n",
              "    <tr style=\"text-align: right;\">\n",
              "      <th></th>\n",
              "      <th>min duration</th>\n",
              "      <th>max duration</th>\n",
              "      <th>average duration</th>\n",
              "    </tr>\n",
              "  </thead>\n",
              "  <tbody>\n",
              "    <tr>\n",
              "      <th>0</th>\n",
              "      <td>0</td>\n",
              "      <td>4918</td>\n",
              "      <td>258.28501</td>\n",
              "    </tr>\n",
              "  </tbody>\n",
              "</table>\n",
              "</div>\n",
              "      <button class=\"colab-df-convert\" onclick=\"convertToInteractive('df-d4cd572f-44db-45f8-81b3-b0770325a6c4')\"\n",
              "              title=\"Convert this dataframe to an interactive table.\"\n",
              "              style=\"display:none;\">\n",
              "        \n",
              "  <svg xmlns=\"http://www.w3.org/2000/svg\" height=\"24px\"viewBox=\"0 0 24 24\"\n",
              "       width=\"24px\">\n",
              "    <path d=\"M0 0h24v24H0V0z\" fill=\"none\"/>\n",
              "    <path d=\"M18.56 5.44l.94 2.06.94-2.06 2.06-.94-2.06-.94-.94-2.06-.94 2.06-2.06.94zm-11 1L8.5 8.5l.94-2.06 2.06-.94-2.06-.94L8.5 2.5l-.94 2.06-2.06.94zm10 10l.94 2.06.94-2.06 2.06-.94-2.06-.94-.94-2.06-.94 2.06-2.06.94z\"/><path d=\"M17.41 7.96l-1.37-1.37c-.4-.4-.92-.59-1.43-.59-.52 0-1.04.2-1.43.59L10.3 9.45l-7.72 7.72c-.78.78-.78 2.05 0 2.83L4 21.41c.39.39.9.59 1.41.59.51 0 1.02-.2 1.41-.59l7.78-7.78 2.81-2.81c.8-.78.8-2.07 0-2.86zM5.41 20L4 18.59l7.72-7.72 1.47 1.35L5.41 20z\"/>\n",
              "  </svg>\n",
              "      </button>\n",
              "      \n",
              "  <style>\n",
              "    .colab-df-container {\n",
              "      display:flex;\n",
              "      flex-wrap:wrap;\n",
              "      gap: 12px;\n",
              "    }\n",
              "\n",
              "    .colab-df-convert {\n",
              "      background-color: #E8F0FE;\n",
              "      border: none;\n",
              "      border-radius: 50%;\n",
              "      cursor: pointer;\n",
              "      display: none;\n",
              "      fill: #1967D2;\n",
              "      height: 32px;\n",
              "      padding: 0 0 0 0;\n",
              "      width: 32px;\n",
              "    }\n",
              "\n",
              "    .colab-df-convert:hover {\n",
              "      background-color: #E2EBFA;\n",
              "      box-shadow: 0px 1px 2px rgba(60, 64, 67, 0.3), 0px 1px 3px 1px rgba(60, 64, 67, 0.15);\n",
              "      fill: #174EA6;\n",
              "    }\n",
              "\n",
              "    [theme=dark] .colab-df-convert {\n",
              "      background-color: #3B4455;\n",
              "      fill: #D2E3FC;\n",
              "    }\n",
              "\n",
              "    [theme=dark] .colab-df-convert:hover {\n",
              "      background-color: #434B5C;\n",
              "      box-shadow: 0px 1px 3px 1px rgba(0, 0, 0, 0.15);\n",
              "      filter: drop-shadow(0px 1px 2px rgba(0, 0, 0, 0.3));\n",
              "      fill: #FFFFFF;\n",
              "    }\n",
              "  </style>\n",
              "\n",
              "      <script>\n",
              "        const buttonEl =\n",
              "          document.querySelector('#df-d4cd572f-44db-45f8-81b3-b0770325a6c4 button.colab-df-convert');\n",
              "        buttonEl.style.display =\n",
              "          google.colab.kernel.accessAllowed ? 'block' : 'none';\n",
              "\n",
              "        async function convertToInteractive(key) {\n",
              "          const element = document.querySelector('#df-d4cd572f-44db-45f8-81b3-b0770325a6c4');\n",
              "          const dataTable =\n",
              "            await google.colab.kernel.invokeFunction('convertToInteractive',\n",
              "                                                     [key], {});\n",
              "          if (!dataTable) return;\n",
              "\n",
              "          const docLinkHtml = 'Like what you see? Visit the ' +\n",
              "            '<a target=\"_blank\" href=https://colab.research.google.com/notebooks/data_table.ipynb>data table notebook</a>'\n",
              "            + ' to learn more about interactive tables.';\n",
              "          element.innerHTML = '';\n",
              "          dataTable['output_type'] = 'display_data';\n",
              "          await google.colab.output.renderOutput(dataTable, element);\n",
              "          const docLink = document.createElement('div');\n",
              "          docLink.innerHTML = docLinkHtml;\n",
              "          element.appendChild(docLink);\n",
              "        }\n",
              "      </script>\n",
              "    </div>\n",
              "  </div>\n",
              "  "
            ]
          },
          "metadata": {},
          "execution_count": 54
        }
      ]
    },
    {
      "cell_type": "markdown",
      "source": [
        "**Prediccion en la base de datos**"
      ],
      "metadata": {
        "id": "tNs5WZOP57V8"
      }
    },
    {
      "cell_type": "markdown",
      "source": [
        "Consulta de los datos"
      ],
      "metadata": {
        "id": "xF-DJQ0Y8vVC"
      }
    },
    {
      "cell_type": "code",
      "source": [
        "fetchquery = pd.read_sql('''SELECT * FROM bankmarketing''', conn)"
      ],
      "metadata": {
        "id": "y50RKLR054PC"
      },
      "execution_count": 55,
      "outputs": []
    },
    {
      "cell_type": "markdown",
      "source": [
        "Esto es muy importante, los datos deben ser procesados y transformados de la misma forma que en el desarrollo del modelo.\n",
        "\n",
        "Las variables resultantes deben ser exactamente las mismas"
      ],
      "metadata": {
        "id": "OISFRn5H8xnJ"
      }
    },
    {
      "cell_type": "code",
      "source": [
        "def procesamiento_datos(fetchquery):\n",
        "  fetchquery = pd.get_dummies(fetchquery,prefix=['job'], columns = ['job'], drop_first=True)\n",
        "  fetchquery = pd.get_dummies(fetchquery,prefix=['marital'], columns = ['marital'], drop_first=True)\n",
        "  fetchquery = pd.get_dummies(fetchquery,prefix=['education'], columns = ['education'], drop_first=True)\n",
        "  fetchquery = pd.get_dummies(fetchquery,prefix=['default'], columns = ['default'], drop_first=True)\n",
        "  fetchquery = pd.get_dummies(fetchquery,prefix=['housing'], columns = ['housing'], drop_first=True)\n",
        "  fetchquery = pd.get_dummies(fetchquery,prefix=['loan'], columns = ['loan'], drop_first=True)\n",
        "  fetchquery = pd.get_dummies(fetchquery,prefix=['poutcome'], columns = ['poutcome'], drop_first=True)\n",
        "\n",
        "  month_mapping = {\n",
        "    \"jan\":1,\"feb\":2,\"mar\":3,\"apr\":4,\"may\":5,\"jun\":6,\"jul\":7,\"aug\":8,\"sep\":9,\"oct\":10,\"nov\":11,\"dec\":12\n",
        "  }\n",
        "  binary_mapping = {\n",
        "    \"yes\":1,\"no\":0\n",
        "  }\n",
        "  contact_mapping = {\n",
        "    \"telephone\":0,\"cellular\":0\n",
        "  }\n",
        "  dayweek_mapping = {\n",
        "    'mon':1, 'tue':2, 'wed':3, 'thu':4, 'fri':5,'sat':6,'sun':7\n",
        "  }\n",
        "\n",
        "  fetchquery[\"month\"] = fetchquery[\"month\"].map(month_mapping)\n",
        "  fetchquery[\"day_of_week\"] = fetchquery[\"day_of_week\"].map(dayweek_mapping)\n",
        "  fetchquery[\"contact\"] = fetchquery[\"contact\"].map(contact_mapping)\n",
        "\n",
        "  features = ['age', 'contact', 'month', 'day_of_week', 'duration', 'campaign','pdays', 'previous', 'emp.var.rate', \n",
        "  'cons.price.idx', 'cons.conf.idx','euribor3m', 'nr.employed', 'job_blue-collar', 'job_entrepreneur','job_housemaid', \n",
        "  'job_management', 'job_retired', 'job_self-employed','job_services', 'job_student', 'job_technician', 'job_unemployed',\n",
        "  'job_unknown', 'marital_married', 'marital_single', 'marital_unknown','education_basic.6y', 'education_basic.9y', \n",
        "  'education_high.school','education_illiterate', 'education_professional.course','education_university.degree', \n",
        "  'education_unknown', 'default_unknown','default_yes', 'housing_unknown', 'housing_yes', 'loan_unknown',\n",
        "  'loan_yes', 'poutcome_nonexistent', 'poutcome_success']\n",
        "\n",
        "  fetchquery = fetchquery[features].copy()\n",
        "\n",
        "  return fetchquery\n",
        "\n",
        "fetchquerypred = procesamiento_datos(fetchquery)\n",
        "fetchquerypred.head()"
      ],
      "metadata": {
        "colab": {
          "base_uri": "https://localhost:8080/",
          "height": 300
        },
        "id": "h9Dht150xyI4",
        "outputId": "813e22f8-be3d-4c62-9e09-2d729c3794c8"
      },
      "execution_count": 56,
      "outputs": [
        {
          "output_type": "execute_result",
          "data": {
            "text/plain": [
              "   age  contact  month  day_of_week  duration  campaign  pdays  previous  \\\n",
              "0   56        0      5            1       261         1    999         0   \n",
              "1   57        0      5            1       149         1    999         0   \n",
              "2   37        0      5            1       226         1    999         0   \n",
              "3   40        0      5            1       151         1    999         0   \n",
              "4   56        0      5            1       307         1    999         0   \n",
              "\n",
              "   emp.var.rate  cons.price.idx  ...  education_university.degree  \\\n",
              "0           1.1          93.994  ...                            0   \n",
              "1           1.1          93.994  ...                            0   \n",
              "2           1.1          93.994  ...                            0   \n",
              "3           1.1          93.994  ...                            0   \n",
              "4           1.1          93.994  ...                            0   \n",
              "\n",
              "   education_unknown  default_unknown  default_yes  housing_unknown  \\\n",
              "0                  0                0            0                0   \n",
              "1                  0                1            0                0   \n",
              "2                  0                0            0                0   \n",
              "3                  0                0            0                0   \n",
              "4                  0                0            0                0   \n",
              "\n",
              "   housing_yes  loan_unknown  loan_yes  poutcome_nonexistent  poutcome_success  \n",
              "0            0             0         0                     1                 0  \n",
              "1            0             0         0                     1                 0  \n",
              "2            1             0         0                     1                 0  \n",
              "3            0             0         0                     1                 0  \n",
              "4            0             0         1                     1                 0  \n",
              "\n",
              "[5 rows x 42 columns]"
            ],
            "text/html": [
              "\n",
              "  <div id=\"df-cd74ccd9-42dd-4c65-b866-4834d0d717d4\">\n",
              "    <div class=\"colab-df-container\">\n",
              "      <div>\n",
              "<style scoped>\n",
              "    .dataframe tbody tr th:only-of-type {\n",
              "        vertical-align: middle;\n",
              "    }\n",
              "\n",
              "    .dataframe tbody tr th {\n",
              "        vertical-align: top;\n",
              "    }\n",
              "\n",
              "    .dataframe thead th {\n",
              "        text-align: right;\n",
              "    }\n",
              "</style>\n",
              "<table border=\"1\" class=\"dataframe\">\n",
              "  <thead>\n",
              "    <tr style=\"text-align: right;\">\n",
              "      <th></th>\n",
              "      <th>age</th>\n",
              "      <th>contact</th>\n",
              "      <th>month</th>\n",
              "      <th>day_of_week</th>\n",
              "      <th>duration</th>\n",
              "      <th>campaign</th>\n",
              "      <th>pdays</th>\n",
              "      <th>previous</th>\n",
              "      <th>emp.var.rate</th>\n",
              "      <th>cons.price.idx</th>\n",
              "      <th>...</th>\n",
              "      <th>education_university.degree</th>\n",
              "      <th>education_unknown</th>\n",
              "      <th>default_unknown</th>\n",
              "      <th>default_yes</th>\n",
              "      <th>housing_unknown</th>\n",
              "      <th>housing_yes</th>\n",
              "      <th>loan_unknown</th>\n",
              "      <th>loan_yes</th>\n",
              "      <th>poutcome_nonexistent</th>\n",
              "      <th>poutcome_success</th>\n",
              "    </tr>\n",
              "  </thead>\n",
              "  <tbody>\n",
              "    <tr>\n",
              "      <th>0</th>\n",
              "      <td>56</td>\n",
              "      <td>0</td>\n",
              "      <td>5</td>\n",
              "      <td>1</td>\n",
              "      <td>261</td>\n",
              "      <td>1</td>\n",
              "      <td>999</td>\n",
              "      <td>0</td>\n",
              "      <td>1.1</td>\n",
              "      <td>93.994</td>\n",
              "      <td>...</td>\n",
              "      <td>0</td>\n",
              "      <td>0</td>\n",
              "      <td>0</td>\n",
              "      <td>0</td>\n",
              "      <td>0</td>\n",
              "      <td>0</td>\n",
              "      <td>0</td>\n",
              "      <td>0</td>\n",
              "      <td>1</td>\n",
              "      <td>0</td>\n",
              "    </tr>\n",
              "    <tr>\n",
              "      <th>1</th>\n",
              "      <td>57</td>\n",
              "      <td>0</td>\n",
              "      <td>5</td>\n",
              "      <td>1</td>\n",
              "      <td>149</td>\n",
              "      <td>1</td>\n",
              "      <td>999</td>\n",
              "      <td>0</td>\n",
              "      <td>1.1</td>\n",
              "      <td>93.994</td>\n",
              "      <td>...</td>\n",
              "      <td>0</td>\n",
              "      <td>0</td>\n",
              "      <td>1</td>\n",
              "      <td>0</td>\n",
              "      <td>0</td>\n",
              "      <td>0</td>\n",
              "      <td>0</td>\n",
              "      <td>0</td>\n",
              "      <td>1</td>\n",
              "      <td>0</td>\n",
              "    </tr>\n",
              "    <tr>\n",
              "      <th>2</th>\n",
              "      <td>37</td>\n",
              "      <td>0</td>\n",
              "      <td>5</td>\n",
              "      <td>1</td>\n",
              "      <td>226</td>\n",
              "      <td>1</td>\n",
              "      <td>999</td>\n",
              "      <td>0</td>\n",
              "      <td>1.1</td>\n",
              "      <td>93.994</td>\n",
              "      <td>...</td>\n",
              "      <td>0</td>\n",
              "      <td>0</td>\n",
              "      <td>0</td>\n",
              "      <td>0</td>\n",
              "      <td>0</td>\n",
              "      <td>1</td>\n",
              "      <td>0</td>\n",
              "      <td>0</td>\n",
              "      <td>1</td>\n",
              "      <td>0</td>\n",
              "    </tr>\n",
              "    <tr>\n",
              "      <th>3</th>\n",
              "      <td>40</td>\n",
              "      <td>0</td>\n",
              "      <td>5</td>\n",
              "      <td>1</td>\n",
              "      <td>151</td>\n",
              "      <td>1</td>\n",
              "      <td>999</td>\n",
              "      <td>0</td>\n",
              "      <td>1.1</td>\n",
              "      <td>93.994</td>\n",
              "      <td>...</td>\n",
              "      <td>0</td>\n",
              "      <td>0</td>\n",
              "      <td>0</td>\n",
              "      <td>0</td>\n",
              "      <td>0</td>\n",
              "      <td>0</td>\n",
              "      <td>0</td>\n",
              "      <td>0</td>\n",
              "      <td>1</td>\n",
              "      <td>0</td>\n",
              "    </tr>\n",
              "    <tr>\n",
              "      <th>4</th>\n",
              "      <td>56</td>\n",
              "      <td>0</td>\n",
              "      <td>5</td>\n",
              "      <td>1</td>\n",
              "      <td>307</td>\n",
              "      <td>1</td>\n",
              "      <td>999</td>\n",
              "      <td>0</td>\n",
              "      <td>1.1</td>\n",
              "      <td>93.994</td>\n",
              "      <td>...</td>\n",
              "      <td>0</td>\n",
              "      <td>0</td>\n",
              "      <td>0</td>\n",
              "      <td>0</td>\n",
              "      <td>0</td>\n",
              "      <td>0</td>\n",
              "      <td>0</td>\n",
              "      <td>1</td>\n",
              "      <td>1</td>\n",
              "      <td>0</td>\n",
              "    </tr>\n",
              "  </tbody>\n",
              "</table>\n",
              "<p>5 rows × 42 columns</p>\n",
              "</div>\n",
              "      <button class=\"colab-df-convert\" onclick=\"convertToInteractive('df-cd74ccd9-42dd-4c65-b866-4834d0d717d4')\"\n",
              "              title=\"Convert this dataframe to an interactive table.\"\n",
              "              style=\"display:none;\">\n",
              "        \n",
              "  <svg xmlns=\"http://www.w3.org/2000/svg\" height=\"24px\"viewBox=\"0 0 24 24\"\n",
              "       width=\"24px\">\n",
              "    <path d=\"M0 0h24v24H0V0z\" fill=\"none\"/>\n",
              "    <path d=\"M18.56 5.44l.94 2.06.94-2.06 2.06-.94-2.06-.94-.94-2.06-.94 2.06-2.06.94zm-11 1L8.5 8.5l.94-2.06 2.06-.94-2.06-.94L8.5 2.5l-.94 2.06-2.06.94zm10 10l.94 2.06.94-2.06 2.06-.94-2.06-.94-.94-2.06-.94 2.06-2.06.94z\"/><path d=\"M17.41 7.96l-1.37-1.37c-.4-.4-.92-.59-1.43-.59-.52 0-1.04.2-1.43.59L10.3 9.45l-7.72 7.72c-.78.78-.78 2.05 0 2.83L4 21.41c.39.39.9.59 1.41.59.51 0 1.02-.2 1.41-.59l7.78-7.78 2.81-2.81c.8-.78.8-2.07 0-2.86zM5.41 20L4 18.59l7.72-7.72 1.47 1.35L5.41 20z\"/>\n",
              "  </svg>\n",
              "      </button>\n",
              "      \n",
              "  <style>\n",
              "    .colab-df-container {\n",
              "      display:flex;\n",
              "      flex-wrap:wrap;\n",
              "      gap: 12px;\n",
              "    }\n",
              "\n",
              "    .colab-df-convert {\n",
              "      background-color: #E8F0FE;\n",
              "      border: none;\n",
              "      border-radius: 50%;\n",
              "      cursor: pointer;\n",
              "      display: none;\n",
              "      fill: #1967D2;\n",
              "      height: 32px;\n",
              "      padding: 0 0 0 0;\n",
              "      width: 32px;\n",
              "    }\n",
              "\n",
              "    .colab-df-convert:hover {\n",
              "      background-color: #E2EBFA;\n",
              "      box-shadow: 0px 1px 2px rgba(60, 64, 67, 0.3), 0px 1px 3px 1px rgba(60, 64, 67, 0.15);\n",
              "      fill: #174EA6;\n",
              "    }\n",
              "\n",
              "    [theme=dark] .colab-df-convert {\n",
              "      background-color: #3B4455;\n",
              "      fill: #D2E3FC;\n",
              "    }\n",
              "\n",
              "    [theme=dark] .colab-df-convert:hover {\n",
              "      background-color: #434B5C;\n",
              "      box-shadow: 0px 1px 3px 1px rgba(0, 0, 0, 0.15);\n",
              "      filter: drop-shadow(0px 1px 2px rgba(0, 0, 0, 0.3));\n",
              "      fill: #FFFFFF;\n",
              "    }\n",
              "  </style>\n",
              "\n",
              "      <script>\n",
              "        const buttonEl =\n",
              "          document.querySelector('#df-cd74ccd9-42dd-4c65-b866-4834d0d717d4 button.colab-df-convert');\n",
              "        buttonEl.style.display =\n",
              "          google.colab.kernel.accessAllowed ? 'block' : 'none';\n",
              "\n",
              "        async function convertToInteractive(key) {\n",
              "          const element = document.querySelector('#df-cd74ccd9-42dd-4c65-b866-4834d0d717d4');\n",
              "          const dataTable =\n",
              "            await google.colab.kernel.invokeFunction('convertToInteractive',\n",
              "                                                     [key], {});\n",
              "          if (!dataTable) return;\n",
              "\n",
              "          const docLinkHtml = 'Like what you see? Visit the ' +\n",
              "            '<a target=\"_blank\" href=https://colab.research.google.com/notebooks/data_table.ipynb>data table notebook</a>'\n",
              "            + ' to learn more about interactive tables.';\n",
              "          element.innerHTML = '';\n",
              "          dataTable['output_type'] = 'display_data';\n",
              "          await google.colab.output.renderOutput(dataTable, element);\n",
              "          const docLink = document.createElement('div');\n",
              "          docLink.innerHTML = docLinkHtml;\n",
              "          element.appendChild(docLink);\n",
              "        }\n",
              "      </script>\n",
              "    </div>\n",
              "  </div>\n",
              "  "
            ]
          },
          "metadata": {},
          "execution_count": 56
        }
      ]
    },
    {
      "cell_type": "markdown",
      "source": [
        "El modelo esta guardado en un archivo binario, para que pueda ser llamado en cualquier bloque de codigo"
      ],
      "metadata": {
        "id": "7f9jW_Uz9FoB"
      }
    },
    {
      "cell_type": "code",
      "source": [
        "pickle_in = open(\"ml_model.pkl\",\"rb\")\n",
        "ml_model = pickle.load(pickle_in)"
      ],
      "metadata": {
        "id": "zHqCUJZ54zeP"
      },
      "execution_count": 57,
      "outputs": []
    },
    {
      "cell_type": "markdown",
      "source": [
        "El modelo realiza las predicciones"
      ],
      "metadata": {
        "id": "1B65lmp39QVx"
      }
    },
    {
      "cell_type": "code",
      "source": [
        "predictions = ml_model.predict(fetchquerypred)\n",
        "fetchquery[\"prediction\"] = predictions"
      ],
      "metadata": {
        "id": "vnz05dzW2Ne4"
      },
      "execution_count": 58,
      "outputs": []
    },
    {
      "cell_type": "markdown",
      "source": [
        "Es necesario agregar una columna en la base de datos para registrar las prediciones"
      ],
      "metadata": {
        "id": "VLiU9pdi9S-R"
      }
    },
    {
      "cell_type": "code",
      "source": [
        "c.execute(''' ALTER TABLE bankmarketing ADD prediction int default 0''')"
      ],
      "metadata": {
        "colab": {
          "base_uri": "https://localhost:8080/"
        },
        "id": "2WcQDD5b6BiJ",
        "outputId": "9d55451a-ca9f-4b52-d794-3046e5db2a13"
      },
      "execution_count": 59,
      "outputs": [
        {
          "output_type": "execute_result",
          "data": {
            "text/plain": [
              "<sqlite3.Cursor at 0x7f8900dccf10>"
            ]
          },
          "metadata": {},
          "execution_count": 59
        }
      ]
    },
    {
      "cell_type": "markdown",
      "source": [
        "Por ultimo, se guardan las predicciones en la db"
      ],
      "metadata": {
        "id": "p95Lm_KS9n4d"
      }
    },
    {
      "cell_type": "code",
      "source": [
        "fetchquery.to_sql('bankmarketing', conn, if_exists='replace', index = False)"
      ],
      "metadata": {
        "id": "97QDoxgD71Xa"
      },
      "execution_count": 60,
      "outputs": []
    }
  ]
}